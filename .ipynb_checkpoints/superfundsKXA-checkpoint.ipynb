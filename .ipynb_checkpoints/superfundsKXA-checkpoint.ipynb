{
 "cells": [
  {
   "cell_type": "code",
   "execution_count": 15,
   "metadata": {
    "collapsed": true
   },
   "outputs": [],
   "source": [
    "import pandas as pd\n",
    "import matplotlib.pyplot as plt\n",
    "import numpy as np\n",
    "import requests"
   ]
  },
  {
   "cell_type": "code",
   "execution_count": 20,
   "metadata": {},
   "outputs": [],
   "source": [
    "sf = pd.read_csv(\"resources/quick.csv\" , dtype={'Zip': str}, encoding=\"iso-8859-1\") #, \"Latitude\":float\n",
    "# sf[\"Latitude\"].str.replace(\"\\u202d+\",\"\")\n",
    "# .astype(np.float64)\n",
    "# sf[\"Latitude\"] = sf[\"Latitude\"].str.decode(\"unicode_escape\")\n",
    "# sf[\"Longitude\"] = sf[\"Longitude\"].str.decode(\"unicode_escape\")\n",
    "# sf[\"Latitude\"] = float(sf[\"Latitude\"])\n",
    "sf.head()"
   ]
  },
  {
   "cell_type": "code",
   "execution_count": null,
   "metadata": {},
   "outputs": [],
   "source": [
    "sf[\"Latitude\"] = sf[\"Latitude\"].str.encode(\"ascii\", \"ignore\")\n",
    "sf[\"Longitude\"] = sf[\"Longitude\"].str.encode(\"ascii\", \"ignore\")\n",
    "# sf[\"Latitude\"] = float(sf[\"Latitude\"])\n",
    "sf.head()"
   ]
  },
  {
   "cell_type": "code",
   "execution_count": null,
   "metadata": {
    "collapsed": true
   },
   "outputs": [],
   "source": [
    "njsf = sf[sf[\"St\"]==\"NJ\"]"
   ]
  },
  {
   "cell_type": "code",
   "execution_count": null,
   "metadata": {},
   "outputs": [],
   "source": [
    "sf[\"Latitude\"].sort_values(ascending=True).head()"
   ]
  },
  {
   "cell_type": "code",
   "execution_count": null,
   "metadata": {},
   "outputs": [],
   "source": [
    "sf.loc[1104]"
   ]
  },
  {
   "cell_type": "code",
   "execution_count": null,
   "metadata": {},
   "outputs": [],
   "source": [
    "sf.loc[756]"
   ]
  },
  {
   "cell_type": "code",
   "execution_count": null,
   "metadata": {
    "collapsed": true
   },
   "outputs": [],
   "source": [
    "sf=sf.drop(sf.index[1104])\n",
    "sf=sf.drop(sf.index[756])"
   ]
  },
  {
   "cell_type": "code",
   "execution_count": null,
   "metadata": {},
   "outputs": [],
   "source": [
    "sf[\"Longitude\"].sort_values()"
   ]
  },
  {
   "cell_type": "code",
   "execution_count": null,
   "metadata": {
    "collapsed": true
   },
   "outputs": [],
   "source": [
    "sf=sf.drop(sf.index[1335]) #these were NaN\n",
    "sf=sf.drop(sf.index[1334])"
   ]
  },
  {
   "cell_type": "code",
   "execution_count": null,
   "metadata": {
    "scrolled": true
   },
   "outputs": [],
   "source": [
    "plt.scatter(sf[\"Longitude\"], sf[\"Latitude\"])\n",
    "plt.show()"
   ]
  },
  {
   "cell_type": "code",
   "execution_count": null,
   "metadata": {},
   "outputs": [],
   "source": [
    "sf[]"
   ]
  },
  {
   "cell_type": "code",
   "execution_count": null,
   "metadata": {},
   "outputs": [],
   "source": [
    "queryUrl = \"http://data.fcc.gov/api/block/find?format=json&showall=true\"\n",
    "\n",
    "for index, row in sf[sf[\"St\"]==\"AK\"].iterrows():\n",
    "    print(\"-----------------------------------------------------------\")\n",
    "\n",
    "    lat = \"&latitude=\" + str(row[\"Latitude\"].decode(\"utf-8\"))\n",
    "    lng = \"&longitude=\" + str(row[\"Longitude\"].decode(\"utf-8\"))\n",
    "\n",
    "    print(queryUrl+lat+lng)\n",
    "\n",
    "    try:\n",
    "        response = requests.get(queryUrl+lat+lng).json()\n",
    "        print(response)\n",
    "    except:\n",
    "        print(row[\"Latitude\"]+\" \"+row[\"Longitude\"]+ \" issue\")\n",
    "    "
   ]
  },
  {
   "cell_type": "code",
   "execution_count": null,
   "metadata": {
    "collapsed": true
   },
   "outputs": [],
   "source": []
  }
 ],
 "metadata": {
  "kernelspec": {
   "display_name": "Python [conda env:PythonData]",
   "language": "python",
   "name": "conda-env-PythonData-py"
  },
  "language_info": {
   "codemirror_mode": {
    "name": "ipython",
    "version": 3
   },
   "file_extension": ".py",
   "mimetype": "text/x-python",
   "name": "python",
   "nbconvert_exporter": "python",
   "pygments_lexer": "ipython3",
   "version": "3.6.1"
  }
 },
 "nbformat": 4,
 "nbformat_minor": 2
}
