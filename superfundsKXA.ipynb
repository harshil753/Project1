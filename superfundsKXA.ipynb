{
 "cells": [
  {
   "cell_type": "code",
   "execution_count": 56,
   "metadata": {
    "collapsed": true
   },
   "outputs": [],
   "source": [
    "import pandas as pd\n",
    "import matplotlib.pyplot as plt\n",
    "import numpy as np\n",
    "import requests"
   ]
  },
  {
   "cell_type": "code",
   "execution_count": 57,
   "metadata": {},
   "outputs": [
    {
     "data": {
      "text/html": [
       "<div>\n",
       "<style>\n",
       "    .dataframe thead tr:only-child th {\n",
       "        text-align: right;\n",
       "    }\n",
       "\n",
       "    .dataframe thead th {\n",
       "        text-align: left;\n",
       "    }\n",
       "\n",
       "    .dataframe tbody tr th {\n",
       "        vertical-align: top;\n",
       "    }\n",
       "</style>\n",
       "<table border=\"1\" class=\"dataframe\">\n",
       "  <thead>\n",
       "    <tr style=\"text-align: right;\">\n",
       "      <th></th>\n",
       "      <th>Reg</th>\n",
       "      <th>St</th>\n",
       "      <th>Site Name</th>\n",
       "      <th>Unnamed: 3</th>\n",
       "      <th>Site ID</th>\n",
       "      <th>EPA ID</th>\n",
       "      <th>Address</th>\n",
       "      <th>City</th>\n",
       "      <th>Zip</th>\n",
       "      <th>County</th>\n",
       "      <th>Unnamed: 10</th>\n",
       "      <th>Unnamed: 11</th>\n",
       "      <th>FF?</th>\n",
       "      <th>Latitude</th>\n",
       "      <th>Longitude</th>\n",
       "      <th>Final Date</th>\n",
       "      <th>Unnamed: 16</th>\n",
       "      <th>Unnamed: 17</th>\n",
       "    </tr>\n",
       "  </thead>\n",
       "  <tbody>\n",
       "    <tr>\n",
       "      <th>0</th>\n",
       "      <td>‭01‬</td>\n",
       "      <td>CT</td>\n",
       "      <td>BARKHAMSTED-NEW HARTFORD LANDFILL</td>\n",
       "      <td>NaN</td>\n",
       "      <td>‭0100255‬</td>\n",
       "      <td>CTD980732333</td>\n",
       "      <td>ROUTE 44</td>\n",
       "      <td>BARKHAMSTED</td>\n",
       "      <td>06063</td>\n",
       "      <td>LITCHFIELD</td>\n",
       "      <td>NaN</td>\n",
       "      <td>NaN</td>\n",
       "      <td>N</td>\n",
       "      <td>‭+41.980550‬</td>\n",
       "      <td>‭-073.047220‬</td>\n",
       "      <td>10/04/89</td>\n",
       "      <td>NaN</td>\n",
       "      <td>NaN</td>\n",
       "    </tr>\n",
       "    <tr>\n",
       "      <th>1</th>\n",
       "      <td>‭01‬</td>\n",
       "      <td>CT</td>\n",
       "      <td>BEACON HEIGHTS LANDFILL</td>\n",
       "      <td>NaN</td>\n",
       "      <td>‭0100180‬</td>\n",
       "      <td>CTD072122062</td>\n",
       "      <td>BLACKBERRY HILL ROAD</td>\n",
       "      <td>BEACON FALLS</td>\n",
       "      <td>06403</td>\n",
       "      <td>NEW HAVEN</td>\n",
       "      <td>NaN</td>\n",
       "      <td>NaN</td>\n",
       "      <td>N</td>\n",
       "      <td>‭+41.431950‬</td>\n",
       "      <td>‭-073.035280‬</td>\n",
       "      <td>09/08/83</td>\n",
       "      <td>NaN</td>\n",
       "      <td>NaN</td>\n",
       "    </tr>\n",
       "    <tr>\n",
       "      <th>2</th>\n",
       "      <td>‭01‬</td>\n",
       "      <td>CT</td>\n",
       "      <td>DURHAM MEADOWS</td>\n",
       "      <td>NaN</td>\n",
       "      <td>‭0100108‬</td>\n",
       "      <td>CTD001452093</td>\n",
       "      <td>124 MAIN ST</td>\n",
       "      <td>DURHAM</td>\n",
       "      <td>06422</td>\n",
       "      <td>MIDDLESEX</td>\n",
       "      <td>NaN</td>\n",
       "      <td>NaN</td>\n",
       "      <td>N</td>\n",
       "      <td>‭+41.481110‬</td>\n",
       "      <td>‭-072.681380‬</td>\n",
       "      <td>10/04/89</td>\n",
       "      <td>NaN</td>\n",
       "      <td>NaN</td>\n",
       "    </tr>\n",
       "    <tr>\n",
       "      <th>3</th>\n",
       "      <td>‭01‬</td>\n",
       "      <td>CT</td>\n",
       "      <td>GALLUP'S QUARRY</td>\n",
       "      <td>NaN</td>\n",
       "      <td>‭0100201‬</td>\n",
       "      <td>CTD108960972</td>\n",
       "      <td>ROUTE 12</td>\n",
       "      <td>PLAINFIELD</td>\n",
       "      <td>06374</td>\n",
       "      <td>WINDHAM</td>\n",
       "      <td>NaN</td>\n",
       "      <td>NaN</td>\n",
       "      <td>N</td>\n",
       "      <td>‭+41.665280‬</td>\n",
       "      <td>‭-071.924160‬</td>\n",
       "      <td>10/04/89</td>\n",
       "      <td>NaN</td>\n",
       "      <td>NaN</td>\n",
       "    </tr>\n",
       "    <tr>\n",
       "      <th>4</th>\n",
       "      <td>‭01‬</td>\n",
       "      <td>CT</td>\n",
       "      <td>KELLOGG-DEERING WELL FIELD</td>\n",
       "      <td>NaN</td>\n",
       "      <td>‭0100252‬</td>\n",
       "      <td>CTD980670814</td>\n",
       "      <td>NORWALK WATER DEPARTMENT</td>\n",
       "      <td>NORWALK</td>\n",
       "      <td>06856</td>\n",
       "      <td>FAIRFIELD</td>\n",
       "      <td>NaN</td>\n",
       "      <td>NaN</td>\n",
       "      <td>N</td>\n",
       "      <td>‭+41.130550‬</td>\n",
       "      <td>‭-073.431950‬</td>\n",
       "      <td>09/21/84</td>\n",
       "      <td>NaN</td>\n",
       "      <td>NaN</td>\n",
       "    </tr>\n",
       "  </tbody>\n",
       "</table>\n",
       "</div>"
      ],
      "text/plain": [
       "    Reg  St  \\\n",
       "0  ‭01‬  CT   \n",
       "1  ‭01‬  CT   \n",
       "2  ‭01‬  CT   \n",
       "3  ‭01‬  CT   \n",
       "4  ‭01‬  CT   \n",
       "\n",
       "  Site Name                                                                  \\\n",
       "0                  BARKHAMSTED-NEW HARTFORD LANDFILL                          \n",
       "1                            BEACON HEIGHTS LANDFILL                          \n",
       "2                                     DURHAM MEADOWS                          \n",
       "3                                    GALLUP'S QUARRY                          \n",
       "4                         KELLOGG-DEERING WELL FIELD                          \n",
       "\n",
       "   Unnamed: 3    Site ID        EPA ID                    Address  \\\n",
       "0         NaN  ‭0100255‬  CTD980732333                  ROUTE 44    \n",
       "1         NaN  ‭0100180‬  CTD072122062      BLACKBERRY HILL ROAD    \n",
       "2         NaN  ‭0100108‬  CTD001452093               124 MAIN ST    \n",
       "3         NaN  ‭0100201‬  CTD108960972                  ROUTE 12    \n",
       "4         NaN  ‭0100252‬  CTD980670814  NORWALK WATER DEPARTMENT    \n",
       "\n",
       "           City    Zip      County  Unnamed: 10  Unnamed: 11 FF?  \\\n",
       "0   BARKHAMSTED  06063  LITCHFIELD          NaN          NaN   N   \n",
       "1  BEACON FALLS  06403   NEW HAVEN          NaN          NaN   N   \n",
       "2        DURHAM  06422   MIDDLESEX          NaN          NaN   N   \n",
       "3    PLAINFIELD  06374     WINDHAM          NaN          NaN   N   \n",
       "4       NORWALK  06856   FAIRFIELD          NaN          NaN   N   \n",
       "\n",
       "       Latitude       Longitude Final Date  Unnamed: 16  Unnamed: 17  \n",
       "0  ‭+41.980550‬  ‭-073.047220‬    10/04/89          NaN          NaN  \n",
       "1  ‭+41.431950‬  ‭-073.035280‬    09/08/83          NaN          NaN  \n",
       "2  ‭+41.481110‬  ‭-072.681380‬    10/04/89          NaN          NaN  \n",
       "3  ‭+41.665280‬  ‭-071.924160‬    10/04/89          NaN          NaN  \n",
       "4  ‭+41.130550‬  ‭-073.431950‬    09/21/84          NaN          NaN  "
      ]
     },
     "execution_count": 57,
     "metadata": {},
     "output_type": "execute_result"
    }
   ],
   "source": [
    "sf = pd.read_csv(\"resources/superfunddata.csv\" , dtype={'Zip': str}) #, \"Latitude\":float\n",
    "# sf[\"Latitude\"].str.replace(\"\\u202d+\",\"\")\n",
    "# .astype(np.float64)\n",
    "# sf[\"Latitude\"] = sf[\"Latitude\"].str.decode(\"unicode_escape\")\n",
    "# sf[\"Longitude\"] = sf[\"Longitude\"].str.decode(\"unicode_escape\")\n",
    "# sf[\"Latitude\"] = float(sf[\"Latitude\"])\n",
    "sf.head()"
   ]
  },
  {
   "cell_type": "code",
   "execution_count": 58,
   "metadata": {},
   "outputs": [
    {
     "data": {
      "text/html": [
       "<div>\n",
       "<style>\n",
       "    .dataframe thead tr:only-child th {\n",
       "        text-align: right;\n",
       "    }\n",
       "\n",
       "    .dataframe thead th {\n",
       "        text-align: left;\n",
       "    }\n",
       "\n",
       "    .dataframe tbody tr th {\n",
       "        vertical-align: top;\n",
       "    }\n",
       "</style>\n",
       "<table border=\"1\" class=\"dataframe\">\n",
       "  <thead>\n",
       "    <tr style=\"text-align: right;\">\n",
       "      <th></th>\n",
       "      <th>Reg</th>\n",
       "      <th>St</th>\n",
       "      <th>Site Name</th>\n",
       "      <th>Unnamed: 3</th>\n",
       "      <th>Site ID</th>\n",
       "      <th>EPA ID</th>\n",
       "      <th>Address</th>\n",
       "      <th>City</th>\n",
       "      <th>Zip</th>\n",
       "      <th>County</th>\n",
       "      <th>Unnamed: 10</th>\n",
       "      <th>Unnamed: 11</th>\n",
       "      <th>FF?</th>\n",
       "      <th>Latitude</th>\n",
       "      <th>Longitude</th>\n",
       "      <th>Final Date</th>\n",
       "      <th>Unnamed: 16</th>\n",
       "      <th>Unnamed: 17</th>\n",
       "    </tr>\n",
       "  </thead>\n",
       "  <tbody>\n",
       "    <tr>\n",
       "      <th>0</th>\n",
       "      <td>‭01‬</td>\n",
       "      <td>CT</td>\n",
       "      <td>BARKHAMSTED-NEW HARTFORD LANDFILL</td>\n",
       "      <td>NaN</td>\n",
       "      <td>‭0100255‬</td>\n",
       "      <td>CTD980732333</td>\n",
       "      <td>ROUTE 44</td>\n",
       "      <td>BARKHAMSTED</td>\n",
       "      <td>06063</td>\n",
       "      <td>LITCHFIELD</td>\n",
       "      <td>NaN</td>\n",
       "      <td>NaN</td>\n",
       "      <td>N</td>\n",
       "      <td>b'+41.980550'</td>\n",
       "      <td>b'-073.047220 '</td>\n",
       "      <td>10/04/89</td>\n",
       "      <td>NaN</td>\n",
       "      <td>NaN</td>\n",
       "    </tr>\n",
       "    <tr>\n",
       "      <th>1</th>\n",
       "      <td>‭01‬</td>\n",
       "      <td>CT</td>\n",
       "      <td>BEACON HEIGHTS LANDFILL</td>\n",
       "      <td>NaN</td>\n",
       "      <td>‭0100180‬</td>\n",
       "      <td>CTD072122062</td>\n",
       "      <td>BLACKBERRY HILL ROAD</td>\n",
       "      <td>BEACON FALLS</td>\n",
       "      <td>06403</td>\n",
       "      <td>NEW HAVEN</td>\n",
       "      <td>NaN</td>\n",
       "      <td>NaN</td>\n",
       "      <td>N</td>\n",
       "      <td>b'+41.431950'</td>\n",
       "      <td>b'-073.035280 '</td>\n",
       "      <td>09/08/83</td>\n",
       "      <td>NaN</td>\n",
       "      <td>NaN</td>\n",
       "    </tr>\n",
       "    <tr>\n",
       "      <th>2</th>\n",
       "      <td>‭01‬</td>\n",
       "      <td>CT</td>\n",
       "      <td>DURHAM MEADOWS</td>\n",
       "      <td>NaN</td>\n",
       "      <td>‭0100108‬</td>\n",
       "      <td>CTD001452093</td>\n",
       "      <td>124 MAIN ST</td>\n",
       "      <td>DURHAM</td>\n",
       "      <td>06422</td>\n",
       "      <td>MIDDLESEX</td>\n",
       "      <td>NaN</td>\n",
       "      <td>NaN</td>\n",
       "      <td>N</td>\n",
       "      <td>b'+41.481110'</td>\n",
       "      <td>b'-072.681380 '</td>\n",
       "      <td>10/04/89</td>\n",
       "      <td>NaN</td>\n",
       "      <td>NaN</td>\n",
       "    </tr>\n",
       "    <tr>\n",
       "      <th>3</th>\n",
       "      <td>‭01‬</td>\n",
       "      <td>CT</td>\n",
       "      <td>GALLUP'S QUARRY</td>\n",
       "      <td>NaN</td>\n",
       "      <td>‭0100201‬</td>\n",
       "      <td>CTD108960972</td>\n",
       "      <td>ROUTE 12</td>\n",
       "      <td>PLAINFIELD</td>\n",
       "      <td>06374</td>\n",
       "      <td>WINDHAM</td>\n",
       "      <td>NaN</td>\n",
       "      <td>NaN</td>\n",
       "      <td>N</td>\n",
       "      <td>b'+41.665280'</td>\n",
       "      <td>b'-071.924160 '</td>\n",
       "      <td>10/04/89</td>\n",
       "      <td>NaN</td>\n",
       "      <td>NaN</td>\n",
       "    </tr>\n",
       "    <tr>\n",
       "      <th>4</th>\n",
       "      <td>‭01‬</td>\n",
       "      <td>CT</td>\n",
       "      <td>KELLOGG-DEERING WELL FIELD</td>\n",
       "      <td>NaN</td>\n",
       "      <td>‭0100252‬</td>\n",
       "      <td>CTD980670814</td>\n",
       "      <td>NORWALK WATER DEPARTMENT</td>\n",
       "      <td>NORWALK</td>\n",
       "      <td>06856</td>\n",
       "      <td>FAIRFIELD</td>\n",
       "      <td>NaN</td>\n",
       "      <td>NaN</td>\n",
       "      <td>N</td>\n",
       "      <td>b'+41.130550'</td>\n",
       "      <td>b'-073.431950 '</td>\n",
       "      <td>09/21/84</td>\n",
       "      <td>NaN</td>\n",
       "      <td>NaN</td>\n",
       "    </tr>\n",
       "  </tbody>\n",
       "</table>\n",
       "</div>"
      ],
      "text/plain": [
       "    Reg  St  \\\n",
       "0  ‭01‬  CT   \n",
       "1  ‭01‬  CT   \n",
       "2  ‭01‬  CT   \n",
       "3  ‭01‬  CT   \n",
       "4  ‭01‬  CT   \n",
       "\n",
       "  Site Name                                                                  \\\n",
       "0                  BARKHAMSTED-NEW HARTFORD LANDFILL                          \n",
       "1                            BEACON HEIGHTS LANDFILL                          \n",
       "2                                     DURHAM MEADOWS                          \n",
       "3                                    GALLUP'S QUARRY                          \n",
       "4                         KELLOGG-DEERING WELL FIELD                          \n",
       "\n",
       "   Unnamed: 3    Site ID        EPA ID                    Address  \\\n",
       "0         NaN  ‭0100255‬  CTD980732333                  ROUTE 44    \n",
       "1         NaN  ‭0100180‬  CTD072122062      BLACKBERRY HILL ROAD    \n",
       "2         NaN  ‭0100108‬  CTD001452093               124 MAIN ST    \n",
       "3         NaN  ‭0100201‬  CTD108960972                  ROUTE 12    \n",
       "4         NaN  ‭0100252‬  CTD980670814  NORWALK WATER DEPARTMENT    \n",
       "\n",
       "           City    Zip      County  Unnamed: 10  Unnamed: 11 FF?  \\\n",
       "0   BARKHAMSTED  06063  LITCHFIELD          NaN          NaN   N   \n",
       "1  BEACON FALLS  06403   NEW HAVEN          NaN          NaN   N   \n",
       "2        DURHAM  06422   MIDDLESEX          NaN          NaN   N   \n",
       "3    PLAINFIELD  06374     WINDHAM          NaN          NaN   N   \n",
       "4       NORWALK  06856   FAIRFIELD          NaN          NaN   N   \n",
       "\n",
       "        Latitude        Longitude Final Date  Unnamed: 16  Unnamed: 17  \n",
       "0  b'+41.980550'  b'-073.047220 '   10/04/89          NaN          NaN  \n",
       "1  b'+41.431950'  b'-073.035280 '   09/08/83          NaN          NaN  \n",
       "2  b'+41.481110'  b'-072.681380 '   10/04/89          NaN          NaN  \n",
       "3  b'+41.665280'  b'-071.924160 '   10/04/89          NaN          NaN  \n",
       "4  b'+41.130550'  b'-073.431950 '   09/21/84          NaN          NaN  "
      ]
     },
     "execution_count": 58,
     "metadata": {},
     "output_type": "execute_result"
    }
   ],
   "source": [
    "sf[\"Latitude\"] = sf[\"Latitude\"].str.encode(\"ascii\", \"ignore\")\n",
    "sf[\"Longitude\"] = sf[\"Longitude\"].str.encode(\"ascii\", \"ignore\")\n",
    "# sf[\"Latitude\"] = float(sf[\"Latitude\"])\n",
    "sf.head()"
   ]
  },
  {
   "cell_type": "code",
   "execution_count": 59,
   "metadata": {
    "collapsed": true
   },
   "outputs": [],
   "source": [
    "njsf = sf[sf[\"St\"]==\"NJ\"]"
   ]
  },
  {
   "cell_type": "code",
   "execution_count": 60,
   "metadata": {},
   "outputs": [
    {
     "data": {
      "text/plain": [
       "1104              b''\n",
       "756               b''\n",
       "1255    b'+13.439160'\n",
       "1254    b'+13.572910'\n",
       "307     b'+17.963200'\n",
       "Name: Latitude, dtype: object"
      ]
     },
     "execution_count": 60,
     "metadata": {},
     "output_type": "execute_result"
    }
   ],
   "source": [
    "sf[\"Latitude\"].sort_values(ascending=True).head()"
   ]
  },
  {
   "cell_type": "code",
   "execution_count": 61,
   "metadata": {},
   "outputs": [
    {
     "data": {
      "text/plain": [
       "Reg                                                                                                                     ‭08‬\n",
       "St                                                                                                                        CO\n",
       "Site Name                                                                                 NELSON TUNNEL/COMMODORE WASTE ROCK\n",
       "Unnamed: 3                                                                                                               NaN\n",
       "Site ID                                                                                                            ‭0802630‬\n",
       "EPA ID                                                                                                          CON000802630\n",
       "Address                                                                      NATIONAL FOREST ROAD 503.4 1 MILE NORTH OF TOWN\n",
       "City                                                                                                                  Creede\n",
       "Zip                                                                                                                    81130\n",
       "County                                                                                                               MINERAL\n",
       "Unnamed: 10                                                                                                              NaN\n",
       "Unnamed: 11                                                                                                              NaN\n",
       "FF?                                                                                                                        N\n",
       "Latitude                                                                                                                 b''\n",
       "Longitude                                                                                                               b' '\n",
       "Final Date                                                                                                          09/03/08\n",
       "Unnamed: 16                                                                                                              NaN\n",
       "Unnamed: 17                                                                                                              NaN\n",
       "Name: 1104, dtype: object"
      ]
     },
     "execution_count": 61,
     "metadata": {},
     "output_type": "execute_result"
    }
   ],
   "source": [
    "sf.loc[1104]"
   ]
  },
  {
   "cell_type": "code",
   "execution_count": 62,
   "metadata": {},
   "outputs": [
    {
     "data": {
      "text/plain": [
       "Reg                                                                                                                       ‭05‬\n",
       "St                                                                                                                          IN\n",
       "Site Name                                                                            WEST VERMONT DRINKING WATER CONTAMINATION\n",
       "Unnamed: 3                                                                                                                 NaN\n",
       "Site ID                                                                                                              ‭0510429‬\n",
       "EPA ID                                                                                                            INN000510429\n",
       "Address                                                                      INTERSECTION OF WEST VERMONT ST AND COSSELL ROAD \n",
       "City                                                                                                              INDIANAPOLIS\n",
       "Zip                                                                                                                      46222\n",
       "County                                                                                                                  MARION\n",
       "Unnamed: 10                                                                                                                NaN\n",
       "Unnamed: 11                                                                                                                NaN\n",
       "FF?                                                                                                                          N\n",
       "Latitude                                                                                                                   b''\n",
       "Longitude                                                                                                                 b' '\n",
       "Final Date                                                                                                            09/09/16\n",
       "Unnamed: 16                                                                                                                NaN\n",
       "Unnamed: 17                                                                                                                NaN\n",
       "Name: 756, dtype: object"
      ]
     },
     "execution_count": 62,
     "metadata": {},
     "output_type": "execute_result"
    }
   ],
   "source": [
    "sf.loc[756]"
   ]
  },
  {
   "cell_type": "code",
   "execution_count": 63,
   "metadata": {
    "collapsed": true
   },
   "outputs": [],
   "source": [
    "sf=sf.drop(sf.index[1104])\n",
    "sf=sf.drop(sf.index[756])"
   ]
  },
  {
   "cell_type": "code",
   "execution_count": 64,
   "metadata": {},
   "outputs": [
    {
     "data": {
      "text/plain": [
       "319     b'-064.885000 '\n",
       "302     b'-065.310600 '\n",
       "310     b'-065.905417 '\n",
       "309     b'-065.908700 '\n",
       "308     b'-066.100972 '\n",
       "307     b'-066.146100 '\n",
       "304     b'-066.161940 '\n",
       "315     b'-066.231940 '\n",
       "305     b'-066.286204 '\n",
       "317     b'-066.330280 '\n",
       "318     b'-066.389720 '\n",
       "313     b'-066.458000 '\n",
       "316     b'-066.590100 '\n",
       "312     b'-066.600000 '\n",
       "311     b'-066.694724 '\n",
       "314     b'-067.033904 '\n",
       "303     b'-067.148058 '\n",
       "48      b'-067.358330 '\n",
       "52      b'-067.883880 '\n",
       "47      b'-068.810130 '\n",
       "57      b'-069.182220 '\n",
       "56      b'-069.189020 '\n",
       "49      b'-069.261110 '\n",
       "58      b'-069.988330 '\n",
       "51      b'-070.081391 '\n",
       "53      b'-070.294200 '\n",
       "55      b'-070.481500 '\n",
       "34      b'-070.521380 '\n",
       "54      b'-070.741660 '\n",
       "62      b'-070.817210 '\n",
       "             ...       \n",
       "1083     b'-96.453330 '\n",
       "967      b'-96.562220 '\n",
       "960      b'-96.779720 '\n",
       "1002     b'-96.872500 '\n",
       "977      b'-97.179300 '\n",
       "963      b'-97.401490 '\n",
       "1081     b'-97.416667 '\n",
       "1089     b'-97.421380 '\n",
       "1001     b'-97.438050 '\n",
       "966      b'-97.450000 '\n",
       "969      b'-97.508600 '\n",
       "1004     b'-97.525000 '\n",
       "1087     b'-97.580610 '\n",
       "959      b'-97.580900 '\n",
       "1088     b'-97.600360 '\n",
       "1082     b'-97.690000 '\n",
       "974      b'-98.086390 '\n",
       "961      b'-98.193330 '\n",
       "989      b'-98.225440 '\n",
       "1077     b'-98.347770 '\n",
       "976      b'-98.350042 '\n",
       "1086     b'-98.365000 '\n",
       "1080     b'-98.383330 '\n",
       "1090     b'-98.408411 '\n",
       "1079     b'-98.415550 '\n",
       "1078     b'-98.492500 '\n",
       "968      b'-98.620500 '\n",
       "1039     b'-98.849460 '\n",
       "1336                NaN\n",
       "1337                NaN\n",
       "Name: Longitude, Length: 1336, dtype: object"
      ]
     },
     "execution_count": 64,
     "metadata": {},
     "output_type": "execute_result"
    }
   ],
   "source": [
    "sf[\"Longitude\"].sort_values()"
   ]
  },
  {
   "cell_type": "code",
   "execution_count": 65,
   "metadata": {
    "collapsed": true
   },
   "outputs": [],
   "source": [
    "sf=sf.drop(sf.index[1335]) #these were NaN\n",
    "sf=sf.drop(sf.index[1334])"
   ]
  },
  {
   "cell_type": "code",
   "execution_count": 66,
   "metadata": {
    "scrolled": true
   },
   "outputs": [
    {
     "data": {
      "image/png": "[encoded data removed]",
      "text/plain": [
       "<matplotlib.figure.Figure at 0xbe818f0>"
      ]
     },
     "metadata": {},
     "output_type": "display_data"
    }
   ],
   "source": [
    "plt.scatter(sf[\"Longitude\"], sf[\"Latitude\"])\n",
    "plt.show()"
   ]
  },
  {
   "cell_type": "code",
   "execution_count": 67,
   "metadata": {},
   "outputs": [
    {
     "ename": "SyntaxError",
     "evalue": "invalid syntax (<ipython-input-67-3800d2a50075>, line 1)",
     "output_type": "error",
     "traceback": [
      "\u001b[1;36m  File \u001b[1;32m\"<ipython-input-67-3800d2a50075>\"\u001b[1;36m, line \u001b[1;32m1\u001b[0m\n\u001b[1;33m    sf[]\u001b[0m\n\u001b[1;37m       ^\u001b[0m\n\u001b[1;31mSyntaxError\u001b[0m\u001b[1;31m:\u001b[0m invalid syntax\n"
     ]
    }
   ],
   "source": [
    "sf[]"
   ]
  },
  {
   "cell_type": "code",
   "execution_count": null,
   "metadata": {
    "collapsed": true
   },
   "outputs": [],
   "source": [
    "queryUrl = \"http://data.fcc.gov/api/block/find?format=json&showall=true\"\n",
    "\n",
    "for index, row in sf[sf[\"St\"]==\"AK\"].iterrows():\n",
    "    print(\"-----------------------------------------------------------\")\n",
    "\n",
    "    lat = \"&latitude=\" + str(row[\"Latitude\"].decode(\"utf-8\"))\n",
    "    lng = \"&longitude=\" + str(row[\"Longitude\"].decode(\"utf-8\"))\n",
    "\n",
    "    print(queryUrl+lat+lng)\n",
    "\n",
    "    try:\n",
    "        response = requests.get(queryUrl+lat+lng).json()\n",
    "        print(response)\n",
    "    except:\n",
    "        print(row[\"Latitude\"]+\" \"+row[\"Longitude\"]+ \" issue\")\n",
    "    "
   ]
  },
  {
   "cell_type": "code",
   "execution_count": null,
   "metadata": {},
   "outputs": [],
   "source": [
    "file = \"resources/deletedsites.csv\"\n",
    "deleted_df = pd.read_csv(file)\n",
    "deleted_df.head()"
   ]
  },
  {
   "cell_type": "code",
   "execution_count": null,
   "metadata": {},
   "outputs": [],
   "source": []
  },
  {
   "cell_type": "code",
   "execution_count": null,
   "metadata": {
    "collapsed": true
   },
   "outputs": [],
   "source": []
  }
 ],
 "metadata": {
  "kernelspec": {
   "display_name": "Python [conda env:PythonData]",
   "language": "python",
   "name": "conda-env-PythonData-py"
  },
  "language_info": {
   "codemirror_mode": {
    "name": "ipython",
    "version": 3
   },
   "file_extension": ".py",
   "mimetype": "text/x-python",
   "name": "python",
   "nbconvert_exporter": "python",
   "pygments_lexer": "ipython3",
   "version": "3.6.1"
  }
 },
 "nbformat": 4,
 "nbformat_minor": 2
}
