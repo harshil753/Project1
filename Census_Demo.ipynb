{
 "cells": [
  {
   "cell_type": "code",
   "execution_count": 1,
   "metadata": {
    "collapsed": true
   },
   "outputs": [],
   "source": [
    "# Dependencies\n",
    "import numpy as np\n",
    "import pandas as pd\n",
    "import matplotlib.pyplot as plt \n",
    "import requests\n",
    "from census import Census\n",
    "from us import states\n",
    "\n",
    "# Census API Key\n",
    "c = Census(\"85ac64b6b5a9c0901b00329d1ef41f0c53ccfc98\", year=2015)"
   ]
  },
  {
   "cell_type": "code",
   "execution_count": 11,
   "metadata": {},
   "outputs": [
    {
     "name": "stdout",
     "output_type": "stream",
     "text": [
      "33120\n"
     ]
    },
    {
     "data": {
      "text/html": [
       "<div>\n",
       "<style>\n",
       "    .dataframe thead tr:only-child th {\n",
       "        text-align: right;\n",
       "    }\n",
       "\n",
       "    .dataframe thead th {\n",
       "        text-align: left;\n",
       "    }\n",
       "\n",
       "    .dataframe tbody tr th {\n",
       "        vertical-align: top;\n",
       "    }\n",
       "</style>\n",
       "<table border=\"1\" class=\"dataframe\">\n",
       "  <thead>\n",
       "    <tr style=\"text-align: right;\">\n",
       "      <th></th>\n",
       "      <th>B01002_001E</th>\n",
       "      <th>B01003_001E</th>\n",
       "      <th>B17001_002E</th>\n",
       "      <th>B19013_001E</th>\n",
       "      <th>B19301_001E</th>\n",
       "      <th>NAME</th>\n",
       "      <th>zip code tabulation area</th>\n",
       "    </tr>\n",
       "  </thead>\n",
       "  <tbody>\n",
       "    <tr>\n",
       "      <th>0</th>\n",
       "      <td>36.6</td>\n",
       "      <td>18450</td>\n",
       "      <td>10816</td>\n",
       "      <td>12041</td>\n",
       "      <td>7380</td>\n",
       "      <td>ZCTA5 00601</td>\n",
       "      <td>00601</td>\n",
       "    </tr>\n",
       "    <tr>\n",
       "      <th>1</th>\n",
       "      <td>38.6</td>\n",
       "      <td>41302</td>\n",
       "      <td>22409</td>\n",
       "      <td>15663</td>\n",
       "      <td>8463</td>\n",
       "      <td>ZCTA5 00602</td>\n",
       "      <td>00602</td>\n",
       "    </tr>\n",
       "    <tr>\n",
       "      <th>2</th>\n",
       "      <td>38.9</td>\n",
       "      <td>53683</td>\n",
       "      <td>26220</td>\n",
       "      <td>15485</td>\n",
       "      <td>9176</td>\n",
       "      <td>ZCTA5 00603</td>\n",
       "      <td>00603</td>\n",
       "    </tr>\n",
       "    <tr>\n",
       "      <th>3</th>\n",
       "      <td>37.3</td>\n",
       "      <td>6591</td>\n",
       "      <td>3721</td>\n",
       "      <td>15019</td>\n",
       "      <td>6383</td>\n",
       "      <td>ZCTA5 00606</td>\n",
       "      <td>00606</td>\n",
       "    </tr>\n",
       "    <tr>\n",
       "      <th>4</th>\n",
       "      <td>39.2</td>\n",
       "      <td>28963</td>\n",
       "      <td>14569</td>\n",
       "      <td>16707</td>\n",
       "      <td>7892</td>\n",
       "      <td>ZCTA5 00610</td>\n",
       "      <td>00610</td>\n",
       "    </tr>\n",
       "  </tbody>\n",
       "</table>\n",
       "</div>"
      ],
      "text/plain": [
       "  B01002_001E B01003_001E B17001_002E B19013_001E B19301_001E         NAME  \\\n",
       "0        36.6       18450       10816       12041        7380  ZCTA5 00601   \n",
       "1        38.6       41302       22409       15663        8463  ZCTA5 00602   \n",
       "2        38.9       53683       26220       15485        9176  ZCTA5 00603   \n",
       "3        37.3        6591        3721       15019        6383  ZCTA5 00606   \n",
       "4        39.2       28963       14569       16707        7892  ZCTA5 00610   \n",
       "\n",
       "  zip code tabulation area  \n",
       "0                    00601  \n",
       "1                    00602  \n",
       "2                    00603  \n",
       "3                    00606  \n",
       "4                    00610  "
      ]
     },
     "execution_count": 11,
     "metadata": {},
     "output_type": "execute_result"
    }
   ],
   "source": [
    "# Run Census Search to retrieve data on all zip codes (2013 ACS5 Census)\n",
    "# See: https://github.com/CommerceDataService/census-wrapper for library documentation\n",
    "# See: https://gist.github.com/afhaque/60558290d6efd892351c4b64e5c01e9b for labels\n",
    "# census_data = c.acs5.get((\"NAME\", \"B19013_001E\", \"B01003_001E\", \"B01002_001E\",\n",
    "#                           \"B19301_001E\",\n",
    "#                           \"B17001_002E\"), {'for': 'zip code tabulation area:*'})\n",
    "\n",
    "census_data1 = c.acs5.get((\"NAME\", \"B19013_001E\", \"B19301_001E\", \"B23025_002E\", \"B23025_007E\", \"B23025_003E\", \"B23025_004E\", \"B23025_005E\", \"B23025_006E\", \"C24010_003E\", \"C24010_004E\", \"C24010_005E\", \"C24010_006E\", \"C24010_007E\", \"C24010_008E\", \"C24010_009E\", \"C24010_010E\", \"C24010_011E\", \"C24010_012E\", \"C24010_013E\", \"C24010_014E\", \"C24010_015E\", \"C24010_016E\", \"C24010_017E\", \"C24010_018E\", \"C24010_019E\", \"C24010_020E\", \"C24010_021E\", \"C24010_022E\", \"C24010_023E\", \"C24010_024E\", \"C24010_025E\", \"C24010_026E\", \"C24010_027E\", \"C24010_028E\", \"C24010_029E\", \"C24010_030E\", \"C24010_031E\", \"C24010_032E\", \"C24010_033E\", \"C24010_034E\", \"C24010_035E\", \"C24010_036E\", \"C24010_037E\", \"C24010_039E\", \"C24010_040E\", \"C24010_041E\", \"C24010_042E\", \"C24010_043E\", \"C24010_044E\", \"C24010_045E\", \"C24010_046E\", \"C24010_047E\", \"C24010_048E\", \"C24010_049E\", \"C24010_050E\", \"C24010_051E\", \"C24010_052E\", \"C24010_053E\", \"C24010_054E\", \"C24010_055E\", \"C24010_056E\", \"C24010_057E\", \"C24010_058E\", \"C24010_059E\", \"C24010_060E\", \"C24010_061E\", \"C24010_062E\", \"C24010_063E\", \"C24010_064E\", \"C24010_065E\", \"C24010_066E\", \"C24010_067E\", \"C24010_068E\", \"C24010_069E\", \"C24010_070E\", \"C24010_071E\", \"C24010_072E\", \"C24010_073E\", \"B17001_002E\", \"B17001_003E\", \"B17001_017E\", \"B17001A_002E\", \"B17001B_002E\", \"B17001C_002E\", \"B17001D_002E\", \"B17001E_002E\", \"B17001G_002E\", \"B17001I_002E\", \"B17012_002E\", \"B17012_003E\", \"B17012_009E\", \"B17012_014E\", \"B01002_001E\", \"B01002_002E\", \"B01002_003E\", \"B01003_001E\", \"B02001_002E\", \"B02001_003E\", \"B02001_004E\", \"B02001_005E\", \"B02001_006E\", \"B02001_008E\", \"B03001_003E\", \"B25035_001E\", \"B25058_001E\", \"B25064_001E\", \"B25077_001E\", \"B25088_002E\", \"B08136_003E\", \"B08136_004E\", \"B08136_007E\", \"B08136_011E\", \"B08136_012E\", \"B08301_001E\", \"B08301_003E\", \"B08301_004E\", \"B08301_010E\", \"B08301_019E\", \"B08101_041E\", \"B15003_002E\", \"B15003_017E\", \"B15003_018E\", \"B15003_021E\", \"B15003_022E\", \"B15003_023E\", \"B15003_024E\", \"B15003_025E\", \"B16001_002E\", \"B16001_003E\", \"B16001_006E\", \"B16001_009E\", \"B16001_012E\", \"B16001_015E\", \"B16001_018E\", \"B16001_021E\", \"B16001_030E\", \"B16001_033E\", \"B16001_036E\", \"B16001_039E\", \"B16001_045E\", \"B16001_048E\", \"B16001_051E\", \"B16001_054E\", \"B16001_057E\", \"B16001_066E\", \"B16001_069E\", \"B16001_072E\", \"B16001_075E\", \"B16001_078E\", \"B16001_081E\", \"B16001_084E\", \"B16001_087E\", \"B16001_093E\", \"B16001_099E\", \"B16001_105E\", \"B16001_108E\", \"B16001_111E\"), {'for': 'zip code tabulation area:*'})\n",
    "\n",
    "# Convert to DataFrame\n",
    "census_pd = pd.DataFrame(census_data)\n",
    "\n",
    "# Column Reordering\n",
    "# census_pd = census_pd.rename(columns={\"B01003_001E\": \"Population\", \n",
    "#                                       \"B01002_001E\": \"Median Age\",\n",
    "#                                       \"B19013_001E\": \"Household Income\",\n",
    "#                                       \"B19301_001E\": \"Per Capita Income\",\n",
    "#                                       \"B17001_002E\": \"Poverty Count\",\n",
    "#                                       \"NAME\": \"Name\", \"zip code tabulation area\": \"Zipcode\"})\n",
    "\n",
    "# # Add in Poverty Rate (Poverty Count / Population)\n",
    "# census_pd[\"Poverty Rate\"] = 100 * census_pd[\"Poverty Count\"].astype(int) / census_pd[\"Population\"].astype(int)\n",
    "\n",
    "# # Final DataFrame\n",
    "# census_pd = census_pd[[\"Zipcode\", \"Population\", \"Median Age\", \"Household Income\",\n",
    "#                        \"Per Capita Income\", \"Poverty Count\", \"Poverty Rate\"]]\n",
    "\n",
    "# Visualize\n",
    "print(len(census_pd))\n",
    "census_pd.head()"
   ]
  },
  {
   "cell_type": "code",
   "execution_count": 12,
   "metadata": {},
   "outputs": [],
   "source": [
    "# Save as a csv\n",
    "# Note to avoid any issues later, use encoding=\"utf-8\"\n",
    "census_pd.to_csv(\"census_data.csv\", encoding=\"utf-8\", index=False)"
   ]
  },
  {
   "cell_type": "code",
   "execution_count": 13,
   "metadata": {},
   "outputs": [
    {
     "data": {
      "text/plain": [
       "B01002_001E                 32589\n",
       "B01003_001E                 33120\n",
       "B17001_002E                 33120\n",
       "B19013_001E                 31985\n",
       "B19301_001E                 32546\n",
       "NAME                        33120\n",
       "zip code tabulation area    33120\n",
       "dtype: int64"
      ]
     },
     "execution_count": 13,
     "metadata": {},
     "output_type": "execute_result"
    }
   ],
   "source": [
    "census_pd.count()"
   ]
  },
  {
   "cell_type": "code",
   "execution_count": null,
   "metadata": {
    "collapsed": true
   },
   "outputs": [],
   "source": []
  },
  {
   "cell_type": "code",
   "execution_count": null,
   "metadata": {
    "collapsed": true
   },
   "outputs": [],
   "source": []
  },
  {
   "cell_type": "code",
   "execution_count": null,
   "metadata": {
    "collapsed": true
   },
   "outputs": [],
   "source": []
  }
 ],
 "metadata": {
  "anaconda-cloud": {},
  "kernelspec": {
   "display_name": "Python [conda env:PythonData]",
   "language": "python",
   "name": "conda-env-PythonData-py"
  },
  "language_info": {
   "codemirror_mode": {
    "name": "ipython",
    "version": 3
   },
   "file_extension": ".py",
   "mimetype": "text/x-python",
   "name": "python",
   "nbconvert_exporter": "python",
   "pygments_lexer": "ipython3",
   "version": "3.6.1"
  }
 },
 "nbformat": 4,
 "nbformat_minor": 1
}
