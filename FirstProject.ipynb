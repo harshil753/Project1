{
 "cells": [
  {
   "cell_type": "code",
   "execution_count": 187,
   "metadata": {},
   "outputs": [
    {
     "data": {
      "text/html": [
       "<script>requirejs.config({paths: { 'plotly': ['https://cdn.plot.ly/plotly-latest.min']},});if(!window.Plotly) {{require(['plotly'],function(plotly) {window.Plotly=plotly;});}}</script>"
      ],
      "text/vnd.plotly.v1+html": [
       "<script>requirejs.config({paths: { 'plotly': ['https://cdn.plot.ly/plotly-latest.min']},});if(!window.Plotly) {{require(['plotly'],function(plotly) {window.Plotly=plotly;});}}</script>"
      ]
     },
     "metadata": {},
     "output_type": "display_data"
    }
   ],
   "source": [
    "import pandas as pd\n",
    "import matplotlib.pyplot as plt\n",
    "import numpy as np\n",
    "import requests, json, gmplot\n",
    "from datetime import datetime\n",
    "from census import Census\n",
    "# from us import states\n",
    "from resources.states import states\n",
    "from resources.statesAreaInMiles import statesAreaInMiles\n",
    "import scipy.stats as stats\n",
    "import plotly as py\n",
    "from plotly.tools import FigureFactory as FF\n",
    "# from mpl_toolkits.basemap import Basemap as Basemap\n",
    "from matplotlib.colors import rgb2hex\n",
    "from matplotlib.patches import Polygon\n",
    "from matplotlib.gridspec import GridSpec\n",
    "from bs4 import BeautifulSoup\n",
    "from IPython.core.display import display\n",
    "from IPython.display import IFrame\n",
    "import matplotlib.patches as mpatches\n",
    "\n",
    "\n",
    "py.offline.init_notebook_mode(connected=True)\n",
    "\n",
    "dt = datetime.today().strftime('%m-%d-%y')\n",
    "# Extract API key from external json file\n",
    "# keyPairs = open('../../keys/appkey.json')\n",
    "# Kristine's keys\n",
    "keyPairs = open('keys/appkey.json')\n",
    "keyPairs_json = json.load(keyPairs)\n",
    "gkey = keyPairs_json['gkey']\n",
    "censuskey = keyPairs_json['censuskey']\n"
   ]
  },
  {
   "cell_type": "markdown",
   "metadata": {},
   "source": [
    "## Extract Superfund Sites data"
   ]
  },
  {
   "cell_type": "code",
   "execution_count": 2,
   "metadata": {},
   "outputs": [
    {
     "data": {
      "text/html": [
       "<div>\n",
       "<style>\n",
       "    .dataframe thead tr:only-child th {\n",
       "        text-align: right;\n",
       "    }\n",
       "\n",
       "    .dataframe thead th {\n",
       "        text-align: left;\n",
       "    }\n",
       "\n",
       "    .dataframe tbody tr th {\n",
       "        vertical-align: top;\n",
       "    }\n",
       "</style>\n",
       "<table border=\"1\" class=\"dataframe\">\n",
       "  <thead>\n",
       "    <tr style=\"text-align: right;\">\n",
       "      <th></th>\n",
       "      <th>Reg</th>\n",
       "      <th>St</th>\n",
       "      <th>Site Name</th>\n",
       "      <th>Unnamed: 3</th>\n",
       "      <th>Site ID</th>\n",
       "      <th>EPA ID</th>\n",
       "      <th>Address</th>\n",
       "      <th>City</th>\n",
       "      <th>Zip</th>\n",
       "      <th>County</th>\n",
       "      <th>Unnamed: 10</th>\n",
       "      <th>Unnamed: 11</th>\n",
       "      <th>FF?</th>\n",
       "      <th>Latitude</th>\n",
       "      <th>Longitude</th>\n",
       "      <th>Final Date</th>\n",
       "      <th>Unnamed: 16</th>\n",
       "      <th>Unnamed: 17</th>\n",
       "      <th>Converted Date</th>\n",
       "      <th>Year</th>\n",
       "    </tr>\n",
       "  </thead>\n",
       "  <tbody>\n",
       "    <tr>\n",
       "      <th>0</th>\n",
       "      <td>‭01‬</td>\n",
       "      <td>CT</td>\n",
       "      <td>BARKHAMSTED-NEW HARTFORD LANDFILL</td>\n",
       "      <td>NaN</td>\n",
       "      <td>‭0100255‬</td>\n",
       "      <td>CTD980732333</td>\n",
       "      <td>ROUTE 44</td>\n",
       "      <td>BARKHAMSTED</td>\n",
       "      <td>06063</td>\n",
       "      <td>LITCHFIELD</td>\n",
       "      <td>NaN</td>\n",
       "      <td>NaN</td>\n",
       "      <td>N</td>\n",
       "      <td>b'+41.980550'</td>\n",
       "      <td>b'-073.047220 '</td>\n",
       "      <td>10/04/89</td>\n",
       "      <td>NaN</td>\n",
       "      <td>NaN</td>\n",
       "      <td>1989-10-04 00:00:00</td>\n",
       "      <td>1989</td>\n",
       "    </tr>\n",
       "    <tr>\n",
       "      <th>1</th>\n",
       "      <td>‭01‬</td>\n",
       "      <td>CT</td>\n",
       "      <td>BEACON HEIGHTS LANDFILL</td>\n",
       "      <td>NaN</td>\n",
       "      <td>‭0100180‬</td>\n",
       "      <td>CTD072122062</td>\n",
       "      <td>BLACKBERRY HILL ROAD</td>\n",
       "      <td>BEACON FALLS</td>\n",
       "      <td>06403</td>\n",
       "      <td>NEW HAVEN</td>\n",
       "      <td>NaN</td>\n",
       "      <td>NaN</td>\n",
       "      <td>N</td>\n",
       "      <td>b'+41.431950'</td>\n",
       "      <td>b'-073.035280 '</td>\n",
       "      <td>09/08/83</td>\n",
       "      <td>NaN</td>\n",
       "      <td>NaN</td>\n",
       "      <td>1983-09-08 00:00:00</td>\n",
       "      <td>1983</td>\n",
       "    </tr>\n",
       "    <tr>\n",
       "      <th>2</th>\n",
       "      <td>‭01‬</td>\n",
       "      <td>CT</td>\n",
       "      <td>DURHAM MEADOWS</td>\n",
       "      <td>NaN</td>\n",
       "      <td>‭0100108‬</td>\n",
       "      <td>CTD001452093</td>\n",
       "      <td>124 MAIN ST</td>\n",
       "      <td>DURHAM</td>\n",
       "      <td>06422</td>\n",
       "      <td>MIDDLESEX</td>\n",
       "      <td>NaN</td>\n",
       "      <td>NaN</td>\n",
       "      <td>N</td>\n",
       "      <td>b'+41.481110'</td>\n",
       "      <td>b'-072.681380 '</td>\n",
       "      <td>10/04/89</td>\n",
       "      <td>NaN</td>\n",
       "      <td>NaN</td>\n",
       "      <td>1989-10-04 00:00:00</td>\n",
       "      <td>1989</td>\n",
       "    </tr>\n",
       "    <tr>\n",
       "      <th>3</th>\n",
       "      <td>‭01‬</td>\n",
       "      <td>CT</td>\n",
       "      <td>GALLUP'S QUARRY</td>\n",
       "      <td>NaN</td>\n",
       "      <td>‭0100201‬</td>\n",
       "      <td>CTD108960972</td>\n",
       "      <td>ROUTE 12</td>\n",
       "      <td>PLAINFIELD</td>\n",
       "      <td>06374</td>\n",
       "      <td>WINDHAM</td>\n",
       "      <td>NaN</td>\n",
       "      <td>NaN</td>\n",
       "      <td>N</td>\n",
       "      <td>b'+41.665280'</td>\n",
       "      <td>b'-071.924160 '</td>\n",
       "      <td>10/04/89</td>\n",
       "      <td>NaN</td>\n",
       "      <td>NaN</td>\n",
       "      <td>1989-10-04 00:00:00</td>\n",
       "      <td>1989</td>\n",
       "    </tr>\n",
       "    <tr>\n",
       "      <th>4</th>\n",
       "      <td>‭01‬</td>\n",
       "      <td>CT</td>\n",
       "      <td>KELLOGG-DEERING WELL FIELD</td>\n",
       "      <td>NaN</td>\n",
       "      <td>‭0100252‬</td>\n",
       "      <td>CTD980670814</td>\n",
       "      <td>NORWALK WATER DEPARTMENT</td>\n",
       "      <td>NORWALK</td>\n",
       "      <td>06856</td>\n",
       "      <td>FAIRFIELD</td>\n",
       "      <td>NaN</td>\n",
       "      <td>NaN</td>\n",
       "      <td>N</td>\n",
       "      <td>b'+41.130550'</td>\n",
       "      <td>b'-073.431950 '</td>\n",
       "      <td>09/21/84</td>\n",
       "      <td>NaN</td>\n",
       "      <td>NaN</td>\n",
       "      <td>1984-09-21 00:00:00</td>\n",
       "      <td>1984</td>\n",
       "    </tr>\n",
       "  </tbody>\n",
       "</table>\n",
       "</div>"
      ],
      "text/plain": [
       "    Reg  St  \\\n",
       "0  ‭01‬  CT   \n",
       "1  ‭01‬  CT   \n",
       "2  ‭01‬  CT   \n",
       "3  ‭01‬  CT   \n",
       "4  ‭01‬  CT   \n",
       "\n",
       "  Site Name                                                                  \\\n",
       "0                  BARKHAMSTED-NEW HARTFORD LANDFILL                          \n",
       "1                            BEACON HEIGHTS LANDFILL                          \n",
       "2                                     DURHAM MEADOWS                          \n",
       "3                                    GALLUP'S QUARRY                          \n",
       "4                         KELLOGG-DEERING WELL FIELD                          \n",
       "\n",
       "   Unnamed: 3    Site ID        EPA ID                    Address  \\\n",
       "0         NaN  ‭0100255‬  CTD980732333                  ROUTE 44    \n",
       "1         NaN  ‭0100180‬  CTD072122062      BLACKBERRY HILL ROAD    \n",
       "2         NaN  ‭0100108‬  CTD001452093               124 MAIN ST    \n",
       "3         NaN  ‭0100201‬  CTD108960972                  ROUTE 12    \n",
       "4         NaN  ‭0100252‬  CTD980670814  NORWALK WATER DEPARTMENT    \n",
       "\n",
       "           City    Zip      County  Unnamed: 10  Unnamed: 11 FF?  \\\n",
       "0   BARKHAMSTED  06063  LITCHFIELD          NaN          NaN   N   \n",
       "1  BEACON FALLS  06403   NEW HAVEN          NaN          NaN   N   \n",
       "2        DURHAM  06422   MIDDLESEX          NaN          NaN   N   \n",
       "3    PLAINFIELD  06374     WINDHAM          NaN          NaN   N   \n",
       "4       NORWALK  06856   FAIRFIELD          NaN          NaN   N   \n",
       "\n",
       "        Latitude        Longitude Final Date  Unnamed: 16  Unnamed: 17  \\\n",
       "0  b'+41.980550'  b'-073.047220 '   10/04/89          NaN          NaN   \n",
       "1  b'+41.431950'  b'-073.035280 '   09/08/83          NaN          NaN   \n",
       "2  b'+41.481110'  b'-072.681380 '   10/04/89          NaN          NaN   \n",
       "3  b'+41.665280'  b'-071.924160 '   10/04/89          NaN          NaN   \n",
       "4  b'+41.130550'  b'-073.431950 '   09/21/84          NaN          NaN   \n",
       "\n",
       "        Converted Date  Year  \n",
       "0  1989-10-04 00:00:00  1989  \n",
       "1  1983-09-08 00:00:00  1983  \n",
       "2  1989-10-04 00:00:00  1989  \n",
       "3  1989-10-04 00:00:00  1989  \n",
       "4  1984-09-21 00:00:00  1984  "
      ]
     },
     "execution_count": 2,
     "metadata": {},
     "output_type": "execute_result"
    }
   ],
   "source": [
    "sf = pd.read_csv(\"resources/superfunddata.csv\" , dtype={'Zip': str}) #, \"Latitude\":float\n",
    "sf[\"Latitude\"] = sf[\"Latitude\"].str.decode(\"unicode_escape\")\n",
    "sf[\"Longitude\"] = sf[\"Longitude\"].str.decode(\"unicode_escape\")\n",
    "sf[\"Latitude\"] = sf[\"Latitude\"].str.encode(\"ascii\", \"ignore\")\n",
    "sf[\"Longitude\"] = sf[\"Longitude\"].str.encode(\"ascii\", \"ignore\")\n",
    "# delete empty rows at end of file\n",
    "sf.drop(sf.index[[1336,1337]], inplace=True)\n",
    "sf[\"Converted Date\"] = \"\"\n",
    "for index, row in sf.iterrows():\n",
    "    sf.set_value(index, \"Converted Date\", datetime.strptime(row[\"Final Date\"], '%m/%d/%y'))\n",
    "sf[\"Year\"]=\"\"\n",
    "for index, row in sf.iterrows():\n",
    "    sf.set_value(index, \"Year\", row[\"Converted Date\"].year)\n",
    "sf.head()"
   ]
  },
  {
   "cell_type": "markdown",
   "metadata": {},
   "source": [
    "## Find Superfund sites per State"
   ]
  },
  {
   "cell_type": "code",
   "execution_count": 3,
   "metadata": {},
   "outputs": [
    {
     "data": {
      "text/html": [
       "<div>\n",
       "<style>\n",
       "    .dataframe thead tr:only-child th {\n",
       "        text-align: right;\n",
       "    }\n",
       "\n",
       "    .dataframe thead th {\n",
       "        text-align: left;\n",
       "    }\n",
       "\n",
       "    .dataframe tbody tr th {\n",
       "        vertical-align: top;\n",
       "    }\n",
       "</style>\n",
       "<table border=\"1\" class=\"dataframe\">\n",
       "  <thead>\n",
       "    <tr style=\"text-align: right;\">\n",
       "      <th></th>\n",
       "      <th>Code</th>\n",
       "      <th>No. Of SF Sites</th>\n",
       "      <th>Name</th>\n",
       "      <th>Area Sq Miles</th>\n",
       "      <th>No. Of Sites Per Sq Miles</th>\n",
       "    </tr>\n",
       "  </thead>\n",
       "  <tbody>\n",
       "    <tr>\n",
       "      <th>0</th>\n",
       "      <td>AK</td>\n",
       "      <td>6.0</td>\n",
       "      <td>Alaska</td>\n",
       "      <td>571951.26</td>\n",
       "      <td>0.000010</td>\n",
       "    </tr>\n",
       "    <tr>\n",
       "      <th>1</th>\n",
       "      <td>AL</td>\n",
       "      <td>12.0</td>\n",
       "      <td>Alabama</td>\n",
       "      <td>50744.00</td>\n",
       "      <td>0.000236</td>\n",
       "    </tr>\n",
       "    <tr>\n",
       "      <th>2</th>\n",
       "      <td>AR</td>\n",
       "      <td>9.0</td>\n",
       "      <td>Arkansas</td>\n",
       "      <td>52068.17</td>\n",
       "      <td>0.000173</td>\n",
       "    </tr>\n",
       "    <tr>\n",
       "      <th>3</th>\n",
       "      <td>AZ</td>\n",
       "      <td>9.0</td>\n",
       "      <td>Arizona</td>\n",
       "      <td>113634.57</td>\n",
       "      <td>0.000079</td>\n",
       "    </tr>\n",
       "    <tr>\n",
       "      <th>4</th>\n",
       "      <td>CA</td>\n",
       "      <td>98.0</td>\n",
       "      <td>California</td>\n",
       "      <td>155959.34</td>\n",
       "      <td>0.000628</td>\n",
       "    </tr>\n",
       "  </tbody>\n",
       "</table>\n",
       "</div>"
      ],
      "text/plain": [
       "  Code  No. Of SF Sites        Name Area Sq Miles  No. Of Sites Per Sq Miles\n",
       "0   AK              6.0      Alaska     571951.26                   0.000010\n",
       "1   AL             12.0     Alabama      50744.00                   0.000236\n",
       "2   AR              9.0    Arkansas      52068.17                   0.000173\n",
       "3   AZ              9.0     Arizona     113634.57                   0.000079\n",
       "4   CA             98.0  California     155959.34                   0.000628"
      ]
     },
     "execution_count": 3,
     "metadata": {},
     "output_type": "execute_result"
    }
   ],
   "source": [
    "## Extract statewise superfund site count, add state names against abbreviations & area of states in sq. miles \n",
    "sitesPerState = sf.groupby('St').count()\n",
    "sitesPerState = sitesPerState.reset_index()\n",
    "sitesPerState = sitesPerState[['St','Reg']]\n",
    "sitesPerState = sitesPerState.rename(columns= {'St':'Code','Reg':'No. Of SF Sites'})\n",
    "for state in states:\n",
    "    if state not in sitesPerState['Code'].tolist():\n",
    "        nxtIdx = len(sitesPerState)\n",
    "        sitesPerState.set_value(nxtIdx, 'Code', state)\n",
    "        sitesPerState.set_value(nxtIdx, 'No. Of SF Sites', 0)\n",
    "\n",
    "sitesPerState['Name'] = sitesPerState['Code'].map(states.get)\n",
    "sitesPerState['Area Sq Miles'] = sitesPerState['Name'].map(statesAreaInMiles.get)\n",
    "sitesPerState['No. Of Sites Per Sq Miles'] = sitesPerState['No. Of SF Sites'].astype('float') / sitesPerState['Area Sq Miles'].astype('float')\n",
    "sitesPerState.dropna(inplace=True)\n",
    "sitesPerState.head()"
   ]
  },
  {
   "cell_type": "markdown",
   "metadata": {},
   "source": [
    "## Data munging (cleanse)"
   ]
  },
  {
   "cell_type": "code",
   "execution_count": 4,
   "metadata": {
    "collapsed": true
   },
   "outputs": [],
   "source": [
    "## Remove unwanted/blank columns, create list of latitudes & longitudes\n",
    "# This data is needed for plotting on google map\n",
    "sf.drop(['Unnamed: 3','Unnamed: 10','Unnamed: 11','Unnamed: 16','Unnamed: 17'], axis=1,inplace=True)\n",
    "sfFilterLatLon = sf.copy()\n",
    "sfFilterLatLon.drop(sfFilterLatLon.index[[756,1104]], inplace=True)\n",
    "sfFilterLatLon.dropna(subset=[['Latitude','Longitude']],inplace=True)\n",
    "sfFilterLatLon.reset_index(inplace=True)\n",
    "latitudes = pd.to_numeric(sfFilterLatLon['Latitude'])\n",
    "longitudes = pd.to_numeric(sfFilterLatLon['Longitude'])\n",
    "sfFilterLatLon['Site Name'] = sfFilterLatLon['Site Name                                                                ']\n",
    "sitename = sfFilterLatLon['Site Name'].tolist()"
   ]
  },
  {
   "cell_type": "markdown",
   "metadata": {
    "collapsed": true
   },
   "source": [
    "## Extract Census data for 2015 for all US zip codes"
   ]
  },
  {
   "cell_type": "code",
   "execution_count": 5,
   "metadata": {},
   "outputs": [
    {
     "data": {
      "text/html": [
       "<div>\n",
       "<style>\n",
       "    .dataframe thead tr:only-child th {\n",
       "        text-align: right;\n",
       "    }\n",
       "\n",
       "    .dataframe thead th {\n",
       "        text-align: left;\n",
       "    }\n",
       "\n",
       "    .dataframe tbody tr th {\n",
       "        vertical-align: top;\n",
       "    }\n",
       "</style>\n",
       "<table border=\"1\" class=\"dataframe\">\n",
       "  <thead>\n",
       "    <tr style=\"text-align: right;\">\n",
       "      <th></th>\n",
       "      <th>B01002_001E</th>\n",
       "      <th>B01002_002E</th>\n",
       "      <th>B01002_003E</th>\n",
       "      <th>B01003_001E</th>\n",
       "      <th>B02001_002E</th>\n",
       "      <th>B02001_003E</th>\n",
       "      <th>B02001_004E</th>\n",
       "      <th>B02001_005E</th>\n",
       "      <th>B02001_006E</th>\n",
       "      <th>B02001_008E</th>\n",
       "      <th>...</th>\n",
       "      <th>C24010_066E</th>\n",
       "      <th>C24010_067E</th>\n",
       "      <th>C24010_068E</th>\n",
       "      <th>C24010_069E</th>\n",
       "      <th>C24010_070E</th>\n",
       "      <th>C24010_071E</th>\n",
       "      <th>C24010_072E</th>\n",
       "      <th>C24010_073E</th>\n",
       "      <th>NAME</th>\n",
       "      <th>zip code tabulation area</th>\n",
       "    </tr>\n",
       "  </thead>\n",
       "  <tbody>\n",
       "    <tr>\n",
       "      <th>0</th>\n",
       "      <td>37.6</td>\n",
       "      <td>36.5</td>\n",
       "      <td>39</td>\n",
       "      <td>17982</td>\n",
       "      <td>16956</td>\n",
       "      <td>102</td>\n",
       "      <td>14</td>\n",
       "      <td>0</td>\n",
       "      <td>0</td>\n",
       "      <td>64</td>\n",
       "      <td>...</td>\n",
       "      <td>14</td>\n",
       "      <td>0</td>\n",
       "      <td>0</td>\n",
       "      <td>14</td>\n",
       "      <td>125</td>\n",
       "      <td>110</td>\n",
       "      <td>0</td>\n",
       "      <td>15</td>\n",
       "      <td>ZCTA5 00601</td>\n",
       "      <td>00601</td>\n",
       "    </tr>\n",
       "    <tr>\n",
       "      <th>1</th>\n",
       "      <td>39.5</td>\n",
       "      <td>38.6</td>\n",
       "      <td>40.3</td>\n",
       "      <td>40260</td>\n",
       "      <td>23144</td>\n",
       "      <td>693</td>\n",
       "      <td>8</td>\n",
       "      <td>72</td>\n",
       "      <td>0</td>\n",
       "      <td>14798</td>\n",
       "      <td>...</td>\n",
       "      <td>15</td>\n",
       "      <td>0</td>\n",
       "      <td>0</td>\n",
       "      <td>15</td>\n",
       "      <td>376</td>\n",
       "      <td>334</td>\n",
       "      <td>0</td>\n",
       "      <td>42</td>\n",
       "      <td>ZCTA5 00602</td>\n",
       "      <td>00602</td>\n",
       "    </tr>\n",
       "    <tr>\n",
       "      <th>2</th>\n",
       "      <td>39.9</td>\n",
       "      <td>37.7</td>\n",
       "      <td>41.4</td>\n",
       "      <td>52408</td>\n",
       "      <td>36177</td>\n",
       "      <td>2057</td>\n",
       "      <td>76</td>\n",
       "      <td>655</td>\n",
       "      <td>0</td>\n",
       "      <td>7801</td>\n",
       "      <td>...</td>\n",
       "      <td>43</td>\n",
       "      <td>0</td>\n",
       "      <td>11</td>\n",
       "      <td>32</td>\n",
       "      <td>211</td>\n",
       "      <td>128</td>\n",
       "      <td>0</td>\n",
       "      <td>83</td>\n",
       "      <td>ZCTA5 00603</td>\n",
       "      <td>00603</td>\n",
       "    </tr>\n",
       "    <tr>\n",
       "      <th>3</th>\n",
       "      <td>40.8</td>\n",
       "      <td>41</td>\n",
       "      <td>40.3</td>\n",
       "      <td>6331</td>\n",
       "      <td>4399</td>\n",
       "      <td>151</td>\n",
       "      <td>0</td>\n",
       "      <td>0</td>\n",
       "      <td>0</td>\n",
       "      <td>126</td>\n",
       "      <td>...</td>\n",
       "      <td>15</td>\n",
       "      <td>0</td>\n",
       "      <td>0</td>\n",
       "      <td>15</td>\n",
       "      <td>93</td>\n",
       "      <td>93</td>\n",
       "      <td>0</td>\n",
       "      <td>0</td>\n",
       "      <td>ZCTA5 00606</td>\n",
       "      <td>00606</td>\n",
       "    </tr>\n",
       "    <tr>\n",
       "      <th>4</th>\n",
       "      <td>40.2</td>\n",
       "      <td>36.9</td>\n",
       "      <td>42.2</td>\n",
       "      <td>28328</td>\n",
       "      <td>17791</td>\n",
       "      <td>950</td>\n",
       "      <td>0</td>\n",
       "      <td>26</td>\n",
       "      <td>0</td>\n",
       "      <td>3355</td>\n",
       "      <td>...</td>\n",
       "      <td>0</td>\n",
       "      <td>0</td>\n",
       "      <td>0</td>\n",
       "      <td>0</td>\n",
       "      <td>788</td>\n",
       "      <td>738</td>\n",
       "      <td>15</td>\n",
       "      <td>35</td>\n",
       "      <td>ZCTA5 00610</td>\n",
       "      <td>00610</td>\n",
       "    </tr>\n",
       "  </tbody>\n",
       "</table>\n",
       "<p>5 rows × 159 columns</p>\n",
       "</div>"
      ],
      "text/plain": [
       "  B01002_001E B01002_002E B01002_003E B01003_001E B02001_002E B02001_003E  \\\n",
       "0        37.6        36.5          39       17982       16956         102   \n",
       "1        39.5        38.6        40.3       40260       23144         693   \n",
       "2        39.9        37.7        41.4       52408       36177        2057   \n",
       "3        40.8          41        40.3        6331        4399         151   \n",
       "4        40.2        36.9        42.2       28328       17791         950   \n",
       "\n",
       "  B02001_004E B02001_005E B02001_006E B02001_008E           ...             \\\n",
       "0          14           0           0          64           ...              \n",
       "1           8          72           0       14798           ...              \n",
       "2          76         655           0        7801           ...              \n",
       "3           0           0           0         126           ...              \n",
       "4           0          26           0        3355           ...              \n",
       "\n",
       "  C24010_066E C24010_067E C24010_068E C24010_069E C24010_070E C24010_071E  \\\n",
       "0          14           0           0          14         125         110   \n",
       "1          15           0           0          15         376         334   \n",
       "2          43           0          11          32         211         128   \n",
       "3          15           0           0          15          93          93   \n",
       "4           0           0           0           0         788         738   \n",
       "\n",
       "  C24010_072E C24010_073E         NAME zip code tabulation area  \n",
       "0           0          15  ZCTA5 00601                    00601  \n",
       "1           0          42  ZCTA5 00602                    00602  \n",
       "2           0          83  ZCTA5 00603                    00603  \n",
       "3           0           0  ZCTA5 00606                    00606  \n",
       "4          15          35  ZCTA5 00610                    00610  \n",
       "\n",
       "[5 rows x 159 columns]"
      ]
     },
     "execution_count": 5,
     "metadata": {},
     "output_type": "execute_result"
    }
   ],
   "source": [
    "c = Census(censuskey, year=2015)\n",
    "censusByZipCd2015 = c.acs5.get((\"NAME\", \"B19013_001E\", \"B19301_001E\", \"B23025_002E\", \"B23025_007E\", \"B23025_003E\", \"B23025_004E\", \"B23025_005E\", \"B23025_006E\", \"C24010_003E\", \"C24010_004E\", \"C24010_005E\", \"C24010_006E\", \"C24010_007E\", \"C24010_008E\", \"C24010_009E\", \"C24010_010E\", \"C24010_011E\", \"C24010_012E\", \"C24010_013E\", \"C24010_014E\", \"C24010_015E\", \"C24010_016E\", \"C24010_017E\", \"C24010_018E\", \"C24010_019E\", \"C24010_020E\", \"C24010_021E\", \"C24010_022E\", \"C24010_023E\", \"C24010_024E\", \"C24010_025E\", \"C24010_026E\", \"C24010_027E\", \"C24010_028E\", \"C24010_029E\", \"C24010_030E\", \"C24010_031E\", \"C24010_032E\", \"C24010_033E\", \"C24010_034E\", \"C24010_035E\", \"C24010_036E\", \"C24010_037E\", \"C24010_039E\", \"C24010_040E\", \"C24010_041E\", \"C24010_042E\", \"C24010_043E\", \"C24010_044E\", \"C24010_045E\", \"C24010_046E\", \"C24010_047E\", \"C24010_048E\", \"C24010_049E\", \"C24010_050E\", \"C24010_051E\", \"C24010_052E\", \"C24010_053E\", \"C24010_054E\", \"C24010_055E\", \"C24010_056E\", \"C24010_057E\", \"C24010_058E\", \"C24010_059E\", \"C24010_060E\", \"C24010_061E\", \"C24010_062E\", \"C24010_063E\", \"C24010_064E\", \"C24010_065E\", \"C24010_066E\", \"C24010_067E\", \"C24010_068E\", \"C24010_069E\", \"C24010_070E\", \"C24010_071E\", \"C24010_072E\", \"C24010_073E\", \"B17001_002E\", \"B17001_003E\", \"B17001_017E\", \"B17001A_002E\", \"B17001B_002E\", \"B17001C_002E\", \"B17001D_002E\", \"B17001E_002E\", \"B17001G_002E\", \"B17001I_002E\", \"B17012_002E\", \"B17012_003E\", \"B17012_009E\", \"B17012_014E\", \"B01002_001E\", \"B01002_002E\", \"B01002_003E\", \"B01003_001E\", \"B02001_002E\", \"B02001_003E\", \"B02001_004E\", \"B02001_005E\", \"B02001_006E\", \"B02001_008E\", \"B03001_003E\", \"B25035_001E\", \"B25058_001E\", \"B25064_001E\", \"B25077_001E\", \"B25088_002E\", \"B08136_003E\", \"B08136_004E\", \"B08136_007E\", \"B08136_011E\", \"B08136_012E\", \"B08301_001E\", \"B08301_003E\", \"B08301_004E\", \"B08301_010E\", \"B08301_019E\", \"B08101_041E\", \"B15003_002E\", \"B15003_017E\", \"B15003_018E\", \"B15003_021E\", \"B15003_022E\", \"B15003_023E\", \"B15003_024E\", \"B15003_025E\", \"B16001_002E\", \"B16001_003E\", \"B16001_006E\", \"B16001_009E\", \"B16001_012E\", \"B16001_015E\", \"B16001_018E\", \"B16001_021E\", \"B16001_030E\", \"B16001_033E\", \"B16001_036E\", \"B16001_039E\", \"B16001_045E\", \"B16001_048E\", \"B16001_051E\", \"B16001_054E\", \"B16001_057E\", \"B16001_066E\", \"B16001_069E\", \"B16001_072E\", \"B16001_075E\", \"B16001_078E\", \"B16001_081E\", \"B16001_084E\", \"B16001_087E\", \"B16001_093E\", \"B16001_099E\", \"B16001_105E\", \"B16001_108E\", \"B16001_111E\"), {'for': 'zip code tabulation area:*'})\n",
    "censusByZipCd2015_df = pd.DataFrame(censusByZipCd2015)\n",
    "censusByZipCd2015_df.head()"
   ]
  },
  {
   "cell_type": "markdown",
   "metadata": {},
   "source": [
    "## Extract Census data for 2015 for all US States"
   ]
  },
  {
   "cell_type": "code",
   "execution_count": 6,
   "metadata": {},
   "outputs": [
    {
     "data": {
      "text/html": [
       "<div>\n",
       "<style>\n",
       "    .dataframe thead tr:only-child th {\n",
       "        text-align: right;\n",
       "    }\n",
       "\n",
       "    .dataframe thead th {\n",
       "        text-align: left;\n",
       "    }\n",
       "\n",
       "    .dataframe tbody tr th {\n",
       "        vertical-align: top;\n",
       "    }\n",
       "</style>\n",
       "<table border=\"1\" class=\"dataframe\">\n",
       "  <thead>\n",
       "    <tr style=\"text-align: right;\">\n",
       "      <th></th>\n",
       "      <th>Population</th>\n",
       "      <th>Household Income</th>\n",
       "      <th>Per Capita Income</th>\n",
       "      <th>Median House Price</th>\n",
       "      <th>Name</th>\n",
       "      <th>State</th>\n",
       "    </tr>\n",
       "  </thead>\n",
       "  <tbody>\n",
       "    <tr>\n",
       "      <th>0</th>\n",
       "      <td>733375</td>\n",
       "      <td>72515</td>\n",
       "      <td>33413</td>\n",
       "      <td>250000</td>\n",
       "      <td>Alaska</td>\n",
       "      <td>02</td>\n",
       "    </tr>\n",
       "    <tr>\n",
       "      <th>1</th>\n",
       "      <td>4830620</td>\n",
       "      <td>43623</td>\n",
       "      <td>24091</td>\n",
       "      <td>125500</td>\n",
       "      <td>Alabama</td>\n",
       "      <td>01</td>\n",
       "    </tr>\n",
       "    <tr>\n",
       "      <th>2</th>\n",
       "      <td>2958208</td>\n",
       "      <td>41371</td>\n",
       "      <td>22798</td>\n",
       "      <td>111400</td>\n",
       "      <td>Arkansas</td>\n",
       "      <td>05</td>\n",
       "    </tr>\n",
       "    <tr>\n",
       "      <th>3</th>\n",
       "      <td>6641928</td>\n",
       "      <td>50255</td>\n",
       "      <td>25848</td>\n",
       "      <td>167500</td>\n",
       "      <td>Arizona</td>\n",
       "      <td>04</td>\n",
       "    </tr>\n",
       "    <tr>\n",
       "      <th>4</th>\n",
       "      <td>38421464</td>\n",
       "      <td>61818</td>\n",
       "      <td>30318</td>\n",
       "      <td>385500</td>\n",
       "      <td>California</td>\n",
       "      <td>06</td>\n",
       "    </tr>\n",
       "  </tbody>\n",
       "</table>\n",
       "</div>"
      ],
      "text/plain": [
       "  Population Household Income Per Capita Income Median House Price  \\\n",
       "0     733375            72515             33413             250000   \n",
       "1    4830620            43623             24091             125500   \n",
       "2    2958208            41371             22798             111400   \n",
       "3    6641928            50255             25848             167500   \n",
       "4   38421464            61818             30318             385500   \n",
       "\n",
       "         Name State  \n",
       "0      Alaska    02  \n",
       "1     Alabama    01  \n",
       "2    Arkansas    05  \n",
       "3     Arizona    04  \n",
       "4  California    06  "
      ]
     },
     "execution_count": 6,
     "metadata": {},
     "output_type": "execute_result"
    }
   ],
   "source": [
    "censusByStates2015 = c.acs5.get((\"NAME\", \"B19013_001E\", \"B01003_001E\", \"B19301_001E\", \"B25077_001E\"), {'for': 'state:*'})\n",
    "censusByStates2015_df = pd.DataFrame(censusByStates2015)\n",
    "censusByStates2015_df = censusByStates2015_df.rename(columns={\"B01003_001E\": \"Population\", \n",
    "                                                              \"B19013_001E\": \"Household Income\",\n",
    "                                                              \"B19301_001E\": \"Per Capita Income\",\n",
    "                                                              \"B25077_001E\": \"Median House Price\",\n",
    "                                                              \"NAME\": \"Name\", \"state\": \"State\"})\n",
    "censusByStates2015_df.head()"
   ]
  },
  {
   "cell_type": "markdown",
   "metadata": {},
   "source": [
    "## Merge Census data for States with Superfund sites data per State"
   ]
  },
  {
   "cell_type": "code",
   "execution_count": 7,
   "metadata": {},
   "outputs": [
    {
     "data": {
      "text/html": [
       "<div>\n",
       "<style>\n",
       "    .dataframe thead tr:only-child th {\n",
       "        text-align: right;\n",
       "    }\n",
       "\n",
       "    .dataframe thead th {\n",
       "        text-align: left;\n",
       "    }\n",
       "\n",
       "    .dataframe tbody tr th {\n",
       "        vertical-align: top;\n",
       "    }\n",
       "</style>\n",
       "<table border=\"1\" class=\"dataframe\">\n",
       "  <thead>\n",
       "    <tr style=\"text-align: right;\">\n",
       "      <th></th>\n",
       "      <th>Population</th>\n",
       "      <th>Household Income</th>\n",
       "      <th>Per Capita Income</th>\n",
       "      <th>Median House Price</th>\n",
       "      <th>Name</th>\n",
       "      <th>State</th>\n",
       "      <th>Code</th>\n",
       "      <th>No. Of SF Sites</th>\n",
       "      <th>Area Sq Miles</th>\n",
       "      <th>No. Of Sites Per Sq Miles</th>\n",
       "      <th>Population Density</th>\n",
       "    </tr>\n",
       "  </thead>\n",
       "  <tbody>\n",
       "    <tr>\n",
       "      <th>0</th>\n",
       "      <td>733375</td>\n",
       "      <td>72515</td>\n",
       "      <td>33413</td>\n",
       "      <td>250000</td>\n",
       "      <td>Alaska</td>\n",
       "      <td>02</td>\n",
       "      <td>AK</td>\n",
       "      <td>6.0</td>\n",
       "      <td>571951.26</td>\n",
       "      <td>0.000010</td>\n",
       "      <td>1.282233</td>\n",
       "    </tr>\n",
       "    <tr>\n",
       "      <th>1</th>\n",
       "      <td>4830620</td>\n",
       "      <td>43623</td>\n",
       "      <td>24091</td>\n",
       "      <td>125500</td>\n",
       "      <td>Alabama</td>\n",
       "      <td>01</td>\n",
       "      <td>AL</td>\n",
       "      <td>12.0</td>\n",
       "      <td>50744.00</td>\n",
       "      <td>0.000236</td>\n",
       "      <td>95.195885</td>\n",
       "    </tr>\n",
       "    <tr>\n",
       "      <th>2</th>\n",
       "      <td>2958208</td>\n",
       "      <td>41371</td>\n",
       "      <td>22798</td>\n",
       "      <td>111400</td>\n",
       "      <td>Arkansas</td>\n",
       "      <td>05</td>\n",
       "      <td>AR</td>\n",
       "      <td>9.0</td>\n",
       "      <td>52068.17</td>\n",
       "      <td>0.000173</td>\n",
       "      <td>56.814134</td>\n",
       "    </tr>\n",
       "    <tr>\n",
       "      <th>3</th>\n",
       "      <td>6641928</td>\n",
       "      <td>50255</td>\n",
       "      <td>25848</td>\n",
       "      <td>167500</td>\n",
       "      <td>Arizona</td>\n",
       "      <td>04</td>\n",
       "      <td>AZ</td>\n",
       "      <td>9.0</td>\n",
       "      <td>113634.57</td>\n",
       "      <td>0.000079</td>\n",
       "      <td>58.449889</td>\n",
       "    </tr>\n",
       "    <tr>\n",
       "      <th>4</th>\n",
       "      <td>38421464</td>\n",
       "      <td>61818</td>\n",
       "      <td>30318</td>\n",
       "      <td>385500</td>\n",
       "      <td>California</td>\n",
       "      <td>06</td>\n",
       "      <td>CA</td>\n",
       "      <td>98.0</td>\n",
       "      <td>155959.34</td>\n",
       "      <td>0.000628</td>\n",
       "      <td>246.355646</td>\n",
       "    </tr>\n",
       "  </tbody>\n",
       "</table>\n",
       "</div>"
      ],
      "text/plain": [
       "  Population Household Income Per Capita Income Median House Price  \\\n",
       "0     733375            72515             33413             250000   \n",
       "1    4830620            43623             24091             125500   \n",
       "2    2958208            41371             22798             111400   \n",
       "3    6641928            50255             25848             167500   \n",
       "4   38421464            61818             30318             385500   \n",
       "\n",
       "         Name State Code  No. Of SF Sites Area Sq Miles  \\\n",
       "0      Alaska    02   AK              6.0     571951.26   \n",
       "1     Alabama    01   AL             12.0      50744.00   \n",
       "2    Arkansas    05   AR              9.0      52068.17   \n",
       "3     Arizona    04   AZ              9.0     113634.57   \n",
       "4  California    06   CA             98.0     155959.34   \n",
       "\n",
       "   No. Of Sites Per Sq Miles  Population Density  \n",
       "0                   0.000010            1.282233  \n",
       "1                   0.000236           95.195885  \n",
       "2                   0.000173           56.814134  \n",
       "3                   0.000079           58.449889  \n",
       "4                   0.000628          246.355646  "
      ]
     },
     "execution_count": 7,
     "metadata": {},
     "output_type": "execute_result"
    }
   ],
   "source": [
    "censusStateAndSFSites = pd.merge(censusByStates2015_df,sitesPerState,on='Name')\n",
    "censusStateAndSFSites['Population Density'] = censusStateAndSFSites['Population'].astype('int') / censusStateAndSFSites['Area Sq Miles'].astype('float')\n",
    "censusStateAndSFSites.head()"
   ]
  },
  {
   "cell_type": "markdown",
   "metadata": {},
   "source": [
    "## Plot Statewise Superfund Sites density and Population density"
   ]
  },
  {
   "cell_type": "code",
   "execution_count": 8,
   "metadata": {},
   "outputs": [
    {
     "data": {
      "image/png": "[encoded data removed]",
      "text/plain": [
       "<matplotlib.figure.Figure at 0x20c7617eb38>"
      ]
     },
     "metadata": {},
     "output_type": "display_data"
    }
   ],
   "source": [
    "plt.figure(figsize=(12,10))\n",
    "\n",
    "plt.subplot(1,2,1)\n",
    "m = Basemap(llcrnrlon=-119,llcrnrlat=22,urcrnrlon=-64,urcrnrlat=49,\n",
    "        projection='lcc',lat_1=33,lat_2=45,lon_0=-95)\n",
    "shp_info = m.readshapefile('resources/st99_d00','states',drawbounds=True)\n",
    "colors={}\n",
    "statenames=[]\n",
    "cmap = plt.cm.Blues_r\n",
    "vmin = 0.000001; vmax = censusStateAndSFSites[\"No. Of Sites Per Sq Miles\"].max() / censusStateAndSFSites[\"No. Of Sites Per Sq Miles\"].sum()\n",
    "\n",
    "for shapedict in m.states_info:\n",
    "    statename = shapedict['NAME']\n",
    "    # skip DC and Puerto Rico and the ones which are already processed. Process all from state_list of sitesPerSt\n",
    "    if ((statename not in ['District of Columbia','Puerto Rico']) and (statename not in statenames) and (statename in censusStateAndSFSites[\"Name\"].tolist())):\n",
    "        if (int(censusStateAndSFSites[censusStateAndSFSites[\"Name\"] == statename][\"No. Of SF Sites\"])) == 0:\n",
    "            pop = 0.00001/censusStateAndSFSites[\"No. Of Sites Per Sq Miles\"].sum()\n",
    "        else:\n",
    "            pop = float(censusStateAndSFSites[censusStateAndSFSites[\"Name\"] == statename][\"No. Of Sites Per Sq Miles\"]) / censusStateAndSFSites[\"No. Of Sites Per Sq Miles\"].sum()\n",
    "        colors[statename] = cmap(1.-np.sqrt((pop-vmin)/(vmax-vmin)))[:3]\n",
    "    statenames.append(statename)\n",
    "ax = plt.gca() # get current axes instance\n",
    "for nshape,seg in enumerate(m.states):\n",
    "    # skip DC and Puerto Rico.\n",
    "    if (statenames[nshape] not in ['District of Columbia','Puerto Rico']):\n",
    "        color = rgb2hex(colors[statenames[nshape]]) \n",
    "        poly = Polygon(seg,facecolor=color,edgecolor=color)\n",
    "        ax.add_patch(poly)\n",
    "\n",
    "plt.title('State Superfund Site Density (Per Sq Mile)')\n",
    "\n",
    "\n",
    "plt.subplot(1,2,2)\n",
    "m = Basemap(llcrnrlon=-119,llcrnrlat=22,urcrnrlon=-64,urcrnrlat=49,\n",
    "        projection='lcc',lat_1=33,lat_2=45,lon_0=-95)\n",
    "shp_info = m.readshapefile('resources/st99_d00','states',drawbounds=True)\n",
    "colors={}\n",
    "statenames=[]\n",
    "cmap = plt.cm.Blues_r\n",
    "vmin = censusStateAndSFSites[\"Population Density\"].min()/censusStateAndSFSites[\"Population Density\"].sum(); vmax = censusStateAndSFSites[\"Population Density\"].max()/censusStateAndSFSites[\"Population Density\"].sum()\n",
    "\n",
    "for shapedict in m.states_info:\n",
    "    statename = shapedict['NAME']\n",
    "    if (statename not in ['District of Columbia','Puerto Rico']) and (statename not in statenames) and (statename in censusStateAndSFSites[\"Name\"].tolist()):\n",
    "        pop = (int(censusStateAndSFSites[censusStateAndSFSites[\"Name\"] == statename][\"Population Density\"]) * 10 / censusStateAndSFSites[\"Population Density\"].sum())\n",
    "        colors[statename] = cmap(1.-np.sqrt(((pop-vmin)/(vmax-vmin))))[:3]\n",
    "    statenames.append(statename)\n",
    "ax = plt.gca() # get current axes instance\n",
    "for nshape,seg in enumerate(m.states):\n",
    "    # skip DC and Puerto Rico.\n",
    "    if statenames[nshape] not in ['District of Columbia','Puerto Rico']:\n",
    "        color = rgb2hex(colors[statenames[nshape]]) \n",
    "        poly = Polygon(seg,facecolor=color,edgecolor=color)\n",
    "        ax.add_patch(poly)\n",
    "plt.title('State Population Density (Per Sq Mile)')\n",
    "\n",
    "plt.tight_layout()\n",
    "plt.show()"
   ]
  },
  {
   "cell_type": "code",
   "execution_count": 9,
   "metadata": {},
   "outputs": [
    {
     "data": {
      "text/html": [
       "<div>\n",
       "<style>\n",
       "    .dataframe thead tr:only-child th {\n",
       "        text-align: right;\n",
       "    }\n",
       "\n",
       "    .dataframe thead th {\n",
       "        text-align: left;\n",
       "    }\n",
       "\n",
       "    .dataframe tbody tr th {\n",
       "        vertical-align: top;\n",
       "    }\n",
       "</style>\n",
       "<table border=\"1\" class=\"dataframe\">\n",
       "  <thead>\n",
       "    <tr style=\"text-align: right;\">\n",
       "      <th></th>\n",
       "      <th>Population</th>\n",
       "      <th>Household Income</th>\n",
       "      <th>Per Capita Income</th>\n",
       "      <th>Median House Price</th>\n",
       "      <th>Name</th>\n",
       "      <th>State</th>\n",
       "      <th>Code</th>\n",
       "      <th>No. Of SF Sites</th>\n",
       "      <th>Area Sq Miles</th>\n",
       "      <th>No. Of Sites Per Sq Miles</th>\n",
       "      <th>Population Density</th>\n",
       "    </tr>\n",
       "  </thead>\n",
       "  <tbody>\n",
       "    <tr>\n",
       "      <th>0</th>\n",
       "      <td>733375</td>\n",
       "      <td>72515</td>\n",
       "      <td>33413</td>\n",
       "      <td>250000</td>\n",
       "      <td>Alaska</td>\n",
       "      <td>02</td>\n",
       "      <td>AK</td>\n",
       "      <td>6.0</td>\n",
       "      <td>571951.26</td>\n",
       "      <td>0.000010</td>\n",
       "      <td>1.282233</td>\n",
       "    </tr>\n",
       "    <tr>\n",
       "      <th>1</th>\n",
       "      <td>4830620</td>\n",
       "      <td>43623</td>\n",
       "      <td>24091</td>\n",
       "      <td>125500</td>\n",
       "      <td>Alabama</td>\n",
       "      <td>01</td>\n",
       "      <td>AL</td>\n",
       "      <td>12.0</td>\n",
       "      <td>50744.00</td>\n",
       "      <td>0.000236</td>\n",
       "      <td>95.195885</td>\n",
       "    </tr>\n",
       "    <tr>\n",
       "      <th>2</th>\n",
       "      <td>2958208</td>\n",
       "      <td>41371</td>\n",
       "      <td>22798</td>\n",
       "      <td>111400</td>\n",
       "      <td>Arkansas</td>\n",
       "      <td>05</td>\n",
       "      <td>AR</td>\n",
       "      <td>9.0</td>\n",
       "      <td>52068.17</td>\n",
       "      <td>0.000173</td>\n",
       "      <td>56.814134</td>\n",
       "    </tr>\n",
       "    <tr>\n",
       "      <th>3</th>\n",
       "      <td>6641928</td>\n",
       "      <td>50255</td>\n",
       "      <td>25848</td>\n",
       "      <td>167500</td>\n",
       "      <td>Arizona</td>\n",
       "      <td>04</td>\n",
       "      <td>AZ</td>\n",
       "      <td>9.0</td>\n",
       "      <td>113634.57</td>\n",
       "      <td>0.000079</td>\n",
       "      <td>58.449889</td>\n",
       "    </tr>\n",
       "    <tr>\n",
       "      <th>4</th>\n",
       "      <td>38421464</td>\n",
       "      <td>61818</td>\n",
       "      <td>30318</td>\n",
       "      <td>385500</td>\n",
       "      <td>California</td>\n",
       "      <td>06</td>\n",
       "      <td>CA</td>\n",
       "      <td>98.0</td>\n",
       "      <td>155959.34</td>\n",
       "      <td>0.000628</td>\n",
       "      <td>246.355646</td>\n",
       "    </tr>\n",
       "  </tbody>\n",
       "</table>\n",
       "</div>"
      ],
      "text/plain": [
       "  Population Household Income Per Capita Income Median House Price  \\\n",
       "0     733375            72515             33413             250000   \n",
       "1    4830620            43623             24091             125500   \n",
       "2    2958208            41371             22798             111400   \n",
       "3    6641928            50255             25848             167500   \n",
       "4   38421464            61818             30318             385500   \n",
       "\n",
       "         Name State Code  No. Of SF Sites Area Sq Miles  \\\n",
       "0      Alaska    02   AK              6.0     571951.26   \n",
       "1     Alabama    01   AL             12.0      50744.00   \n",
       "2    Arkansas    05   AR              9.0      52068.17   \n",
       "3     Arizona    04   AZ              9.0     113634.57   \n",
       "4  California    06   CA             98.0     155959.34   \n",
       "\n",
       "   No. Of Sites Per Sq Miles  Population Density  \n",
       "0                   0.000010            1.282233  \n",
       "1                   0.000236           95.195885  \n",
       "2                   0.000173           56.814134  \n",
       "3                   0.000079           58.449889  \n",
       "4                   0.000628          246.355646  "
      ]
     },
     "execution_count": 9,
     "metadata": {},
     "output_type": "execute_result"
    }
   ],
   "source": [
    "censusStateAndSFSites.head()"
   ]
  },
  {
   "cell_type": "markdown",
   "metadata": {},
   "source": [
    "## Plot Superfund Site counts and Census data on US Map"
   ]
  },
  {
   "cell_type": "code",
   "execution_count": 8,
   "metadata": {},
   "outputs": [
    {
     "data": {
      "application/vnd.plotly.v1+json": {
       "data": [
        {
         "autocolorscale": false,
         "colorbar": {
          "title": "No Of Sites"
         },
         "colorscale": [
          [
           0,
           "rgb(242,240,247)"
          ],
          [
           0.2,
           "rgb(218,218,235)"
          ],
          [
           0.4,
           "rgb(188,189,220)"
          ],
          [
           0.6,
           "rgb(158,154,200)"
          ],
          [
           0.8,
           "rgb(117,107,177)"
          ],
          [
           1,
           "rgb(84,39,143)"
          ]
         ],
         "locationmode": "USA-states",
         "locations": [
          "AK",
          "AL",
          "AR",
          "AZ",
          "CA",
          "CO",
          "CT",
          "DC",
          "DE",
          "FL",
          "GA",
          "HI",
          "IA",
          "ID",
          "IL",
          "IN",
          "KS",
          "KY",
          "LA",
          "MA",
          "MD",
          "ME",
          "MI",
          "MN",
          "MO",
          "MS",
          "MT",
          "NC",
          "ND",
          "NE",
          "NH",
          "NJ",
          "NM",
          "NV",
          "NY",
          "OH",
          "OK",
          "OR",
          "PA",
          "PR",
          "RI",
          "SC",
          "SD",
          "TN",
          "TX",
          "UT",
          "VA",
          "VT",
          "WA",
          "WI",
          "WV",
          "WY"
         ],
         "marker": {
          "line": {
           "color": "rgb(255,255,255)",
           "width": 2
          }
         },
         "text": [
          "Alaska<br>No. Of Sites/Sq Mile: 1.04904043747e-05<br>Population/Sq Mile: 1.28223338471<br>Household Income: 72515<br>Per Capita Income: 33413<br>Median House Price: 250000",
          "Alabama<br>No. Of Sites/Sq Mile: 0.000236481160334<br>Population/Sq Mile: 95.1958852278<br>Household Income: 43623<br>Per Capita Income: 24091<br>Median House Price: 125500",
          "Arkansas<br>No. Of Sites/Sq Mile: 0.000172850322952<br>Population/Sq Mile: 56.8141342398<br>Household Income: 41371<br>Per Capita Income: 22798<br>Median House Price: 111400",
          "Arizona<br>No. Of Sites/Sq Mile: 7.92012501125e-05<br>Population/Sq Mile: 58.449888973<br>Household Income: 50255<br>Per Capita Income: 25848<br>Median House Price: 167500",
          "California<br>No. Of Sites/Sq Mile: 0.000628368906922<br>Population/Sq Mile: 246.355646286<br>Household Income: 61818<br>Per Capita Income: 30318<br>Median House Price: 385500",
          "Colorado<br>No. Of Sites/Sq Mile: 0.000192831433606<br>Population/Sq Mile: 50.8969505926<br>Household Income: 60629<br>Per Capita Income: 32217<br>Median House Price: 247800",
          "Connecticut<br>No. Of Sites/Sq Mile: 0.00288969616909<br>Population/Sq Mile: 741.665703435<br>Household Income: 70331<br>Per Capita Income: 38803<br>Median House Price: 270500",
          "District of Columbia<br>No. Of Sites/Sq Mile: 0.0162866449511<br>Population/Sq Mile: 10545.3420195<br>Household Income: 70848<br>Per Capita Income: 47675<br>Median House Price: 475800",
          "Delaware<br>No. Of Sites/Sq Mile: 0.00665451790577<br>Population/Sq Mile: 474.238825529<br>Household Income: 60509<br>Per Capita Income: 30554<br>Median House Price: 231500",
          "Florida<br>No. Of Sites/Sq Mile: 0.000982813375608<br>Population/Sq Mile: 364.304292373<br>Household Income: 47507<br>Per Capita Income: 26829<br>Median House Price: 159000",
          "Georgia<br>No. Of Sites/Sq Mile: 0.000276309213496<br>Population/Sq Mile: 172.808842033<br>Household Income: 49620<br>Per Capita Income: 25737<br>Median House Price: 148100",
          "Hawaii<br>No. Of Sites/Sq Mile: 0.00046709909663<br>Population/Sq Mile: 218.960330831<br>Household Income: 69515<br>Per Capita Income: 29822<br>Median House Price: 515300",
          "Iowa<br>No. Of Sites/Sq Mile: 0.000214786781162<br>Population/Sq Mile: 55.3707076652<br>Household Income: 53183<br>Per Capita Income: 27950<br>Median House Price: 129200",
          "Idaho<br>No. Of Sites/Sq Mile: 7.2509997618e-05<br>Population/Sq Mile: 19.5359698532<br>Household Income: 47583<br>Per Capita Income: 23399<br>Median House Price: 162900",
          "Illinois<br>No. Of Sites/Sq Mile: 0.000809591609608<br>Population/Sq Mile: 231.610864216<br>Household Income: 57574<br>Per Capita Income: 30494<br>Median House Price: 173800",
          "Indiana<br>No. Of Sites/Sq Mile: 0.00108735352093<br>Population/Sq Mile: 183.139468424<br>Household Income: 49255<br>Per Capita Income: 25346<br>Median House Price: 124200",
          "Kansas<br>No. Of Sites/Sq Mile: 0.00014667258572<br>Population/Sq Mile: 35.3601569788<br>Household Income: 52205<br>Per Capita Income: 27706<br>Median House Price: 132000",
          "Kentucky<br>No. Of Sites/Sq Mile: 0.000327223648302<br>Population/Sq Mile: 110.685991656<br>Household Income: 43740<br>Per Capita Income: 24063<br>Median House Price: 123200",
          "Louisiana<br>No. Of Sites/Sq Mile: 0.000275470394393<br>Population/Sq Mile: 106.176689007<br>Household Income: 45047<br>Per Capita Income: 24981<br>Median House Price: 144100",
          "Massachusetts<br>No. Of Sites/Sq Mile: 0.00408162224076<br>Population/Sq Mile: 855.302154841<br>Household Income: 68563<br>Per Capita Income: 36895<br>Median House Price: 333100",
          "Maryland<br>No. Of Sites/Sq Mile: 0.00204628282493<br>Population/Sq Mile: 606.777902601<br>Household Income: 74551<br>Per Capita Income: 36897<br>Median House Price: 286900",
          "Maine<br>No. Of Sites/Sq Mile: 0.000421236133636<br>Population/Sq Mile: 43.0665342473<br>Household Income: 49331<br>Per Capita Income: 27655<br>Median House Price: 173800",
          "Michigan<br>No. Of Sites/Sq Mile: 0.0011442892397<br>Population/Sq Mile: 174.294105572<br>Household Income: 49576<br>Per Capita Income: 26607<br>Median House Price: 122400",
          "Minnesota<br>No. Of Sites/Sq Mile: 0.000314030585072<br>Population/Sq Mile: 68.0714175893<br>Household Income: 61492<br>Per Capita Income: 32157<br>Median House Price: 186200",
          "Missouri<br>No. Of Sites/Sq Mile: 0.000479052834156<br>Population/Sq Mile: 87.7602726711<br>Household Income: 48173<br>Per Capita Income: 26259<br>Median House Price: 138400",
          "Mississippi<br>No. Of Sites/Sq Mile: 0.000170550383141<br>Population/Sq Mile: 63.702294926<br>Household Income: 39665<br>Per Capita Income: 21057<br>Median House Price: 103100",
          "Montana<br>No. Of Sites/Sq Mile: 0.000116796401132<br>Population/Sq Mile: 6.97136420189<br>Household Income: 47169<br>Per Capita Income: 26381<br>Median House Price: 193500",
          "North Carolina<br>No. Of Sites/Sq Mile: 0.0008006424848<br>Population/Sq Mile: 202.117740431<br>Household Income: 46868<br>Per Capita Income: 25920<br>Median House Price: 154900",
          "North Dakota<br>No. Of Sites/Sq Mile: 0.0<br>Population/Sq Mile: 10.4622003647<br>Household Income: 57181<br>Per Capita Income: 32035<br>Median House Price: 153800",
          "Nebraska<br>No. Of Sites/Sq Mile: 0.000208137093659<br>Population/Sq Mile: 24.3177623805<br>Household Income: 52997<br>Per Capita Income: 27882<br>Median House Price: 133200",
          "New Hampshire<br>No. Of Sites/Sq Mile: 0.00223012678271<br>Population/Sq Mile: 147.656805789<br>Household Income: 66779<br>Per Capita Income: 34362<br>Median House Price: 237300",
          "New Jersey<br>No. Of Sites/Sq Mile: 0.0153693911834<br>Population/Sq Mile: 1200.48602329<br>Household Income: 72093<br>Per Capita Income: 36582<br>Median House Price: 315900",
          "New Mexico<br>No. Of Sites/Sq Mile: 0.000131844012382<br>Population/Sq Mile: 17.1736467222<br>Household Income: 44963<br>Per Capita Income: 24012<br>Median House Price: 160300",
          "Nevada<br>No. Of Sites/Sq Mile: 9.10531286811e-06<br>Population/Sq Mile: 25.482456384<br>Household Income: 51847<br>Per Capita Income: 26541<br>Median House Price: 173700",
          "New York<br>No. Of Sites/Sq Mile: 0.00180032147387<br>Population/Sq Mile: 416.682795429<br>Household Income: 59269<br>Per Capita Income: 33236<br>Median House Price: 283400",
          "Ohio<br>No. Of Sites/Sq Mile: 0.000927997639955<br>Population/Sq Mile: 282.696824636<br>Household Income: 49429<br>Per Capita Income: 26953<br>Median House Price: 129900",
          "Oklahoma<br>No. Of Sites/Sq Mile: 0.000101941163638<br>Population/Sq Mile: 56.0637516737<br>Household Income: 46879<br>Per Capita Income: 25032<br>Median House Price: 117900",
          "Oregon<br>No. Of Sites/Sq Mile: 0.000135421194813<br>Population/Sq Mile: 41.0350491928<br>Household Income: 51243<br>Per Capita Income: 27684<br>Median House Price: 237300",
          "Pennsylvania<br>No. Of Sites/Sq Mile: 0.00211974979812<br>Population/Sq Mile: 285.152290635<br>Household Income: 53599<br>Per Capita Income: 29291<br>Median House Price: 166000",
          "Puerto Rico<br>No. Of Sites/Sq Mile: 0.00483641536273<br>Population/Sq Mile: 1019.36642959<br>Household Income: 19350<br>Per Capita Income: 11394<br>Median House Price: 120500",
          "Rhode Island<br>No. Of Sites/Sq Mile: 0.0114840228532<br>Population/Sq Mile: 1008.35558363<br>Household Income: 56852<br>Per Capita Income: 31118<br>Median House Price: 238000",
          "South Carolina<br>No. Of Sites/Sq Mile: 0.000830303555659<br>Population/Sq Mile: 158.673533609<br>Household Income: 45483<br>Per Capita Income: 24604<br>Median House Price: 139900",
          "South Dakota<br>No. Of Sites/Sq Mile: 2.63557947959e-05<br>Population/Sq Mile: 11.111471307<br>Household Income: 50957<br>Per Capita Income: 26747<br>Median House Price: 140500",
          "Tennessee<br>No. Of Sites/Sq Mile: 0.000412449972245<br>Population/Sq Mile: 157.692119197<br>Household Income: 45219<br>Per Capita Income: 25227<br>Median House Price: 142100",
          "Texas<br>No. Of Sites/Sq Mile: 0.000198627089557<br>Population/Sq Mile: 101.370916533<br>Household Income: 53207<br>Per Capita Income: 26999<br>Median House Price: 136000",
          "Utah<br>No. Of Sites/Sq Mile: 0.000182606933098<br>Population/Sq Mile: 35.3451423208<br>Household Income: 60727<br>Per Capita Income: 24686<br>Median House Price: 215900",
          "Virginia<br>No. Of Sites/Sq Mile: 0.000782945526944<br>Population/Sq Mile: 208.531984714<br>Household Income: 65015<br>Per Capita Income: 34152<br>Median House Price: 245000",
          "Vermont<br>No. Of Sites/Sq Mile: 0.00129735900951<br>Population/Sq Mile: 67.7441953996<br>Household Income: 55176<br>Per Capita Income: 29894<br>Median House Price: 217500",
          "Washington<br>No. Of Sites/Sq Mile: 0.000766409503718<br>Population/Sq Mile: 104.975019558<br>Household Income: 61062<br>Per Capita Income: 31762<br>Median House Price: 259500",
          "Wisconsin<br>No. Of Sites/Sq Mile: 0.000681272912405<br>Population/Sq Mile: 105.728345188<br>Household Income: 53357<br>Per Capita Income: 28340<br>Median House Price: 165800",
          "West Virginia<br>No. Of Sites/Sq Mile: 0.000415321544016<br>Population/Sq Mile: 76.8934613022<br>Household Income: 41751<br>Per Capita Income: 23450<br>Median House Price: 103800",
          "Wyoming<br>No. Of Sites/Sq Mile: 2.05972374985e-05<br>Population/Sq Mile: 5.96989301795<br>Household Income: 58840<br>Per Capita Income: 29803<br>Median House Price: 194800"
         ],
         "type": "choropleth",
         "z": [
          6,
          12,
          9,
          9,
          98,
          20,
          14,
          1,
          13,
          53,
          16,
          3,
          12,
          6,
          45,
          39,
          12,
          13,
          12,
          32,
          20,
          13,
          65,
          25,
          33,
          8,
          17,
          39,
          0,
          16,
          20,
          114,
          16,
          1,
          85,
          38,
          7,
          13,
          95,
          17,
          12,
          25,
          2,
          17,
          52,
          15,
          31,
          12,
          51,
          37,
          10,
          2
         ]
        }
       ],
       "layout": {
        "geo": {
         "lakecolor": "rgb(255, 255, 255)",
         "projection": {
          "type": "albers usa"
         },
         "scope": "usa",
         "showlakes": true
        },
        "title": "Number of Superfund sites as of 2016<br> [Hover for breakdown]"
       }
      },
      "text/html": [
       "<div id=\"ed3da91b-5047-4359-9aba-faa01257cd31\" style=\"height: 525px; width: 100%;\" class=\"plotly-graph-div\"></div><script type=\"text/javascript\">require([\"plotly\"], function(Plotly) { window.PLOTLYENV=window.PLOTLYENV || {};window.PLOTLYENV.BASE_URL=\"https://plot.ly\";Plotly.newPlot(\"ed3da91b-5047-4359-9aba-faa01257cd31\", [{\"type\": \"choropleth\", \"colorscale\": [[0.0, \"rgb(242,240,247)\"], [0.2, \"rgb(218,218,235)\"], [0.4, \"rgb(188,189,220)\"], [0.6, \"rgb(158,154,200)\"], [0.8, \"rgb(117,107,177)\"], [1.0, \"rgb(84,39,143)\"]], \"autocolorscale\": false, \"locations\": [\"AK\", \"AL\", \"AR\", \"AZ\", \"CA\", \"CO\", \"CT\", \"DC\", \"DE\", \"FL\", \"GA\", \"HI\", \"IA\", \"ID\", \"IL\", \"IN\", \"KS\", \"KY\", \"LA\", \"MA\", \"MD\", \"ME\", \"MI\", \"MN\", \"MO\", \"MS\", \"MT\", \"NC\", \"ND\", \"NE\", \"NH\", \"NJ\", \"NM\", \"NV\", \"NY\", \"OH\", \"OK\", \"OR\", \"PA\", \"PR\", \"RI\", \"SC\", \"SD\", \"TN\", \"TX\", \"UT\", \"VA\", \"VT\", \"WA\", \"WI\", \"WV\", \"WY\"], \"z\": [6.0, 12.0, 9.0, 9.0, 98.0, 20.0, 14.0, 1.0, 13.0, 53.0, 16.0, 3.0, 12.0, 6.0, 45.0, 39.0, 12.0, 13.0, 12.0, 32.0, 20.0, 13.0, 65.0, 25.0, 33.0, 8.0, 17.0, 39.0, 0.0, 16.0, 20.0, 114.0, 16.0, 1.0, 85.0, 38.0, 7.0, 13.0, 95.0, 17.0, 12.0, 25.0, 2.0, 17.0, 52.0, 15.0, 31.0, 12.0, 51.0, 37.0, 10.0, 2.0], \"locationmode\": \"USA-states\", \"text\": [\"Alaska<br>No. Of Sites/Sq Mile: 1.04904043747e-05<br>Population/Sq Mile: 1.28223338471<br>Household Income: 72515<br>Per Capita Income: 33413<br>Median House Price: 250000\", \"Alabama<br>No. Of Sites/Sq Mile: 0.000236481160334<br>Population/Sq Mile: 95.1958852278<br>Household Income: 43623<br>Per Capita Income: 24091<br>Median House Price: 125500\", \"Arkansas<br>No. Of Sites/Sq Mile: 0.000172850322952<br>Population/Sq Mile: 56.8141342398<br>Household Income: 41371<br>Per Capita Income: 22798<br>Median House Price: 111400\", \"Arizona<br>No. Of Sites/Sq Mile: 7.92012501125e-05<br>Population/Sq Mile: 58.449888973<br>Household Income: 50255<br>Per Capita Income: 25848<br>Median House Price: 167500\", \"California<br>No. Of Sites/Sq Mile: 0.000628368906922<br>Population/Sq Mile: 246.355646286<br>Household Income: 61818<br>Per Capita Income: 30318<br>Median House Price: 385500\", \"Colorado<br>No. Of Sites/Sq Mile: 0.000192831433606<br>Population/Sq Mile: 50.8969505926<br>Household Income: 60629<br>Per Capita Income: 32217<br>Median House Price: 247800\", \"Connecticut<br>No. Of Sites/Sq Mile: 0.00288969616909<br>Population/Sq Mile: 741.665703435<br>Household Income: 70331<br>Per Capita Income: 38803<br>Median House Price: 270500\", \"District of Columbia<br>No. Of Sites/Sq Mile: 0.0162866449511<br>Population/Sq Mile: 10545.3420195<br>Household Income: 70848<br>Per Capita Income: 47675<br>Median House Price: 475800\", \"Delaware<br>No. Of Sites/Sq Mile: 0.00665451790577<br>Population/Sq Mile: 474.238825529<br>Household Income: 60509<br>Per Capita Income: 30554<br>Median House Price: 231500\", \"Florida<br>No. Of Sites/Sq Mile: 0.000982813375608<br>Population/Sq Mile: 364.304292373<br>Household Income: 47507<br>Per Capita Income: 26829<br>Median House Price: 159000\", \"Georgia<br>No. Of Sites/Sq Mile: 0.000276309213496<br>Population/Sq Mile: 172.808842033<br>Household Income: 49620<br>Per Capita Income: 25737<br>Median House Price: 148100\", \"Hawaii<br>No. Of Sites/Sq Mile: 0.00046709909663<br>Population/Sq Mile: 218.960330831<br>Household Income: 69515<br>Per Capita Income: 29822<br>Median House Price: 515300\", \"Iowa<br>No. Of Sites/Sq Mile: 0.000214786781162<br>Population/Sq Mile: 55.3707076652<br>Household Income: 53183<br>Per Capita Income: 27950<br>Median House Price: 129200\", \"Idaho<br>No. Of Sites/Sq Mile: 7.2509997618e-05<br>Population/Sq Mile: 19.5359698532<br>Household Income: 47583<br>Per Capita Income: 23399<br>Median House Price: 162900\", \"Illinois<br>No. Of Sites/Sq Mile: 0.000809591609608<br>Population/Sq Mile: 231.610864216<br>Household Income: 57574<br>Per Capita Income: 30494<br>Median House Price: 173800\", \"Indiana<br>No. Of Sites/Sq Mile: 0.00108735352093<br>Population/Sq Mile: 183.139468424<br>Household Income: 49255<br>Per Capita Income: 25346<br>Median House Price: 124200\", \"Kansas<br>No. Of Sites/Sq Mile: 0.00014667258572<br>Population/Sq Mile: 35.3601569788<br>Household Income: 52205<br>Per Capita Income: 27706<br>Median House Price: 132000\", \"Kentucky<br>No. Of Sites/Sq Mile: 0.000327223648302<br>Population/Sq Mile: 110.685991656<br>Household Income: 43740<br>Per Capita Income: 24063<br>Median House Price: 123200\", \"Louisiana<br>No. Of Sites/Sq Mile: 0.000275470394393<br>Population/Sq Mile: 106.176689007<br>Household Income: 45047<br>Per Capita Income: 24981<br>Median House Price: 144100\", \"Massachusetts<br>No. Of Sites/Sq Mile: 0.00408162224076<br>Population/Sq Mile: 855.302154841<br>Household Income: 68563<br>Per Capita Income: 36895<br>Median House Price: 333100\", \"Maryland<br>No. Of Sites/Sq Mile: 0.00204628282493<br>Population/Sq Mile: 606.777902601<br>Household Income: 74551<br>Per Capita Income: 36897<br>Median House Price: 286900\", \"Maine<br>No. Of Sites/Sq Mile: 0.000421236133636<br>Population/Sq Mile: 43.0665342473<br>Household Income: 49331<br>Per Capita Income: 27655<br>Median House Price: 173800\", \"Michigan<br>No. Of Sites/Sq Mile: 0.0011442892397<br>Population/Sq Mile: 174.294105572<br>Household Income: 49576<br>Per Capita Income: 26607<br>Median House Price: 122400\", \"Minnesota<br>No. Of Sites/Sq Mile: 0.000314030585072<br>Population/Sq Mile: 68.0714175893<br>Household Income: 61492<br>Per Capita Income: 32157<br>Median House Price: 186200\", \"Missouri<br>No. Of Sites/Sq Mile: 0.000479052834156<br>Population/Sq Mile: 87.7602726711<br>Household Income: 48173<br>Per Capita Income: 26259<br>Median House Price: 138400\", \"Mississippi<br>No. Of Sites/Sq Mile: 0.000170550383141<br>Population/Sq Mile: 63.702294926<br>Household Income: 39665<br>Per Capita Income: 21057<br>Median House Price: 103100\", \"Montana<br>No. Of Sites/Sq Mile: 0.000116796401132<br>Population/Sq Mile: 6.97136420189<br>Household Income: 47169<br>Per Capita Income: 26381<br>Median House Price: 193500\", \"North Carolina<br>No. Of Sites/Sq Mile: 0.0008006424848<br>Population/Sq Mile: 202.117740431<br>Household Income: 46868<br>Per Capita Income: 25920<br>Median House Price: 154900\", \"North Dakota<br>No. Of Sites/Sq Mile: 0.0<br>Population/Sq Mile: 10.4622003647<br>Household Income: 57181<br>Per Capita Income: 32035<br>Median House Price: 153800\", \"Nebraska<br>No. Of Sites/Sq Mile: 0.000208137093659<br>Population/Sq Mile: 24.3177623805<br>Household Income: 52997<br>Per Capita Income: 27882<br>Median House Price: 133200\", \"New Hampshire<br>No. Of Sites/Sq Mile: 0.00223012678271<br>Population/Sq Mile: 147.656805789<br>Household Income: 66779<br>Per Capita Income: 34362<br>Median House Price: 237300\", \"New Jersey<br>No. Of Sites/Sq Mile: 0.0153693911834<br>Population/Sq Mile: 1200.48602329<br>Household Income: 72093<br>Per Capita Income: 36582<br>Median House Price: 315900\", \"New Mexico<br>No. Of Sites/Sq Mile: 0.000131844012382<br>Population/Sq Mile: 17.1736467222<br>Household Income: 44963<br>Per Capita Income: 24012<br>Median House Price: 160300\", \"Nevada<br>No. Of Sites/Sq Mile: 9.10531286811e-06<br>Population/Sq Mile: 25.482456384<br>Household Income: 51847<br>Per Capita Income: 26541<br>Median House Price: 173700\", \"New York<br>No. Of Sites/Sq Mile: 0.00180032147387<br>Population/Sq Mile: 416.682795429<br>Household Income: 59269<br>Per Capita Income: 33236<br>Median House Price: 283400\", \"Ohio<br>No. Of Sites/Sq Mile: 0.000927997639955<br>Population/Sq Mile: 282.696824636<br>Household Income: 49429<br>Per Capita Income: 26953<br>Median House Price: 129900\", \"Oklahoma<br>No. Of Sites/Sq Mile: 0.000101941163638<br>Population/Sq Mile: 56.0637516737<br>Household Income: 46879<br>Per Capita Income: 25032<br>Median House Price: 117900\", \"Oregon<br>No. Of Sites/Sq Mile: 0.000135421194813<br>Population/Sq Mile: 41.0350491928<br>Household Income: 51243<br>Per Capita Income: 27684<br>Median House Price: 237300\", \"Pennsylvania<br>No. Of Sites/Sq Mile: 0.00211974979812<br>Population/Sq Mile: 285.152290635<br>Household Income: 53599<br>Per Capita Income: 29291<br>Median House Price: 166000\", \"Puerto Rico<br>No. Of Sites/Sq Mile: 0.00483641536273<br>Population/Sq Mile: 1019.36642959<br>Household Income: 19350<br>Per Capita Income: 11394<br>Median House Price: 120500\", \"Rhode Island<br>No. Of Sites/Sq Mile: 0.0114840228532<br>Population/Sq Mile: 1008.35558363<br>Household Income: 56852<br>Per Capita Income: 31118<br>Median House Price: 238000\", \"South Carolina<br>No. Of Sites/Sq Mile: 0.000830303555659<br>Population/Sq Mile: 158.673533609<br>Household Income: 45483<br>Per Capita Income: 24604<br>Median House Price: 139900\", \"South Dakota<br>No. Of Sites/Sq Mile: 2.63557947959e-05<br>Population/Sq Mile: 11.111471307<br>Household Income: 50957<br>Per Capita Income: 26747<br>Median House Price: 140500\", \"Tennessee<br>No. Of Sites/Sq Mile: 0.000412449972245<br>Population/Sq Mile: 157.692119197<br>Household Income: 45219<br>Per Capita Income: 25227<br>Median House Price: 142100\", \"Texas<br>No. Of Sites/Sq Mile: 0.000198627089557<br>Population/Sq Mile: 101.370916533<br>Household Income: 53207<br>Per Capita Income: 26999<br>Median House Price: 136000\", \"Utah<br>No. Of Sites/Sq Mile: 0.000182606933098<br>Population/Sq Mile: 35.3451423208<br>Household Income: 60727<br>Per Capita Income: 24686<br>Median House Price: 215900\", \"Virginia<br>No. Of Sites/Sq Mile: 0.000782945526944<br>Population/Sq Mile: 208.531984714<br>Household Income: 65015<br>Per Capita Income: 34152<br>Median House Price: 245000\", \"Vermont<br>No. Of Sites/Sq Mile: 0.00129735900951<br>Population/Sq Mile: 67.7441953996<br>Household Income: 55176<br>Per Capita Income: 29894<br>Median House Price: 217500\", \"Washington<br>No. Of Sites/Sq Mile: 0.000766409503718<br>Population/Sq Mile: 104.975019558<br>Household Income: 61062<br>Per Capita Income: 31762<br>Median House Price: 259500\", \"Wisconsin<br>No. Of Sites/Sq Mile: 0.000681272912405<br>Population/Sq Mile: 105.728345188<br>Household Income: 53357<br>Per Capita Income: 28340<br>Median House Price: 165800\", \"West Virginia<br>No. Of Sites/Sq Mile: 0.000415321544016<br>Population/Sq Mile: 76.8934613022<br>Household Income: 41751<br>Per Capita Income: 23450<br>Median House Price: 103800\", \"Wyoming<br>No. Of Sites/Sq Mile: 2.05972374985e-05<br>Population/Sq Mile: 5.96989301795<br>Household Income: 58840<br>Per Capita Income: 29803<br>Median House Price: 194800\"], \"marker\": {\"line\": {\"color\": \"rgb(255,255,255)\", \"width\": 2}}, \"colorbar\": {\"title\": \"No Of Sites\"}}], {\"title\": \"Number of Superfund sites as of 2016<br> [Hover for breakdown]\", \"geo\": {\"scope\": \"usa\", \"projection\": {\"type\": \"albers usa\"}, \"showlakes\": true, \"lakecolor\": \"rgb(255, 255, 255)\"}}, {\"showLink\": true, \"linkText\": \"Export to plot.ly\"})});</script>"
      ],
      "text/vnd.plotly.v1+html": [
       "<div id=\"ed3da91b-5047-4359-9aba-faa01257cd31\" style=\"height: 525px; width: 100%;\" class=\"plotly-graph-div\"></div><script type=\"text/javascript\">require([\"plotly\"], function(Plotly) { window.PLOTLYENV=window.PLOTLYENV || {};window.PLOTLYENV.BASE_URL=\"https://plot.ly\";Plotly.newPlot(\"ed3da91b-5047-4359-9aba-faa01257cd31\", [{\"type\": \"choropleth\", \"colorscale\": [[0.0, \"rgb(242,240,247)\"], [0.2, \"rgb(218,218,235)\"], [0.4, \"rgb(188,189,220)\"], [0.6, \"rgb(158,154,200)\"], [0.8, \"rgb(117,107,177)\"], [1.0, \"rgb(84,39,143)\"]], \"autocolorscale\": false, \"locations\": [\"AK\", \"AL\", \"AR\", \"AZ\", \"CA\", \"CO\", \"CT\", \"DC\", \"DE\", \"FL\", \"GA\", \"HI\", \"IA\", \"ID\", \"IL\", \"IN\", \"KS\", \"KY\", \"LA\", \"MA\", \"MD\", \"ME\", \"MI\", \"MN\", \"MO\", \"MS\", \"MT\", \"NC\", \"ND\", \"NE\", \"NH\", \"NJ\", \"NM\", \"NV\", \"NY\", \"OH\", \"OK\", \"OR\", \"PA\", \"PR\", \"RI\", \"SC\", \"SD\", \"TN\", \"TX\", \"UT\", \"VA\", \"VT\", \"WA\", \"WI\", \"WV\", \"WY\"], \"z\": [6.0, 12.0, 9.0, 9.0, 98.0, 20.0, 14.0, 1.0, 13.0, 53.0, 16.0, 3.0, 12.0, 6.0, 45.0, 39.0, 12.0, 13.0, 12.0, 32.0, 20.0, 13.0, 65.0, 25.0, 33.0, 8.0, 17.0, 39.0, 0.0, 16.0, 20.0, 114.0, 16.0, 1.0, 85.0, 38.0, 7.0, 13.0, 95.0, 17.0, 12.0, 25.0, 2.0, 17.0, 52.0, 15.0, 31.0, 12.0, 51.0, 37.0, 10.0, 2.0], \"locationmode\": \"USA-states\", \"text\": [\"Alaska<br>No. Of Sites/Sq Mile: 1.04904043747e-05<br>Population/Sq Mile: 1.28223338471<br>Household Income: 72515<br>Per Capita Income: 33413<br>Median House Price: 250000\", \"Alabama<br>No. Of Sites/Sq Mile: 0.000236481160334<br>Population/Sq Mile: 95.1958852278<br>Household Income: 43623<br>Per Capita Income: 24091<br>Median House Price: 125500\", \"Arkansas<br>No. Of Sites/Sq Mile: 0.000172850322952<br>Population/Sq Mile: 56.8141342398<br>Household Income: 41371<br>Per Capita Income: 22798<br>Median House Price: 111400\", \"Arizona<br>No. Of Sites/Sq Mile: 7.92012501125e-05<br>Population/Sq Mile: 58.449888973<br>Household Income: 50255<br>Per Capita Income: 25848<br>Median House Price: 167500\", \"California<br>No. Of Sites/Sq Mile: 0.000628368906922<br>Population/Sq Mile: 246.355646286<br>Household Income: 61818<br>Per Capita Income: 30318<br>Median House Price: 385500\", \"Colorado<br>No. Of Sites/Sq Mile: 0.000192831433606<br>Population/Sq Mile: 50.8969505926<br>Household Income: 60629<br>Per Capita Income: 32217<br>Median House Price: 247800\", \"Connecticut<br>No. Of Sites/Sq Mile: 0.00288969616909<br>Population/Sq Mile: 741.665703435<br>Household Income: 70331<br>Per Capita Income: 38803<br>Median House Price: 270500\", \"District of Columbia<br>No. Of Sites/Sq Mile: 0.0162866449511<br>Population/Sq Mile: 10545.3420195<br>Household Income: 70848<br>Per Capita Income: 47675<br>Median House Price: 475800\", \"Delaware<br>No. Of Sites/Sq Mile: 0.00665451790577<br>Population/Sq Mile: 474.238825529<br>Household Income: 60509<br>Per Capita Income: 30554<br>Median House Price: 231500\", \"Florida<br>No. Of Sites/Sq Mile: 0.000982813375608<br>Population/Sq Mile: 364.304292373<br>Household Income: 47507<br>Per Capita Income: 26829<br>Median House Price: 159000\", \"Georgia<br>No. Of Sites/Sq Mile: 0.000276309213496<br>Population/Sq Mile: 172.808842033<br>Household Income: 49620<br>Per Capita Income: 25737<br>Median House Price: 148100\", \"Hawaii<br>No. Of Sites/Sq Mile: 0.00046709909663<br>Population/Sq Mile: 218.960330831<br>Household Income: 69515<br>Per Capita Income: 29822<br>Median House Price: 515300\", \"Iowa<br>No. Of Sites/Sq Mile: 0.000214786781162<br>Population/Sq Mile: 55.3707076652<br>Household Income: 53183<br>Per Capita Income: 27950<br>Median House Price: 129200\", \"Idaho<br>No. Of Sites/Sq Mile: 7.2509997618e-05<br>Population/Sq Mile: 19.5359698532<br>Household Income: 47583<br>Per Capita Income: 23399<br>Median House Price: 162900\", \"Illinois<br>No. Of Sites/Sq Mile: 0.000809591609608<br>Population/Sq Mile: 231.610864216<br>Household Income: 57574<br>Per Capita Income: 30494<br>Median House Price: 173800\", \"Indiana<br>No. Of Sites/Sq Mile: 0.00108735352093<br>Population/Sq Mile: 183.139468424<br>Household Income: 49255<br>Per Capita Income: 25346<br>Median House Price: 124200\", \"Kansas<br>No. Of Sites/Sq Mile: 0.00014667258572<br>Population/Sq Mile: 35.3601569788<br>Household Income: 52205<br>Per Capita Income: 27706<br>Median House Price: 132000\", \"Kentucky<br>No. Of Sites/Sq Mile: 0.000327223648302<br>Population/Sq Mile: 110.685991656<br>Household Income: 43740<br>Per Capita Income: 24063<br>Median House Price: 123200\", \"Louisiana<br>No. Of Sites/Sq Mile: 0.000275470394393<br>Population/Sq Mile: 106.176689007<br>Household Income: 45047<br>Per Capita Income: 24981<br>Median House Price: 144100\", \"Massachusetts<br>No. Of Sites/Sq Mile: 0.00408162224076<br>Population/Sq Mile: 855.302154841<br>Household Income: 68563<br>Per Capita Income: 36895<br>Median House Price: 333100\", \"Maryland<br>No. Of Sites/Sq Mile: 0.00204628282493<br>Population/Sq Mile: 606.777902601<br>Household Income: 74551<br>Per Capita Income: 36897<br>Median House Price: 286900\", \"Maine<br>No. Of Sites/Sq Mile: 0.000421236133636<br>Population/Sq Mile: 43.0665342473<br>Household Income: 49331<br>Per Capita Income: 27655<br>Median House Price: 173800\", \"Michigan<br>No. Of Sites/Sq Mile: 0.0011442892397<br>Population/Sq Mile: 174.294105572<br>Household Income: 49576<br>Per Capita Income: 26607<br>Median House Price: 122400\", \"Minnesota<br>No. Of Sites/Sq Mile: 0.000314030585072<br>Population/Sq Mile: 68.0714175893<br>Household Income: 61492<br>Per Capita Income: 32157<br>Median House Price: 186200\", \"Missouri<br>No. Of Sites/Sq Mile: 0.000479052834156<br>Population/Sq Mile: 87.7602726711<br>Household Income: 48173<br>Per Capita Income: 26259<br>Median House Price: 138400\", \"Mississippi<br>No. Of Sites/Sq Mile: 0.000170550383141<br>Population/Sq Mile: 63.702294926<br>Household Income: 39665<br>Per Capita Income: 21057<br>Median House Price: 103100\", \"Montana<br>No. Of Sites/Sq Mile: 0.000116796401132<br>Population/Sq Mile: 6.97136420189<br>Household Income: 47169<br>Per Capita Income: 26381<br>Median House Price: 193500\", \"North Carolina<br>No. Of Sites/Sq Mile: 0.0008006424848<br>Population/Sq Mile: 202.117740431<br>Household Income: 46868<br>Per Capita Income: 25920<br>Median House Price: 154900\", \"North Dakota<br>No. Of Sites/Sq Mile: 0.0<br>Population/Sq Mile: 10.4622003647<br>Household Income: 57181<br>Per Capita Income: 32035<br>Median House Price: 153800\", \"Nebraska<br>No. Of Sites/Sq Mile: 0.000208137093659<br>Population/Sq Mile: 24.3177623805<br>Household Income: 52997<br>Per Capita Income: 27882<br>Median House Price: 133200\", \"New Hampshire<br>No. Of Sites/Sq Mile: 0.00223012678271<br>Population/Sq Mile: 147.656805789<br>Household Income: 66779<br>Per Capita Income: 34362<br>Median House Price: 237300\", \"New Jersey<br>No. Of Sites/Sq Mile: 0.0153693911834<br>Population/Sq Mile: 1200.48602329<br>Household Income: 72093<br>Per Capita Income: 36582<br>Median House Price: 315900\", \"New Mexico<br>No. Of Sites/Sq Mile: 0.000131844012382<br>Population/Sq Mile: 17.1736467222<br>Household Income: 44963<br>Per Capita Income: 24012<br>Median House Price: 160300\", \"Nevada<br>No. Of Sites/Sq Mile: 9.10531286811e-06<br>Population/Sq Mile: 25.482456384<br>Household Income: 51847<br>Per Capita Income: 26541<br>Median House Price: 173700\", \"New York<br>No. Of Sites/Sq Mile: 0.00180032147387<br>Population/Sq Mile: 416.682795429<br>Household Income: 59269<br>Per Capita Income: 33236<br>Median House Price: 283400\", \"Ohio<br>No. Of Sites/Sq Mile: 0.000927997639955<br>Population/Sq Mile: 282.696824636<br>Household Income: 49429<br>Per Capita Income: 26953<br>Median House Price: 129900\", \"Oklahoma<br>No. Of Sites/Sq Mile: 0.000101941163638<br>Population/Sq Mile: 56.0637516737<br>Household Income: 46879<br>Per Capita Income: 25032<br>Median House Price: 117900\", \"Oregon<br>No. Of Sites/Sq Mile: 0.000135421194813<br>Population/Sq Mile: 41.0350491928<br>Household Income: 51243<br>Per Capita Income: 27684<br>Median House Price: 237300\", \"Pennsylvania<br>No. Of Sites/Sq Mile: 0.00211974979812<br>Population/Sq Mile: 285.152290635<br>Household Income: 53599<br>Per Capita Income: 29291<br>Median House Price: 166000\", \"Puerto Rico<br>No. Of Sites/Sq Mile: 0.00483641536273<br>Population/Sq Mile: 1019.36642959<br>Household Income: 19350<br>Per Capita Income: 11394<br>Median House Price: 120500\", \"Rhode Island<br>No. Of Sites/Sq Mile: 0.0114840228532<br>Population/Sq Mile: 1008.35558363<br>Household Income: 56852<br>Per Capita Income: 31118<br>Median House Price: 238000\", \"South Carolina<br>No. Of Sites/Sq Mile: 0.000830303555659<br>Population/Sq Mile: 158.673533609<br>Household Income: 45483<br>Per Capita Income: 24604<br>Median House Price: 139900\", \"South Dakota<br>No. Of Sites/Sq Mile: 2.63557947959e-05<br>Population/Sq Mile: 11.111471307<br>Household Income: 50957<br>Per Capita Income: 26747<br>Median House Price: 140500\", \"Tennessee<br>No. Of Sites/Sq Mile: 0.000412449972245<br>Population/Sq Mile: 157.692119197<br>Household Income: 45219<br>Per Capita Income: 25227<br>Median House Price: 142100\", \"Texas<br>No. Of Sites/Sq Mile: 0.000198627089557<br>Population/Sq Mile: 101.370916533<br>Household Income: 53207<br>Per Capita Income: 26999<br>Median House Price: 136000\", \"Utah<br>No. Of Sites/Sq Mile: 0.000182606933098<br>Population/Sq Mile: 35.3451423208<br>Household Income: 60727<br>Per Capita Income: 24686<br>Median House Price: 215900\", \"Virginia<br>No. Of Sites/Sq Mile: 0.000782945526944<br>Population/Sq Mile: 208.531984714<br>Household Income: 65015<br>Per Capita Income: 34152<br>Median House Price: 245000\", \"Vermont<br>No. Of Sites/Sq Mile: 0.00129735900951<br>Population/Sq Mile: 67.7441953996<br>Household Income: 55176<br>Per Capita Income: 29894<br>Median House Price: 217500\", \"Washington<br>No. Of Sites/Sq Mile: 0.000766409503718<br>Population/Sq Mile: 104.975019558<br>Household Income: 61062<br>Per Capita Income: 31762<br>Median House Price: 259500\", \"Wisconsin<br>No. Of Sites/Sq Mile: 0.000681272912405<br>Population/Sq Mile: 105.728345188<br>Household Income: 53357<br>Per Capita Income: 28340<br>Median House Price: 165800\", \"West Virginia<br>No. Of Sites/Sq Mile: 0.000415321544016<br>Population/Sq Mile: 76.8934613022<br>Household Income: 41751<br>Per Capita Income: 23450<br>Median House Price: 103800\", \"Wyoming<br>No. Of Sites/Sq Mile: 2.05972374985e-05<br>Population/Sq Mile: 5.96989301795<br>Household Income: 58840<br>Per Capita Income: 29803<br>Median House Price: 194800\"], \"marker\": {\"line\": {\"color\": \"rgb(255,255,255)\", \"width\": 2}}, \"colorbar\": {\"title\": \"No Of Sites\"}}], {\"title\": \"Number of Superfund sites as of 2016<br> [Hover for breakdown]\", \"geo\": {\"scope\": \"usa\", \"projection\": {\"type\": \"albers usa\"}, \"showlakes\": true, \"lakecolor\": \"rgb(255, 255, 255)\"}}, {\"showLink\": true, \"linkText\": \"Export to plot.ly\"})});</script>"
      ]
     },
     "metadata": {},
     "output_type": "display_data"
    }
   ],
   "source": [
    "censusStateAndSFSitesStr = censusStateAndSFSites.copy()\n",
    "for col in censusStateAndSFSitesStr.columns:\n",
    "    censusStateAndSFSitesStr[col] = censusStateAndSFSitesStr[col].astype(str)\n",
    "\n",
    "scl = [[0.0, 'rgb(242,240,247)'],[0.2, 'rgb(218,218,235)'],[0.4, 'rgb(188,189,220)'],\\\n",
    "            [0.6, 'rgb(158,154,200)'],[0.8, 'rgb(117,107,177)'],[1.0, 'rgb(84,39,143)']]\n",
    "\n",
    "censusStateAndSFSitesStr['text'] = censusStateAndSFSitesStr['Name'] + '<br>' +\\\n",
    "    'No. Of Sites/Sq Mile: '+censusStateAndSFSitesStr['No. Of Sites Per Sq Miles']+ '<br>' +\\\n",
    "    'Population/Sq Mile: '+censusStateAndSFSitesStr['Population Density']+ '<br>' +\\\n",
    "    'Household Income: '+censusStateAndSFSitesStr['Household Income'] + '<br>' +\\\n",
    "    'Per Capita Income: '+censusStateAndSFSitesStr['Per Capita Income'] + '<br>' +\\\n",
    "    'Median House Price: '+censusStateAndSFSitesStr['Median House Price']\n",
    "\n",
    "data = [ dict(\n",
    "        type='choropleth',\n",
    "        colorscale = scl,\n",
    "        autocolorscale = False,\n",
    "        locations = censusStateAndSFSitesStr['Code'],\n",
    "        z = censusStateAndSFSitesStr['No. Of SF Sites'].astype(float),\n",
    "        locationmode = 'USA-states',\n",
    "        text = censusStateAndSFSitesStr['text'],\n",
    "        marker = dict(\n",
    "            line = dict (\n",
    "                color = 'rgb(255,255,255)',\n",
    "                width = 2\n",
    "            ) ),\n",
    "        colorbar = dict(\n",
    "            title = \"No Of Sites\")\n",
    "        ) ]\n",
    "\n",
    "layout = dict(\n",
    "        title = 'Number of Superfund sites as of 2016<br> [Hover for breakdown]',\n",
    "        geo = dict(\n",
    "            scope='usa',\n",
    "            projection=dict( type='albers usa' ),\n",
    "            showlakes = True,\n",
    "            lakecolor = 'rgb(255, 255, 255)'),\n",
    "             )\n",
    "    \n",
    "fig = dict( data=data, layout=layout )\n",
    "py.offline.iplot( fig, filename='d3-cloropleth-map' )\n"
   ]
  },
  {
   "cell_type": "code",
   "execution_count": 9,
   "metadata": {
    "collapsed": true
   },
   "outputs": [],
   "source": [
    "#Function to update Google api key in code for code generated by gmplot\n",
    "def insertapikey(fname, apikey):\n",
    "    \"\"\"put the google api key in a html file\"\"\"\n",
    "    def putkey(htmltxt, apikey, apistring=None):\n",
    "        \"\"\"put the apikey in the htmltxt and return soup\"\"\"\n",
    "        if not apistring:\n",
    "            apistring = \"https://maps.googleapis.com/maps/api/js?key=%s&callback=initMap\"\n",
    "        soup = BeautifulSoup(htmltxt, 'html.parser')\n",
    "        body = soup.body\n",
    "        src = apistring % (apikey, )\n",
    "        tscript = soup.new_tag(\"script\", src=src, async=\"defer\")\n",
    "        body.insert(-1, tscript)\n",
    "        return soup\n",
    "    htmltxt = open(fname, 'r').read()\n",
    "    soup = putkey(htmltxt, apikey)\n",
    "    newtxt = soup.prettify()\n",
    "    open(fname, 'w').write(newtxt)"
   ]
  },
  {
   "cell_type": "markdown",
   "metadata": {},
   "source": [
    "## Plot all Superfund sites on Google map "
   ]
  },
  {
   "cell_type": "code",
   "execution_count": 10,
   "metadata": {},
   "outputs": [
    {
     "data": {
      "text/html": [
       "\n",
       "        <iframe\n",
       "            width=\"800\"\n",
       "            height=\"400\"\n",
       "            src=\"allSFSites.html\"\n",
       "            frameborder=\"0\"\n",
       "            allowfullscreen\n",
       "        ></iframe>\n",
       "        "
      ],
      "text/plain": [
       "<IPython.lib.display.IFrame at 0x27adb350f60>"
      ]
     },
     "metadata": {},
     "output_type": "display_data"
    }
   ],
   "source": [
    "fname = \"allSFSites.html\"\n",
    "gmap = gmplot.GoogleMapPlotter(37.428, -95.145, 4)\n",
    "for x in range(len(longitudes)):\n",
    "    gmap.circle(latitudes[x],longitudes[x], 3000, \"r\", ew=1)\n",
    "gmap.draw(fname)  \n",
    "\n",
    "insertapikey(fname, gkey)\n",
    "display(IFrame(fname, width=800, height=400))"
   ]
  },
  {
   "cell_type": "code",
   "execution_count": 11,
   "metadata": {
    "collapsed": true
   },
   "outputs": [],
   "source": [
    "cur_addr = \"300 atrium drive somerset nj\"\n",
    "target_url = \"https://maps.googleapis.com/maps/api/geocode/json\" \\\n",
    "    \"?address=%s&key=%s\" % (cur_addr, gkey)\n",
    "geo_data = requests.get(target_url).json()\n",
    "lat = geo_data[\"results\"][0][\"geometry\"][\"location\"][\"lat\"]\n",
    "lon = geo_data[\"results\"][0][\"geometry\"][\"location\"][\"lng\"]"
   ]
  },
  {
   "cell_type": "markdown",
   "metadata": {},
   "source": [
    "## Plot markers for all Superfund sites near a specific location"
   ]
  },
  {
   "cell_type": "markdown",
   "metadata": {},
   "source": [
    "### (300 Atrium Drive, Somerset, NJ)"
   ]
  },
  {
   "cell_type": "code",
   "execution_count": 13,
   "metadata": {},
   "outputs": [
    {
     "data": {
      "text/html": [
       "\n",
       "        <iframe\n",
       "            width=\"800\"\n",
       "            height=\"400\"\n",
       "            src=\"allSFSites.html\"\n",
       "            frameborder=\"0\"\n",
       "            allowfullscreen\n",
       "        ></iframe>\n",
       "        "
      ],
      "text/plain": [
       "<IPython.lib.display.IFrame at 0x27add7dd908>"
      ]
     },
     "metadata": {},
     "output_type": "display_data"
    }
   ],
   "source": [
    "gmap = gmplot.GoogleMapPlotter(lat, lon, 12)\n",
    "for x in range(len(longitudes)):\n",
    "    gmap.marker(latitudes[x],longitudes[x], title=sitename[x])\n",
    "gmap.coloricon = \"http://www.googlemapsmarkers.com/v1/%s/\"\n",
    "gmap.draw(fname) \n",
    "\n",
    "insertapikey(fname, gkey)\n",
    "display(IFrame(fname, width=800, height=400))"
   ]
  },
  {
   "cell_type": "markdown",
   "metadata": {},
   "source": [
    "## Extract Census data of 2011 to 2015 for all US zip codes"
   ]
  },
  {
   "cell_type": "code",
   "execution_count": 14,
   "metadata": {},
   "outputs": [
    {
     "data": {
      "text/html": [
       "<div>\n",
       "<style>\n",
       "    .dataframe thead tr:only-child th {\n",
       "        text-align: right;\n",
       "    }\n",
       "\n",
       "    .dataframe thead th {\n",
       "        text-align: left;\n",
       "    }\n",
       "\n",
       "    .dataframe tbody tr th {\n",
       "        vertical-align: top;\n",
       "    }\n",
       "</style>\n",
       "<table border=\"1\" class=\"dataframe\">\n",
       "  <thead>\n",
       "    <tr style=\"text-align: right;\">\n",
       "      <th></th>\n",
       "      <th>B01002_001E</th>\n",
       "      <th>B01002_002E</th>\n",
       "      <th>B01002_003E</th>\n",
       "      <th>B01003_001E</th>\n",
       "      <th>B02001_002E</th>\n",
       "      <th>B02001_003E</th>\n",
       "      <th>B02001_004E</th>\n",
       "      <th>B02001_005E</th>\n",
       "      <th>B02001_006E</th>\n",
       "      <th>B02001_008E</th>\n",
       "      <th>...</th>\n",
       "      <th>C24010_067E</th>\n",
       "      <th>C24010_068E</th>\n",
       "      <th>C24010_069E</th>\n",
       "      <th>C24010_070E</th>\n",
       "      <th>C24010_071E</th>\n",
       "      <th>C24010_072E</th>\n",
       "      <th>C24010_073E</th>\n",
       "      <th>NAME</th>\n",
       "      <th>zip code tabulation area</th>\n",
       "      <th>Year</th>\n",
       "    </tr>\n",
       "  </thead>\n",
       "  <tbody>\n",
       "    <tr>\n",
       "      <th>0</th>\n",
       "      <td>44.1</td>\n",
       "      <td>42.7</td>\n",
       "      <td>45.6</td>\n",
       "      <td>16775</td>\n",
       "      <td>15996</td>\n",
       "      <td>259</td>\n",
       "      <td>17</td>\n",
       "      <td>98</td>\n",
       "      <td>0</td>\n",
       "      <td>144</td>\n",
       "      <td>...</td>\n",
       "      <td>0</td>\n",
       "      <td>0</td>\n",
       "      <td>0</td>\n",
       "      <td>187</td>\n",
       "      <td>125</td>\n",
       "      <td>62</td>\n",
       "      <td>0</td>\n",
       "      <td>ZCTA5 01001</td>\n",
       "      <td>01001</td>\n",
       "      <td>2011</td>\n",
       "    </tr>\n",
       "    <tr>\n",
       "      <th>1</th>\n",
       "      <td>23.8</td>\n",
       "      <td>23.3</td>\n",
       "      <td>24.5</td>\n",
       "      <td>27684</td>\n",
       "      <td>21922</td>\n",
       "      <td>1190</td>\n",
       "      <td>99</td>\n",
       "      <td>3317</td>\n",
       "      <td>0</td>\n",
       "      <td>845</td>\n",
       "      <td>...</td>\n",
       "      <td>19</td>\n",
       "      <td>57</td>\n",
       "      <td>46</td>\n",
       "      <td>152</td>\n",
       "      <td>88</td>\n",
       "      <td>44</td>\n",
       "      <td>20</td>\n",
       "      <td>ZCTA5 01002</td>\n",
       "      <td>01002</td>\n",
       "      <td>2011</td>\n",
       "    </tr>\n",
       "    <tr>\n",
       "      <th>2</th>\n",
       "      <td>19.9</td>\n",
       "      <td>20</td>\n",
       "      <td>19.9</td>\n",
       "      <td>11516</td>\n",
       "      <td>9574</td>\n",
       "      <td>636</td>\n",
       "      <td>0</td>\n",
       "      <td>945</td>\n",
       "      <td>3</td>\n",
       "      <td>265</td>\n",
       "      <td>...</td>\n",
       "      <td>0</td>\n",
       "      <td>6</td>\n",
       "      <td>29</td>\n",
       "      <td>366</td>\n",
       "      <td>300</td>\n",
       "      <td>22</td>\n",
       "      <td>44</td>\n",
       "      <td>ZCTA5 01003</td>\n",
       "      <td>01003</td>\n",
       "      <td>2011</td>\n",
       "    </tr>\n",
       "    <tr>\n",
       "      <th>3</th>\n",
       "      <td>42.8</td>\n",
       "      <td>42.6</td>\n",
       "      <td>43.3</td>\n",
       "      <td>5045</td>\n",
       "      <td>4953</td>\n",
       "      <td>6</td>\n",
       "      <td>9</td>\n",
       "      <td>63</td>\n",
       "      <td>0</td>\n",
       "      <td>0</td>\n",
       "      <td>...</td>\n",
       "      <td>0</td>\n",
       "      <td>0</td>\n",
       "      <td>0</td>\n",
       "      <td>100</td>\n",
       "      <td>64</td>\n",
       "      <td>0</td>\n",
       "      <td>36</td>\n",
       "      <td>ZCTA5 01005</td>\n",
       "      <td>01005</td>\n",
       "      <td>2011</td>\n",
       "    </tr>\n",
       "    <tr>\n",
       "      <th>4</th>\n",
       "      <td>40.5</td>\n",
       "      <td>38.1</td>\n",
       "      <td>42.1</td>\n",
       "      <td>14479</td>\n",
       "      <td>13619</td>\n",
       "      <td>188</td>\n",
       "      <td>0</td>\n",
       "      <td>185</td>\n",
       "      <td>0</td>\n",
       "      <td>280</td>\n",
       "      <td>...</td>\n",
       "      <td>15</td>\n",
       "      <td>9</td>\n",
       "      <td>45</td>\n",
       "      <td>111</td>\n",
       "      <td>54</td>\n",
       "      <td>45</td>\n",
       "      <td>12</td>\n",
       "      <td>ZCTA5 01007</td>\n",
       "      <td>01007</td>\n",
       "      <td>2011</td>\n",
       "    </tr>\n",
       "  </tbody>\n",
       "</table>\n",
       "<p>5 rows × 146 columns</p>\n",
       "</div>"
      ],
      "text/plain": [
       "  B01002_001E B01002_002E B01002_003E B01003_001E B02001_002E B02001_003E  \\\n",
       "0        44.1        42.7        45.6       16775       15996         259   \n",
       "1        23.8        23.3        24.5       27684       21922        1190   \n",
       "2        19.9          20        19.9       11516        9574         636   \n",
       "3        42.8        42.6        43.3        5045        4953           6   \n",
       "4        40.5        38.1        42.1       14479       13619         188   \n",
       "\n",
       "  B02001_004E B02001_005E B02001_006E B02001_008E  ...  C24010_067E  \\\n",
       "0          17          98           0         144  ...            0   \n",
       "1          99        3317           0         845  ...           19   \n",
       "2           0         945           3         265  ...            0   \n",
       "3           9          63           0           0  ...            0   \n",
       "4           0         185           0         280  ...           15   \n",
       "\n",
       "  C24010_068E C24010_069E C24010_070E C24010_071E C24010_072E C24010_073E  \\\n",
       "0           0           0         187         125          62           0   \n",
       "1          57          46         152          88          44          20   \n",
       "2           6          29         366         300          22          44   \n",
       "3           0           0         100          64           0          36   \n",
       "4           9          45         111          54          45          12   \n",
       "\n",
       "          NAME zip code tabulation area  Year  \n",
       "0  ZCTA5 01001                    01001  2011  \n",
       "1  ZCTA5 01002                    01002  2011  \n",
       "2  ZCTA5 01003                    01003  2011  \n",
       "3  ZCTA5 01005                    01005  2011  \n",
       "4  ZCTA5 01007                    01007  2011  \n",
       "\n",
       "[5 rows x 146 columns]"
      ]
     },
     "execution_count": 14,
     "metadata": {},
     "output_type": "execute_result"
    }
   ],
   "source": [
    "census_df_all = pd.DataFrame([])\n",
    "yrs = [2011,2012,2013,2014,2015]\n",
    "for x in yrs:\n",
    "    c = Census(censuskey, year=x)\n",
    "    census_df_tmp = pd.DataFrame([])\n",
    "    census_df_tmp['Year'] = \"\"\n",
    "    # removed following as not available for all years - B23025_002E, B23025_007E, B23025_003E, B23025_004E, B23025_005E, B23025_006E, B15003_002E, B15003_017E, B15003_018E, B15003_021E, B15003_022E, B15003_023E, B15003_024E, B15003_025E\n",
    "    census_data = c.acs5.get((\"NAME\", \"B19013_001E\", \"B19301_001E\", \"C24010_003E\", \"C24010_004E\", \"C24010_005E\", \"C24010_006E\", \"C24010_007E\", \"C24010_008E\", \"C24010_009E\", \"C24010_010E\", \"C24010_011E\", \"C24010_012E\", \"C24010_013E\", \"C24010_014E\", \"C24010_015E\", \"C24010_016E\", \"C24010_017E\", \"C24010_018E\", \"C24010_019E\", \"C24010_020E\", \"C24010_021E\", \"C24010_022E\", \"C24010_023E\", \"C24010_024E\", \"C24010_025E\", \"C24010_026E\", \"C24010_027E\", \"C24010_028E\", \"C24010_029E\", \"C24010_030E\", \"C24010_031E\", \"C24010_032E\", \"C24010_033E\", \"C24010_034E\", \"C24010_035E\", \"C24010_036E\", \"C24010_037E\", \"C24010_039E\", \"C24010_040E\", \"C24010_041E\", \"C24010_042E\", \"C24010_043E\", \"C24010_044E\", \"C24010_045E\", \"C24010_046E\", \"C24010_047E\", \"C24010_048E\", \"C24010_049E\", \"C24010_050E\", \"C24010_051E\", \"C24010_052E\", \"C24010_053E\", \"C24010_054E\", \"C24010_055E\", \"C24010_056E\", \"C24010_057E\", \"C24010_058E\", \"C24010_059E\", \"C24010_060E\", \"C24010_061E\", \"C24010_062E\", \"C24010_063E\", \"C24010_064E\", \"C24010_065E\", \"C24010_066E\", \"C24010_067E\", \"C24010_068E\", \"C24010_069E\", \"C24010_070E\", \"C24010_071E\", \"C24010_072E\", \"C24010_073E\", \"B17001_002E\", \"B17001_003E\", \"B17001_017E\", \"B17001A_002E\", \"B17001B_002E\", \"B17001C_002E\", \"B17001D_002E\", \"B17001E_002E\", \"B17001G_002E\", \"B17001I_002E\", \"B17012_002E\", \"B17012_003E\", \"B17012_009E\", \"B17012_014E\", \"B01002_001E\", \"B01002_002E\", \"B01002_003E\", \"B01003_001E\", \"B02001_002E\", \"B02001_003E\", \"B02001_004E\", \"B02001_005E\", \"B02001_006E\", \"B02001_008E\", \"B03001_003E\", \"B25035_001E\", \"B25058_001E\", \"B25064_001E\", \"B25077_001E\", \"B25088_002E\", \"B08136_003E\", \"B08136_004E\", \"B08136_007E\", \"B08136_011E\", \"B08136_012E\", \"B08301_001E\", \"B08301_003E\", \"B08301_004E\", \"B08301_010E\", \"B08301_019E\", \"B08101_041E\", \"B16001_002E\", \"B16001_003E\", \"B16001_006E\", \"B16001_009E\", \"B16001_012E\", \"B16001_015E\", \"B16001_018E\", \"B16001_021E\", \"B16001_030E\", \"B16001_033E\", \"B16001_036E\", \"B16001_039E\", \"B16001_045E\", \"B16001_048E\", \"B16001_051E\", \"B16001_054E\", \"B16001_057E\", \"B16001_066E\", \"B16001_069E\", \"B16001_072E\", \"B16001_075E\", \"B16001_078E\", \"B16001_081E\", \"B16001_084E\", \"B16001_087E\", \"B16001_093E\", \"B16001_099E\", \"B16001_105E\", \"B16001_108E\", \"B16001_111E\"), {'for': 'zip code tabulation area:*'})\n",
    "    census_df_tmp = pd.DataFrame(census_data)\n",
    "    census_df_tmp['Year'] = x\n",
    "    census_df_all = census_df_all.append(census_df_tmp)\n",
    "census_df_all.head()"
   ]
  },
  {
   "cell_type": "code",
   "execution_count": 18,
   "metadata": {
    "collapsed": true
   },
   "outputs": [],
   "source": [
    "zips, population, house_value, age, capita, income, poverty, year = [[] * 8 for x in range(8)]\n",
    "for index, row in sf.iterrows():\n",
    "    if row[\"Converted Date\"].year == int(\"2009\"):\n",
    "        zips.append(row[\"Zip\"])\n",
    "for index, row in census_df_all.iterrows():\n",
    "    for code in zips:\n",
    "        if (code == row[\"zip code tabulation area\"]):\n",
    "            population.append(row['B01003_001E'])\n",
    "            house_value.append(row['B25077_001E'])\n",
    "            age.append(row['B01002_001E'])\n",
    "            capita.append(row['B19301_001E'])\n",
    "            income.append(row['B19013_001E'])\n",
    "            poverty.append(row['B17001_002E'])\n",
    "            year.append(row[\"Year\"])\n",
    "\n",
    "sf_census = pd.DataFrame({\n",
    "    \"Population\":population,\n",
    "    \"House Value\":house_value,\n",
    "    \"Age\":age,\n",
    "    \"Per Capita Income\":capita,\n",
    "    \"Income\":income,\n",
    "    \"Number Below Poverty\":poverty,\n",
    "    \"Year\":year\n",
    "})\n",
    "new_sf = sf_census.apply(pd.to_numeric)\n",
    "five_year_sf = new_sf.groupby(\"Year\").mean()\n",
    "\n",
    "norm_census = pd.DataFrame({\n",
    "    \"Population\":census_df_all[\"B01003_001E\"],\n",
    "    \"House Value\":census_df_all[\"B25077_001E\"],\n",
    "    \"Age\":census_df_all[\"B01002_001E\"],\n",
    "    \"Per Capita Income\":census_df_all[\"B19301_001E\"],\n",
    "    \"Income\":census_df_all[\"B19013_001E\"],\n",
    "    \"Number Below Poverty\":census_df_all[\"B17001_002E\"],\n",
    "    \"Year\":census_df_all[\"Year\"]\n",
    "})\n",
    "norm_census = norm_census.apply(pd.to_numeric)\n",
    "five_year_norm = norm_census.groupby(\"Year\").mean()"
   ]
  },
  {
   "cell_type": "markdown",
   "metadata": {},
   "source": [
    "## Socio-Economic trends Superfund Sites vs National (2011-2015)"
   ]
  },
  {
   "cell_type": "code",
   "execution_count": 19,
   "metadata": {},
   "outputs": [
    {
     "data": {
      "image/png": "[encoded data removed]",
      "text/plain": [
       "<matplotlib.figure.Figure at 0x27aaca69b38>"
      ]
     },
     "metadata": {},
     "output_type": "display_data"
    }
   ],
   "source": [
    "plt.figure(figsize=(18,3))\n",
    "plt.subplot(1,5,1)\n",
    "plt.plot(five_year_sf.index,five_year_sf[\"House Value\"], c='b')\n",
    "plt.plot(five_year_norm.index, five_year_norm[\"House Value\"],c='r')\n",
    "plt.title(\"Median Home Price\")\n",
    "plt.subplot(1,5,2)\n",
    "plt.plot(five_year_sf.index,five_year_sf[\"Population\"], c='b')\n",
    "plt.plot(five_year_norm.index, five_year_norm[\"Population\"],c='r')\n",
    "plt.title(\"Population\")\n",
    "plt.subplot(1,5,3)\n",
    "plt.plot(five_year_sf.index,five_year_sf[\"Income\"], c='b')\n",
    "plt.plot(five_year_norm.index, five_year_norm[\"Income\"],c='r')\n",
    "plt.title(\"Household Income\")\n",
    "plt.subplot(1,5,4)\n",
    "plt.plot(five_year_sf.index,five_year_sf[\"Per Capita Income\"], c='b')\n",
    "plt.plot(five_year_norm.index, five_year_norm[\"Per Capita Income\"],c='r')\n",
    "plt.title(\"Per Capita Income\")\n",
    "plt.subplot(1,5,5)\n",
    "plt.plot(five_year_sf.index,five_year_sf[\"Number Below Poverty\"], c='b')\n",
    "plt.plot(five_year_norm.index, five_year_norm[\"Number Below Poverty\"],c='r')\n",
    "plt.title(\"No. of People Below Poverty\")\n",
    "plt.tight_layout()\n",
    "label1 = [\"Superfund Site Location's mean for each year(2011-2015)\",\"National mean for each year(2011-2015)\"]\n",
    "plt.legend(labels=label1, bbox_to_anchor=(-1.2, -0.1))\n",
    "plt.show()"
   ]
  },
  {
   "cell_type": "markdown",
   "metadata": {},
   "source": [
    "## Plot Superfund site counts per state"
   ]
  },
  {
   "cell_type": "code",
   "execution_count": 20,
   "metadata": {},
   "outputs": [
    {
     "data": {
      "image/png": "[encoded data removed]",
      "text/plain": [
       "<matplotlib.figure.Figure at 0x27aabe7fef0>"
      ]
     },
     "metadata": {},
     "output_type": "display_data"
    }
   ],
   "source": [
    "yearRange = [1983, 1987, 1992, 1997, 2002, 2007, 2012, 2017]\n",
    "rangeLabel = []\n",
    "for index, x in enumerate(yearRange):\n",
    "    if index == 0:\n",
    "        rangeLabel.append(str(x) + \" - \" + str(x+3))\n",
    "    elif index != len(yearRange)-1:\n",
    "        rangeLabel.append(str(x) + \" - \" + str(x+4)) \n",
    "rangeLabel\n",
    "sf[\"YearRange\"] = pd.cut(sf[\"Year\"], yearRange, labels=rangeLabel, include_lowest=True, right=False)\n",
    "sf[sf[\"YearRange\"]==\"2012 - 2016\"].sort_values(\"Year\")\n",
    "stateYear = pd.crosstab(sf['St'], sf['YearRange'])\n",
    "\n",
    "stateYear.plot(kind=\"bar\", stacked=True, figsize=(16,10))\n",
    "plt.legend(bbox_to_anchor=(1,1),\n",
    "           ncol=1, shadow=True, title=\"Legend\", fancybox=False)\n",
    "plt.title(\"NJ, CA, PA Hold Highest Number of Superfund sites\")\n",
    "plt.ylabel(\"Number of Superfund Sites\")\n",
    "plt.xlabel(\"US States and Territories\")\n",
    "plt.show()"
   ]
  },
  {
   "cell_type": "markdown",
   "metadata": {},
   "source": [
    "## Merge superfund and census 2015 data"
   ]
  },
  {
   "cell_type": "code",
   "execution_count": 32,
   "metadata": {},
   "outputs": [
    {
     "data": {
      "text/plain": [
       "1336"
      ]
     },
     "execution_count": 32,
     "metadata": {},
     "output_type": "execute_result"
    }
   ],
   "source": [
    "# convert the population columns to numeric \n",
    "cols=[i for i in censusByZipCd2015_df.columns if i in [\"B02001_002E\",\"B02001_003E\", \"B02001_004E\", \"B02001_005E\", \"B02001_006E\", \"B02001_008E\", \"B03001_003E\"]]\n",
    "for col in cols:\n",
    "    censusByZipCd2015_df[col]=pd.to_numeric(censusByZipCd2015_df[col])\n",
    "# rename these columns    \n",
    "censusByZipCd2015_df.rename(columns={\"B02001_002E\":\"White Alone\", \\\n",
    "                          \"B02001_003E\":\"Black Alone\", \\\n",
    "                          \"B02001_004E\": \"American Indian or Alaskan Native Alone\", \\\n",
    "                          \"B02001_005E\": \"Asian Alone\", \\\n",
    "                          \"B02001_006E\": \"Native Hawaiian and Other Pacific Islander Alone\", \\\n",
    "                          \"B02001_008E\": \"Two or more races\", \\\n",
    "                          \"B03001_003E\": \"Hispanic Origin\"}, inplace=True) \n",
    "    \n",
    "\n",
    "sfcensus = sf.merge(censusByZipCd2015_df, how=\"left\", left_on=\"Zip\", right_on=\"zip code tabulation area\")\n",
    "len(sfcensus)"
   ]
  },
  {
   "cell_type": "code",
   "execution_count": 33,
   "metadata": {},
   "outputs": [
    {
     "data": {
      "text/plain": [
       "1156"
      ]
     },
     "execution_count": 33,
     "metadata": {},
     "output_type": "execute_result"
    }
   ],
   "source": [
    "sfcensus.drop_duplicates(subset='Zip', keep=\"last\", inplace=True)\n",
    "len(sfcensus)"
   ]
  },
  {
   "cell_type": "code",
   "execution_count": 39,
   "metadata": {},
   "outputs": [],
   "source": [
    "sfcensus[\"Total\"] = sfcensus[[\"Black Alone\", \"White Alone\", \"American Indian or Alaskan Native Alone\",\"Asian Alone\",\"Native Hawaiian and Other Pacific Islander Alone\",\"Two or more races\",\"Hispanic Origin\"]].sum(axis=1)\n",
    "censusByZipCd2015_df[\"Total\"] = censusByZipCd2015_df[[\"Black Alone\", \"White Alone\", \"American Indian or Alaskan Native Alone\",\"Asian Alone\",\"Native Hawaiian and Other Pacific Islander Alone\",\"Two or more races\",\"Hispanic Origin\"]].sum(axis=1)\n",
    "\n",
    "censusByZipCd2015_df = censusByZipCd2015_df[censusByZipCd2015_df['Total'] != 0]\n",
    "sfcensus = sfcensus[sfcensus['Total'] != 0]"
   ]
  },
  {
   "cell_type": "markdown",
   "metadata": {},
   "source": [
    "## Population segment analysis"
   ]
  },
  {
   "cell_type": "code",
   "execution_count": 40,
   "metadata": {},
   "outputs": [
    {
     "data": {
      "image/png": "[encoded data removed]",
      "text/plain": [
       "<matplotlib.figure.Figure at 0x27abb648cc0>"
      ]
     },
     "metadata": {},
     "output_type": "display_data"
    }
   ],
   "source": [
    "popLabels = [\"White Alone\", \"Black Alone\",\"American Indian or Alaskan Native Alone\",\"Asian Alone\",\"Native Hawaiian and Other Pacific Islander Alone\",\"Two or more races\",\"Hispanic Origin\"]\n",
    "\n",
    "nationalPopCount = []\n",
    "for p in popLabels:\n",
    "    nationalPopCount.append(pd.to_numeric(censusByZipCd2015_df[p]).sum())\n",
    "    \n",
    "sfPopCount = []\n",
    "for p in popLabels:\n",
    "    sfPopCount.append(pd.to_numeric(sfcensus[p]).sum())\n",
    "\n",
    "fig = plt.figure(figsize=(18,18))\n",
    "the_grid = GridSpec(2,2)\n",
    "\n",
    "ax1 = fig.add_subplot(the_grid[0,0])\n",
    "nationalPopSeries = pd.Series(nationalPopCount)\n",
    "patches, texts,autotexts = ax1.pie(nationalPopSeries, autopct='%1.1f%%', startangle = 70)\n",
    "ax1.set_title(\"National Population\", size=20)\n",
    "\n",
    "ax2 = fig.add_subplot(the_grid[0,1])\n",
    "sfPopSeries = pd.Series(sfPopCount)\n",
    "patches, texts,autotexts = ax2.pie(sfPopSeries, autopct='%1.1f%%', startangle = 70)\n",
    "ax2.set_title(\"Superfund Sites Population\", size=20)\n",
    "\n",
    "label1 = ['{0} : {1:1d} : {2:1.0f} ' .format(x,y,z) for x,y,z in zip(popLabels, nationalPopCount, sfPopCount)]\n",
    "plt.legend(loc='lower center', labels=label1, bbox_to_anchor=(0, 0))\n",
    "plt.tight_layout(pad=1.5, w_pad=0.7, h_pad=0.5)\n",
    "plt.show()"
   ]
  },
  {
   "cell_type": "code",
   "execution_count": 294,
   "metadata": {},
   "outputs": [],
   "source": [
    "# get ratios of population segments\n",
    "sfcensus[\"White Ratio\"] = sfcensus[\"White Alone\"] / sfcensus[\"Total\"]\n",
    "censusByZipCd2015_df[\"White Ratio\"] = censusByZipCd2015_df[\"White Alone\"] / censusByZipCd2015_df[\"Total\"]\n",
    "sfcensus[\"Black Ratio\"] = sfcensus[\"Black Alone\"] / sfcensus[\"Total\"]\n",
    "censusByZipCd2015_df[\"Black Ratio\"] = censusByZipCd2015_df[\"Black Alone\"] / censusByZipCd2015_df[\"Total\"]\n",
    "sfcensus[\"Native Ratio\"] = sfcensus[\"American Indian or Alaskan Native Alone\"] / sfcensus[\"Total\"]\n",
    "censusByZipCd2015_df[\"Native Ratio\"] = censusByZipCd2015_df[\"American Indian or Alaskan Native Alone\"] / censusByZipCd2015_df[\"Total\"]\n",
    "sfcensus[\"Asian Ratio\"] = sfcensus[\"Asian Alone\"] / sfcensus[\"Total\"]\n",
    "censusByZipCd2015_df[\"Asian Ratio\"] = censusByZipCd2015_df[\"Asian Alone\"] / censusByZipCd2015_df[\"Total\"]\n",
    "sfcensus[\"Hispanic Ratio\"] = sfcensus[\"Hispanic Origin\"] / sfcensus[\"Total\"]\n",
    "censusByZipCd2015_df[\"Hispanic Ratio\"] = censusByZipCd2015_df[\"Hispanic Origin\"] / censusByZipCd2015_df[\"Total\"]\n",
    "sfcensus[\"Islander Ratio\"] = sfcensus[\"Native Hawaiian and Other Pacific Islander Alone\"] / sfcensus[\"Total\"]\n",
    "censusByZipCd2015_df[\"Islander Ratio\"] = censusByZipCd2015_df[\"Native Hawaiian and Other Pacific Islander Alone\"] / censusByZipCd2015_df[\"Total\"]\n",
    "sfcensus[\"TwoRace Ratio\"] = sfcensus[\"Two or more races\"] / sfcensus[\"Total\"]\n",
    "censusByZipCd2015_df[\"TwoRace Ratio\"] = censusByZipCd2015_df[\"Two or more races\"] / censusByZipCd2015_df[\"Total\"]\n",
    "sfcensus[\"Non-White Ratio\"] = 1 - sfcensus[\"White Ratio\"]\n",
    "censusByZipCd2015_df[\"Non-White Ratio\"] = 1 - censusByZipCd2015_df[\"White Alone\"]"
   ]
  },
  {
   "cell_type": "code",
   "execution_count": 290,
   "metadata": {},
   "outputs": [
    {
     "name": "stdout",
     "output_type": "stream",
     "text": [
      "SF Population Mean 23,325.87 \n",
      "Nation Population Mean 11,050.36 \n"
     ]
    }
   ],
   "source": [
    "print(\"SF Population Mean %s \" % (\"{:,.2f}\".format(sfcensus[\"Total\"].mean())))\n",
    "print(\"Nation Population Mean %s \" % (\"{:,.2f}\".format(censusByZipCd2015_df[\"Total\"].mean())))"
   ]
  },
  {
   "cell_type": "code",
   "execution_count": 296,
   "metadata": {},
   "outputs": [
    {
     "name": "stdout",
     "output_type": "stream",
     "text": [
      "SF White Mean 15,476.31 \n",
      "Nation White Mean 7,175.54 \n"
     ]
    }
   ],
   "source": [
    "print(\"SF White Mean %s \" % (\"{:,.2f}\".format(sfcensus[\"White Alone\"].mean())))\n",
    "print(\"Nation White Mean %s \" % (\"{:,.2f}\".format(censusByZipCd2015_df[\"White Alone\"].mean())))"
   ]
  },
  {
   "cell_type": "code",
   "execution_count": 52,
   "metadata": {},
   "outputs": [
    {
     "name": "stdout",
     "output_type": "stream",
     "text": [
      "SF white RATIO mean 0.73%\n",
      "Nation white RATIO mean 0.80%\n"
     ]
    }
   ],
   "source": [
    "print(\"SF white RATIO mean %s\" % (\"{:.2f}%\".format(sfcensus[\"White Ratio\"].mean())))\n",
    "print(\"Nation white RATIO mean %s\" % (\"{:.2f}%\".format(censusByZipCd2015_df[\"White Ratio\"].mean())))"
   ]
  },
  {
   "cell_type": "code",
   "execution_count": 192,
   "metadata": {},
   "outputs": [
    {
     "data": {
      "image/png": "[encoded data removed]",
      "text/plain": [
       "<matplotlib.figure.Figure at 0x27abd10fda0>"
      ]
     },
     "metadata": {},
     "output_type": "display_data"
    }
   ],
   "source": [
    "popRatioLabels = [\"White Ratio\", \"Black Ratio\",\"Native Ratio\",\"Asian Ratio\",\"Islander Ratio\",\"TwoRace Ratio\",\"Hispanic Ratio\"]\n",
    "\n",
    "x_axis = np.arange(len(popRatioLabels))\n",
    "sfRatios = []\n",
    "nationRatios = []\n",
    "for p in popRatioLabels:\n",
    "    sfRatios.append(sfcensus[p].dropna().mean() *100)\n",
    "    nationRatios.append(censusByZipCd2015_df[p].dropna().mean() *100)\n",
    "\n",
    "fig = plt.figure(figsize=(6,4))\n",
    "ax = fig.add_subplot(1,1,1)\n",
    "ax.bar(x_axis, sfRatios,0.3, color=\"k\")\n",
    "ax.bar(x_axis+0.3, nationRatios, 0.3, color=\"b\")\n",
    "handles, labels = ax.get_legend_handles_labels()\n",
    "    \n",
    "tick_locations = [value + .15 for value in x_axis]\n",
    "plt.xticks(tick_locations, popRatioLabels, rotation=\"90\", fontsize=12)\n",
    "plt.title(\"Race Composition\")\n",
    "plt.ylabel(\"Percentage of Population\")\n",
    "\n",
    "sfPatch = mpatches.Patch(color=\"k\", label=\"Superfund Areas\")\n",
    "nationPatch = mpatches.Patch(color=\"b\", label=\"Nation\")\n",
    "plt.legend(handles=[sfPatch, nationPatch])\n",
    "\n",
    "\n",
    "plt.show()"
   ]
  },
  {
   "cell_type": "code",
   "execution_count": 298,
   "metadata": {},
   "outputs": [
    {
     "name": "stdout",
     "output_type": "stream",
     "text": [
      "White Ratio: t= -9.801092 p-value= 0.000000\n",
      "Black Ratio: t= 4.272176 p-value= 0.000021\n",
      "Native Ratio: t= -3.382093 p-value= 0.000745\n",
      "Asian Ratio: t= 7.518870 p-value= 0.000000\n",
      "Islander Ratio: t= 2.076169 p-value= 0.038113\n",
      "TwoRace Ratio: t= 5.442988 p-value= 0.000000\n",
      "Hispanic Ratio: t= 8.332358 p-value= 0.000000\n",
      "Non-White Ratio: t= 1101314.377303 p-value= 0.000000\n"
     ]
    }
   ],
   "source": [
    "t, prob = stats.ttest_1samp(a=sfcensus[\"White Ratio\"].dropna(), popmean=censusByZipCd2015_df[\"White Ratio\"].dropna().mean())\n",
    "print(\"White Ratio: t= %f p-value= %f\" % (t,prob))\n",
    "t, prob = stats.ttest_1samp(a=sfcensus[\"Black Ratio\"].dropna(), popmean=censusByZipCd2015_df[\"Black Ratio\"].dropna().mean())\n",
    "print(\"Black Ratio: t= %f p-value= %f\" % (t,prob))\n",
    "t, prob = stats.ttest_1samp(a=sfcensus[\"Native Ratio\"].dropna(), popmean=censusByZipCd2015_df[\"Native Ratio\"].dropna().mean())\n",
    "print(\"Native Ratio: t= %f p-value= %f\" % (t,prob))\n",
    "t, prob = stats.ttest_1samp(a=sfcensus[\"Asian Ratio\"].dropna(), popmean=censusByZipCd2015_df[\"Asian Ratio\"].dropna().mean())\n",
    "print(\"Asian Ratio: t= %f p-value= %f\" % (t,prob))\n",
    "t, prob = stats.ttest_1samp(a=sfcensus[\"Islander Ratio\"].dropna(), popmean=censusByZipCd2015_df[\"Islander Ratio\"].dropna().mean())\n",
    "print(\"Islander Ratio: t= %f p-value= %f\" % (t,prob))\n",
    "t, prob = stats.ttest_1samp(a=sfcensus[\"TwoRace Ratio\"].dropna(), popmean=censusByZipCd2015_df[\"TwoRace Ratio\"].dropna().mean())\n",
    "print(\"TwoRace Ratio: t= %f p-value= %f\" % (t,prob))\n",
    "t, prob = stats.ttest_1samp(a=sfcensus[\"Hispanic Ratio\"].dropna(), popmean=censusByZipCd2015_df[\"Hispanic Ratio\"].dropna().mean())\n",
    "print(\"Hispanic Ratio: t= %f p-value= %f\" % (t,prob))\n",
    "t, prob = stats.ttest_1samp(a=sfcensus[\"Non-White Ratio\"].dropna(), popmean=censusByZipCd2015_df[\"Non-White Ratio\"].dropna().mean())\n",
    "print(\"Non-White Ratio: t= %f p-value= %f\" % (t,prob))"
   ]
  },
  {
   "cell_type": "code",
   "execution_count": 264,
   "metadata": {},
   "outputs": [
    {
     "name": "stdout",
     "output_type": "stream",
     "text": [
      "SF Mean Population 23,326\n",
      "Nation Mean Population 11,050\n"
     ]
    }
   ],
   "source": [
    "print(\"SF Mean Population %s\" % \"{:,.0f}\".format(sfcensus[\"Total\"].mean()))\n",
    "print(\"Nation Mean Population %s\" % \"{:,.0f}\".format(censusByZipCd2015_df[\"Total\"].mean()))"
   ]
  },
  {
   "cell_type": "markdown",
   "metadata": {},
   "source": [
    "#### Population Results: The population is signifcantly higher in areas with Superfund sites"
   ]
  },
  {
   "cell_type": "markdown",
   "metadata": {},
   "source": [
    "### Census Data without Superfund Sites - remove the zipcodes that have superfund sites"
   ]
  },
  {
   "cell_type": "code",
   "execution_count": 324,
   "metadata": {},
   "outputs": [],
   "source": [
    "# get the census data for zip codes that do not have SF sites 33120 - 1087\n",
    "no_sf = censusByZipCd2015_df[censusByZipCd2015_df['zip code tabulation area'].isin(sf[\"Zip\"])==False]\n",
    "\n",
    "# pull a sample of zipcodes without SF sites that is same size as zipcode with SF sites\n",
    "no_sf_subset = no_sf.sample(1087)"
   ]
  },
  {
   "cell_type": "code",
   "execution_count": 326,
   "metadata": {
    "collapsed": true
   },
   "outputs": [],
   "source": [
    "# get ratios of population segments\n",
    "no_sf_subset[\"White Ratio\"] = no_sf_subset[\"White Alone\"] / no_sf_subset[\"Total\"]\n",
    "no_sf_subset[\"Black Ratio\"] = no_sf_subset[\"Black Alone\"] / no_sf_subset[\"Total\"]\n",
    "no_sf_subset[\"Native Ratio\"] = no_sf_subset[\"American Indian or Alaskan Native Alone\"] / no_sf_subset[\"Total\"]\n",
    "no_sf_subset[\"Asian Ratio\"] = no_sf_subset[\"Asian Alone\"] / no_sf_subset[\"Total\"]\n",
    "no_sf_subset[\"Hispanic Ratio\"] = no_sf_subset[\"Hispanic Origin\"] / no_sf_subset[\"Total\"]\n",
    "no_sf_subset[\"Islander Ratio\"] = no_sf_subset[\"Native Hawaiian and Other Pacific Islander Alone\"] / no_sf_subset[\"Total\"]\n",
    "no_sf_subset[\"TwoRace Ratio\"] = no_sf_subset[\"Two or more races\"] / no_sf_subset[\"Total\"]\n",
    "no_sf_subset[\"Non-White Ratio\"] = 1 - no_sf_subset[\"White Ratio\"]"
   ]
  },
  {
   "cell_type": "code",
   "execution_count": 330,
   "metadata": {},
   "outputs": [
    {
     "name": "stdout",
     "output_type": "stream",
     "text": [
      "White Ratio: t= 0.294694 p-value= 0.768284\n",
      "Black Ratio: t= 0.128823 p-value= 0.897521\n",
      "Native Ratio: t= -1.010301 p-value= 0.312576\n",
      "Asian Ratio: t= -1.075321 p-value= 0.282470\n",
      "Islander Ratio: t= 1.317812 p-value= 0.187845\n",
      "TwoRace Ratio: t= 1.886279 p-value= 0.059524\n",
      "Hispanic Ratio: t= -0.392671 p-value= 0.694640\n"
     ]
    }
   ],
   "source": [
    "t, prob = stats.ttest_1samp(a=no_sf_subset[\"White Ratio\"].dropna(), popmean=censusByZipCd2015_df[\"White Ratio\"].dropna().mean())\n",
    "print(\"White Ratio: t= %f p-value= %f\" % (t,prob))\n",
    "t, prob = stats.ttest_1samp(a=no_sf_subset[\"Black Ratio\"].dropna(), popmean=censusByZipCd2015_df[\"Black Ratio\"].dropna().mean())\n",
    "print(\"Black Ratio: t= %f p-value= %f\" % (t,prob))\n",
    "t, prob = stats.ttest_1samp(a=no_sf_subset[\"Native Ratio\"].dropna(), popmean=censusByZipCd2015_df[\"Native Ratio\"].dropna().mean())\n",
    "print(\"Native Ratio: t= %f p-value= %f\" % (t,prob))\n",
    "t, prob = stats.ttest_1samp(a=no_sf_subset[\"Asian Ratio\"].dropna(), popmean=censusByZipCd2015_df[\"Asian Ratio\"].dropna().mean())\n",
    "print(\"Asian Ratio: t= %f p-value= %f\" % (t,prob))\n",
    "t, prob = stats.ttest_1samp(a=no_sf_subset[\"Islander Ratio\"].dropna(), popmean=censusByZipCd2015_df[\"Islander Ratio\"].dropna().mean())\n",
    "print(\"Islander Ratio: t= %f p-value= %f\" % (t,prob))\n",
    "t, prob = stats.ttest_1samp(a=no_sf_subset[\"TwoRace Ratio\"].dropna(), popmean=censusByZipCd2015_df[\"TwoRace Ratio\"].dropna().mean())\n",
    "print(\"TwoRace Ratio: t= %f p-value= %f\" % (t,prob))\n",
    "t, prob = stats.ttest_1samp(a=no_sf_subset[\"Hispanic Ratio\"].dropna(), popmean=censusByZipCd2015_df[\"Hispanic Ratio\"].dropna().mean())\n",
    "print(\"Hispanic Ratio: t= %f p-value= %f\" % (t,prob))"
   ]
  },
  {
   "cell_type": "code",
   "execution_count": 332,
   "metadata": {},
   "outputs": [
    {
     "name": "stdout",
     "output_type": "stream",
     "text": [
      "SF Mean Population 23,326\n",
      "Nation Mean Population 11,050\n",
      "Random Sample Mean Population 10,942\n"
     ]
    }
   ],
   "source": [
    "print(\"SF Mean Population %s\" % \"{:,.0f}\".format(sfcensus[\"Total\"].mean()))\n",
    "print(\"Nation Mean Population %s\" % \"{:,.0f}\".format(censusByZipCd2015_df[\"Total\"].mean()))\n",
    "print(\"Random Sample Mean Population %s\" % \"{:,.0f}\".format(no_sf_subset[\"Total\"].mean()))"
   ]
  },
  {
   "cell_type": "code",
   "execution_count": 334,
   "metadata": {},
   "outputs": [
    {
     "data": {
      "image/png": "[encoded data removed]",
      "text/plain": [
       "<matplotlib.figure.Figure at 0x27abe024f98>"
      ]
     },
     "metadata": {},
     "output_type": "display_data"
    }
   ],
   "source": [
    "popRatioLabels = [\"White Ratio\", \"Black Ratio\",\"Native Ratio\",\"Asian Ratio\",\"Islander Ratio\",\"TwoRace Ratio\",\"Hispanic Ratio\"]\n",
    "\n",
    "x_axis = np.arange(len(popRatioLabels))\n",
    "sfRatios = []\n",
    "nationRatios = []\n",
    "randomNoSFSubsetRatios = []\n",
    "for p in popRatioLabels:\n",
    "    sfRatios.append(sfcensus[p].dropna().mean() *100)\n",
    "    nationRatios.append(censusByZipCd2015_df[p].dropna().mean() *100)\n",
    "    randomNoSFSubsetRatios.append(no_sf_subset[p].dropna().mean()*100)\n",
    "\n",
    "fig = plt.figure(figsize=(6,4))\n",
    "ax = fig.add_subplot(1,1,1)\n",
    "ax.bar(x_axis, sfRatios,0.3, color=\"k\")\n",
    "ax.bar(x_axis+0.3, nationRatios, 0.3, color=\"b\")\n",
    "ax.bar(x_axis+0.6, randomNoSFSubsetRatios, 0.3, color=\"y\")\n",
    "handles, labels = ax.get_legend_handles_labels()\n",
    "    \n",
    "tick_locations = [value + .15 for value in x_axis]\n",
    "plt.xticks(tick_locations, popRatioLabels, rotation=\"90\", fontsize=12)\n",
    "plt.title(\"Race Composition\")\n",
    "plt.ylabel(\"Percentage of Population\")\n",
    "\n",
    "sfPatch = mpatches.Patch(color=\"k\", label=\"Superfund Areas\")\n",
    "nationPatch = mpatches.Patch(color=\"b\", label=\"Nation\")\n",
    "subsetPatch = mpatches.Patch(color=\"y\", label=\"Random No SF\")\n",
    "plt.legend(handles=[sfPatch, nationPatch,subsetPatch])\n",
    "\n",
    "\n",
    "plt.show()"
   ]
  },
  {
   "cell_type": "markdown",
   "metadata": {},
   "source": [
    "### Census Data - Random Sample"
   ]
  },
  {
   "cell_type": "code",
   "execution_count": 340,
   "metadata": {},
   "outputs": [
    {
     "name": "stdout",
     "output_type": "stream",
     "text": [
      "White Ratio: t= 0.370028 p-value= 0.711433\n",
      "Black Ratio: t= -1.533852 p-value= 0.125357\n",
      "Native Ratio: t= 1.061139 p-value= 0.288863\n",
      "Asian Ratio: t= 1.377757 p-value= 0.168562\n",
      "Islander Ratio: t= 0.327271 p-value= 0.743526\n",
      "TwoRace Ratio: t= 1.382240 p-value= 0.167182\n",
      "Hispanic Ratio: t= -1.004279 p-value= 0.315468\n"
     ]
    }
   ],
   "source": [
    "# pull a sample of zipcodes without SF sites that is same size as zipcode with SF sites\n",
    "random_subset = censusByZipCd2015_df.sample(1087)\n",
    "# get ratios of population segments\n",
    "random_subset[\"White Ratio\"] = random_subset[\"White Alone\"] / random_subset[\"Total\"]\n",
    "random_subset[\"Black Ratio\"] = random_subset[\"Black Alone\"] / random_subset[\"Total\"]\n",
    "random_subset[\"Native Ratio\"] = random_subset[\"American Indian or Alaskan Native Alone\"] / random_subset[\"Total\"]\n",
    "random_subset[\"Asian Ratio\"] = random_subset[\"Asian Alone\"] / random_subset[\"Total\"]\n",
    "random_subset[\"Hispanic Ratio\"] = random_subset[\"Hispanic Origin\"] / random_subset[\"Total\"]\n",
    "random_subset[\"Islander Ratio\"] = random_subset[\"Native Hawaiian and Other Pacific Islander Alone\"] / random_subset[\"Total\"]\n",
    "random_subset[\"TwoRace Ratio\"] = random_subset[\"Two or more races\"] / random_subset[\"Total\"]\n",
    "t, prob = stats.ttest_1samp(a=random_subset[\"White Ratio\"].dropna(), popmean=censusByZipCd2015_df[\"White Ratio\"].dropna().mean())\n",
    "print(\"White Ratio: t= %f p-value= %f\" % (t,prob))\n",
    "t, prob = stats.ttest_1samp(a=random_subset[\"Black Ratio\"].dropna(), popmean=censusByZipCd2015_df[\"Black Ratio\"].dropna().mean())\n",
    "print(\"Black Ratio: t= %f p-value= %f\" % (t,prob))\n",
    "t, prob = stats.ttest_1samp(a=random_subset[\"Native Ratio\"].dropna(), popmean=censusByZipCd2015_df[\"Native Ratio\"].dropna().mean())\n",
    "print(\"Native Ratio: t= %f p-value= %f\" % (t,prob))\n",
    "t, prob = stats.ttest_1samp(a=random_subset[\"Asian Ratio\"].dropna(), popmean=censusByZipCd2015_df[\"Asian Ratio\"].dropna().mean())\n",
    "print(\"Asian Ratio: t= %f p-value= %f\" % (t,prob))\n",
    "t, prob = stats.ttest_1samp(a=random_subset[\"Islander Ratio\"].dropna(), popmean=censusByZipCd2015_df[\"Islander Ratio\"].dropna().mean())\n",
    "print(\"Islander Ratio: t= %f p-value= %f\" % (t,prob))\n",
    "t, prob = stats.ttest_1samp(a=random_subset[\"TwoRace Ratio\"].dropna(), popmean=censusByZipCd2015_df[\"TwoRace Ratio\"].dropna().mean())\n",
    "print(\"TwoRace Ratio: t= %f p-value= %f\" % (t,prob))\n",
    "t, prob = stats.ttest_1samp(a=random_subset[\"Hispanic Ratio\"].dropna(), popmean=censusByZipCd2015_df[\"Hispanic Ratio\"].dropna().mean())\n",
    "print(\"Hispanic Ratio: t= %f p-value= %f\" % (t,prob))"
   ]
  },
  {
   "cell_type": "code",
   "execution_count": 341,
   "metadata": {},
   "outputs": [
    {
     "name": "stdout",
     "output_type": "stream",
     "text": [
      "SF Mean Population 23,326\n",
      "Nation Mean Population 11,050\n",
      "Random No SF Sample Mean Population 10,942\n",
      "Random Sample Mean Population 10,964\n"
     ]
    }
   ],
   "source": [
    "print(\"SF Mean Population %s\" % \"{:,.0f}\".format(sfcensus[\"Total\"].mean()))\n",
    "print(\"Nation Mean Population %s\" % \"{:,.0f}\".format(censusByZipCd2015_df[\"Total\"].mean()))\n",
    "print(\"Random No SF Sample Mean Population %s\" % \"{:,.0f}\".format(no_sf_subset[\"Total\"].mean()))\n",
    "print(\"Random Sample Mean Population %s\" % \"{:,.0f}\".format(random_subset[\"Total\"].mean()))"
   ]
  },
  {
   "cell_type": "code",
   "execution_count": 356,
   "metadata": {},
   "outputs": [
    {
     "data": {
      "image/png": "[encoded data removed]",
      "text/plain": [
       "<matplotlib.figure.Figure at 0x27ab4568b38>"
      ]
     },
     "metadata": {},
     "output_type": "display_data"
    }
   ],
   "source": [
    "popRatioLabels = [\"White Ratio\", \"Black Ratio\",\"Native Ratio\",\"Asian Ratio\",\"Islander Ratio\",\"TwoRace Ratio\",\"Hispanic Ratio\"]\n",
    "\n",
    "x_axis = np.arange(len(popRatioLabels))\n",
    "sfRatios = []\n",
    "nationRatios = []\n",
    "randomNoSFSubsetRatios = []\n",
    "randomSubsetRatios = []\n",
    "for p in popRatioLabels:\n",
    "    sfRatios.append(sfcensus[p].dropna().mean() *100)\n",
    "    nationRatios.append(censusByZipCd2015_df[p].dropna().mean() *100)\n",
    "    randomNoSFSubsetRatios.append(no_sf_subset[p].dropna().mean()*100)\n",
    "    randomSubsetRatios.append(random_subset[p].dropna().mean()*100)\n",
    "\n",
    "fig = plt.figure(figsize=(8,6))\n",
    "ax = fig.add_subplot(1,1,1)\n",
    "ax.bar(x_axis, sfRatios,0.2, color=\"k\")\n",
    "ax.bar(x_axis+0.2, nationRatios, 0.2, color=\"b\")\n",
    "ax.bar(x_axis+0.4, randomNoSFSubsetRatios, 0.2, color=\"y\")\n",
    "ax.bar(x_axis+0.6, randomSubsetRatios, 0.2, color=\"coral\")\n",
    "handles, labels = ax.get_legend_handles_labels()\n",
    "    \n",
    "tick_locations = [value + .3 for value in x_axis]\n",
    "plt.xticks(tick_locations, popRatioLabels, rotation=\"90\", fontsize=12)\n",
    "plt.title(\"Race Composition\")\n",
    "plt.ylabel(\"Percentage of Population\")\n",
    "\n",
    "sfPatch = mpatches.Patch(color=\"k\", label=\"Superfund Areas\")\n",
    "nationPatch = mpatches.Patch(color=\"b\", label=\"Nation\")\n",
    "NoSFsubsetPatch = mpatches.Patch(color=\"y\", label=\"Random No SF\")\n",
    "subsetPatch = mpatches.Patch(color=\"coral\", label=\"Random\")\n",
    "plt.legend(handles=[sfPatch, nationPatch,NoSFsubsetPatch, subsetPatch])\n",
    "\n",
    "\n",
    "plt.show()"
   ]
  },
  {
   "cell_type": "code",
   "execution_count": 383,
   "metadata": {},
   "outputs": [
    {
     "data": {
      "image/png": "[encoded data removed]",
      "text/plain": [
       "<matplotlib.figure.Figure at 0x27abd297f28>"
      ]
     },
     "metadata": {},
     "output_type": "display_data"
    }
   ],
   "source": [
    "#white ratio\n",
    "\n",
    "# plt.hist(sfcensus[\"White Ratio\"].dropna(), normed=True, bins=10, color=\"k\", alpha=.2)\n",
    "# plt.ylim(0,2)\n",
    "plt.xlim(0,1)\n",
    "\n",
    "xmin, xmax = plt.xlim()\n",
    "x = np.linspace(xmin, xmax)\n",
    "mu, std = stats.norm.fit(sfcensus[\"White Ratio\"])\n",
    "p = stats.norm.pdf(x, mu, std)\n",
    "plt.plot(x,p, \"k\")\n",
    "plt.axvline(sfcensus[\"White Ratio\"].mean(), color='k', linestyle='dashed', linewidth=2)\n",
    "\n",
    "mu, std = stats.norm.fit(censusByZipCd2015_df[\"White Ratio\"])\n",
    "p = stats.norm.pdf(x, mu, std)\n",
    "plt.plot(x,p, \"b\")\n",
    "plt.axvline(censusByZipCd2015_df[\"White Ratio\"].mean(), color='b', linestyle='dashed', linewidth=2)\n",
    "\n",
    "mu, std = stats.norm.fit(no_sf_subset[\"White Ratio\"])\n",
    "p = stats.norm.pdf(x, mu, std)\n",
    "plt.plot(x,p, \"y\")\n",
    "plt.axvline(no_sf_subset[\"White Ratio\"].mean(), color='y', linestyle='dashed', linewidth=2)\n",
    "\n",
    "mu, std = stats.norm.fit(random_subset[\"White Ratio\"])\n",
    "p = stats.norm.pdf(x, mu, std)\n",
    "plt.plot(x,p, \"coral\")\n",
    "plt.axvline(random_subset[\"White Ratio\"].mean(), color='coral', linestyle='dashed', linewidth=2)\n",
    "\n",
    "\n",
    "plt.show()"
   ]
  },
  {
   "cell_type": "code",
   "execution_count": 374,
   "metadata": {},
   "outputs": [
    {
     "data": {
      "text/plain": [
       "0.94    47\n",
       "0.93    42\n",
       "0.95    37\n",
       "0.91    36\n",
       "0.96    31\n",
       "0.92    28\n",
       "0.83    27\n",
       "0.90    27\n",
       "0.86    26\n",
       "0.87    25\n",
       "0.89    24\n",
       "0.84    24\n",
       "0.88    24\n",
       "0.78    22\n",
       "0.80    21\n",
       "0.79    21\n",
       "0.98    21\n",
       "0.82    20\n",
       "0.77    20\n",
       "0.85    20\n",
       "0.97    20\n",
       "0.72    19\n",
       "0.76    15\n",
       "0.81    15\n",
       "0.99    14\n",
       "0.73    13\n",
       "0.75    12\n",
       "1.00    11\n",
       "0.74    10\n",
       "0.71    10\n",
       "0.70     5\n",
       "Name: White Ratio, dtype: int64"
      ]
     },
     "execution_count": 374,
     "metadata": {},
     "output_type": "execute_result"
    }
   ],
   "source": [
    "round(sfcensus[\"White Ratio\"],2).sort_values()[sfcensus[\"White Ratio\"] > 0.7].value_counts()"
   ]
  },
  {
   "cell_type": "markdown",
   "metadata": {},
   "source": [
    "### Education\n",
    "#### not normalized"
   ]
  },
  {
   "cell_type": "code",
   "execution_count": 293,
   "metadata": {
    "collapsed": true
   },
   "outputs": [],
   "source": [
    "# B15003_002E - None"
   ]
  },
  {
   "cell_type": "markdown",
   "metadata": {},
   "source": [
    "### Economic Variables\n",
    "#### normalized\n"
   ]
  },
  {
   "cell_type": "code",
   "execution_count": 384,
   "metadata": {},
   "outputs": [
    {
     "name": "stdout",
     "output_type": "stream",
     "text": [
      "Median income - significant\n"
     ]
    },
    {
     "data": {
      "text/plain": [
       "Ttest_1sampResult(statistic=3.6402901585240923, pvalue=0.00028535203130582539)"
      ]
     },
     "execution_count": 384,
     "metadata": {},
     "output_type": "execute_result"
    }
   ],
   "source": [
    "print(\"SF Median income - significant\")\n",
    "stats.ttest_1samp(a=pd.Series(pd.to_numeric(sfcensus[\"B19013_001E\"].dropna())), popmean=pd.to_numeric(censusByZipCd2015_df[\"B19013_001E\"].dropna()).mean())"
   ]
  },
  {
   "cell_type": "code",
   "execution_count": 247,
   "metadata": {},
   "outputs": [
    {
     "name": "stdout",
     "output_type": "stream",
     "text": [
      "Median income\n",
      "SF Mean $55,940 \n",
      "Nation Mean $53,434\n"
     ]
    }
   ],
   "source": [
    "print(\"SF Median income\")\n",
    "# print(\"SF Min %f\" % pd.Series(pd.to_numeric(sfcensus[\"B19013_001E\"].dropna())).min())\n",
    "# print(\"SF Max %f\" % pd.Series(pd.to_numeric(sfcensus[\"B19013_001E\"].dropna())).max())\n",
    "# print(\"Nation Min %f\" % pd.to_numeric(censusByZipCd2015_df[\"B19013_001E\"].dropna()).min())\n",
    "# print(\"Nation Max %f\" % pd.to_numeric(censusByZipCd2015_df[\"B19013_001E\"].dropna()).max())\n",
    "print(\"SF Mean %s \" % \"${:,.0f}\".format(pd.Series(pd.to_numeric(sfcensus[\"B19013_001E\"].dropna())).mean()))\n",
    "print(\"Nation Mean %s\" % \"${:,.0f}\".format(pd.to_numeric(censusByZipCd2015_df[\"B19013_001E\"].dropna()).mean()))"
   ]
  },
  {
   "cell_type": "code",
   "execution_count": 399,
   "metadata": {},
   "outputs": [
    {
     "name": "stdout",
     "output_type": "stream",
     "text": [
      "SF Income per capita - not signficant\n"
     ]
    },
    {
     "data": {
      "text/plain": [
       "Ttest_1sampResult(statistic=1.229730343971863, pvalue=0.21906468461352607)"
      ]
     },
     "execution_count": 399,
     "metadata": {},
     "output_type": "execute_result"
    }
   ],
   "source": [
    "print(\"SF Income per capita - not signficant\")\n",
    "stats.ttest_1samp(a=pd.Series(pd.to_numeric(sfcensus[\"B19301_001E\"].dropna())), popmean=pd.to_numeric(censusByZipCd2015_df[\"B19301_001E\"].dropna()).mean())"
   ]
  },
  {
   "cell_type": "code",
   "execution_count": 248,
   "metadata": {},
   "outputs": [
    {
     "name": "stdout",
     "output_type": "stream",
     "text": [
      "Income per capita\n",
      "SF Mean $27,256 \n",
      "Nation Mean $26,867\n"
     ]
    }
   ],
   "source": [
    "print(\"Income per capita\")\n",
    "# print(\"SF Min %f\" % pd.Series(pd.to_numeric(sfcensus[\"B19301_001E\"].dropna())).min())\n",
    "# print(\"SF Max %f\" % pd.Series(pd.to_numeric(sfcensus[\"B19301_001E\"].dropna())).max())\n",
    "# print(\"Nation Min %f\" % pd.to_numeric(censusByZipCd2015_df[\"B19301_001E\"].dropna()).min())\n",
    "# print(\"Nation Max %f\" % pd.to_numeric(censusByZipCd2015_df[\"B19301_001E\"].dropna()).max())\n",
    "print(\"SF Mean %s \" % \"${:,.0f}\".format(pd.Series(pd.to_numeric(sfcensus[\"B19301_001E\"].dropna())).mean()))\n",
    "print(\"Nation Mean %s\" % \"${:,.0f}\".format(pd.to_numeric(censusByZipCd2015_df[\"B19301_001E\"].dropna()).mean()))"
   ]
  },
  {
   "cell_type": "code",
   "execution_count": 385,
   "metadata": {},
   "outputs": [
    {
     "name": "stdout",
     "output_type": "stream",
     "text": [
      "Median income - significant\n"
     ]
    },
    {
     "data": {
      "text/plain": [
       "Ttest_1sampResult(statistic=-2.0308477726430163, pvalue=0.042526142580745885)"
      ]
     },
     "execution_count": 385,
     "metadata": {},
     "output_type": "execute_result"
    }
   ],
   "source": [
    "print(\"Random No SF Subset Median income - significant\")\n",
    "stats.ttest_1samp(a=pd.Series(pd.to_numeric(no_sf_subset[\"B19013_001E\"].dropna())), popmean=pd.to_numeric(censusByZipCd2015_df[\"B19013_001E\"].dropna()).mean())"
   ]
  },
  {
   "cell_type": "code",
   "execution_count": 397,
   "metadata": {},
   "outputs": [
    {
     "name": "stdout",
     "output_type": "stream",
     "text": [
      "Random Subset Median income - not significant\n"
     ]
    },
    {
     "data": {
      "text/plain": [
       "Ttest_1sampResult(statistic=-0.27916479022799839, pvalue=0.78017435119320333)"
      ]
     },
     "execution_count": 397,
     "metadata": {},
     "output_type": "execute_result"
    }
   ],
   "source": [
    "print(\"Random Subset Median income - not significant\")\n",
    "stats.ttest_1samp(a=pd.Series(pd.to_numeric(random_subset[\"B19013_001E\"].dropna())), popmean=pd.to_numeric(censusByZipCd2015_df[\"B19013_001E\"].dropna()).mean())"
   ]
  },
  {
   "cell_type": "code",
   "execution_count": 387,
   "metadata": {},
   "outputs": [
    {
     "name": "stdout",
     "output_type": "stream",
     "text": [
      "Median income\n",
      "SF Mean $55,940 \n",
      "Nation Mean $53,434\n",
      "Random No SF Subset Mean $52,116\n",
      "Random Subset Mean $53,242\n"
     ]
    }
   ],
   "source": [
    "print(\"Median income\")\n",
    "print(\"SF Mean %s \" % \"${:,.0f}\".format(pd.Series(pd.to_numeric(sfcensus[\"B19013_001E\"].dropna())).mean()))\n",
    "print(\"Nation Mean %s\" % \"${:,.0f}\".format(pd.to_numeric(censusByZipCd2015_df[\"B19013_001E\"].dropna()).mean()))\n",
    "print(\"Random No SF Subset Mean %s\" % \"${:,.0f}\".format(pd.to_numeric(no_sf_subset[\"B19013_001E\"].dropna()).mean()))\n",
    "print(\"Random Subset Mean %s\" % \"${:,.0f}\".format(pd.to_numeric(random_subset[\"B19013_001E\"].dropna()).mean()))"
   ]
  },
  {
   "cell_type": "code",
   "execution_count": 389,
   "metadata": {},
   "outputs": [
    {
     "name": "stdout",
     "output_type": "stream",
     "text": [
      "Random No SF Subset Income per capita - signficant\n"
     ]
    },
    {
     "data": {
      "text/plain": [
       "Ttest_1sampResult(statistic=-2.9666464698950321, pvalue=0.0030768843676439997)"
      ]
     },
     "execution_count": 389,
     "metadata": {},
     "output_type": "execute_result"
    }
   ],
   "source": [
    "print(\"Random No SF Subset Income per capita - signficant\")\n",
    "stats.ttest_1samp(a=pd.Series(pd.to_numeric(no_sf_subset[\"B19301_001E\"].dropna())), popmean=pd.to_numeric(censusByZipCd2015_df[\"B19301_001E\"].dropna()).mean())"
   ]
  },
  {
   "cell_type": "code",
   "execution_count": 390,
   "metadata": {},
   "outputs": [
    {
     "name": "stdout",
     "output_type": "stream",
     "text": [
      "Random Subset Income per capita - signficant\n"
     ]
    },
    {
     "data": {
      "text/plain": [
       "Ttest_1sampResult(statistic=-1.6790474917916807, pvalue=0.093431512005378692)"
      ]
     },
     "execution_count": 390,
     "metadata": {},
     "output_type": "execute_result"
    }
   ],
   "source": [
    "print(\"Random Subset Income per capita - not signficant\")\n",
    "stats.ttest_1samp(a=pd.Series(pd.to_numeric(random_subset[\"B19301_001E\"].dropna())), popmean=pd.to_numeric(censusByZipCd2015_df[\"B19301_001E\"].dropna()).mean())"
   ]
  },
  {
   "cell_type": "code",
   "execution_count": 391,
   "metadata": {},
   "outputs": [
    {
     "name": "stdout",
     "output_type": "stream",
     "text": [
      "Income per capita\n",
      "SF Mean $27,256 \n",
      "Nation Mean $26,867\n",
      "Random No SF Mean $25,911 \n",
      "Random Subset Mean $26,306\n"
     ]
    }
   ],
   "source": [
    "print(\"Income per capita\")\n",
    "print(\"SF Mean %s \" % \"${:,.0f}\".format(pd.Series(pd.to_numeric(sfcensus[\"B19301_001E\"].dropna())).mean()))\n",
    "print(\"Nation Mean %s\" % \"${:,.0f}\".format(pd.to_numeric(censusByZipCd2015_df[\"B19301_001E\"].dropna()).mean()))\n",
    "print(\"Random No SF Mean %s \" % \"${:,.0f}\".format(pd.Series(pd.to_numeric(no_sf_subset[\"B19301_001E\"].dropna())).mean()))\n",
    "print(\"Random Subset Mean %s\" % \"${:,.0f}\".format(pd.to_numeric(random_subset[\"B19301_001E\"].dropna()).mean()))"
   ]
  },
  {
   "cell_type": "markdown",
   "metadata": {},
   "source": [
    "#### Economic Variables Result: Median household income is significantly more in Superfund areas; Income per capita is not significantly different - Is family size larger in Superfund areas?"
   ]
  },
  {
   "cell_type": "markdown",
   "metadata": {},
   "source": [
    "### Employment Status\n",
    "#### not normalized - determine the ratios"
   ]
  },
  {
   "cell_type": "code",
   "execution_count": 392,
   "metadata": {
    "collapsed": true
   },
   "outputs": [],
   "source": [
    "# get ratios\n",
    "sfcensus[\"B23025_002E\"] = pd.to_numeric(sfcensus[\"B23025_002E\"]) \n",
    "sfcensus[\"B23025_007E\"] = pd.to_numeric(sfcensus[\"B23025_007E\"]) \n",
    "censusByZipCd2015_df[\"B23025_002E\"] = pd.to_numeric(censusByZipCd2015_df[\"B23025_002E\"]) \n",
    "censusByZipCd2015_df[\"B23025_007E\"] = pd.to_numeric(censusByZipCd2015_df[\"B23025_007E\"]) \n",
    "\n",
    "no_sf_subset[\"B23025_002E\"] = pd.to_numeric(no_sf_subset[\"B23025_002E\"]) \n",
    "no_sf_subset[\"B23025_007E\"] = pd.to_numeric(no_sf_subset[\"B23025_007E\"]) \n",
    "random_subset[\"B23025_002E\"] = pd.to_numeric(random_subset[\"B23025_002E\"]) \n",
    "random_subset[\"B23025_007E\"] = pd.to_numeric(random_subset[\"B23025_007E\"]) \n",
    "\n",
    "sfcensus[\"TotalEmploymentStatus\"] = sfcensus[[\"B23025_002E\", \"B23025_007E\"]].sum(axis=1)\n",
    "censusByZipCd2015_df[\"TotalEmploymentStatus\"] = censusByZipCd2015_df[[\"B23025_002E\", \"B23025_007E\"]].sum(axis=1)\n",
    "no_sf_subset[\"TotalEmploymentStatus\"] = no_sf_subset[[\"B23025_002E\", \"B23025_007E\"]].sum(axis=1)\n",
    "random_subset[\"TotalEmploymentStatus\"] = random_subset[[\"B23025_002E\", \"B23025_007E\"]].sum(axis=1)\n",
    "\n",
    "sfcensus[\"Employed Ratio\"] = sfcensus[\"B23025_002E\"] / sfcensus[\"TotalEmploymentStatus\"]\n",
    "censusByZipCd2015_df[\"Employed Ratio\"] = censusByZipCd2015_df[\"B23025_002E\"] / censusByZipCd2015_df[\"TotalEmploymentStatus\"]\n",
    "# sfcensus[\"Unemployed Ratio\"] = sfcensus[\"B23025_007E\"] / sfcensus[\"TotalEmploymentStatus\"]\n",
    "# censusByZipCd2015_df[\"Unemployed Ratio\"] = censusByZipCd2015_df[\"B23025_007E\"] / censusByZipCd2015_df[\"TotalEmploymentStatus\"]\n",
    "no_sf_subset[\"Employed Ratio\"] = no_sf_subset[\"B23025_002E\"] / no_sf_subset[\"TotalEmploymentStatus\"]\n",
    "random_subset[\"Employed Ratio\"] = random_subset[\"B23025_002E\"] / random_subset[\"TotalEmploymentStatus\"]"
   ]
  },
  {
   "cell_type": "code",
   "execution_count": 258,
   "metadata": {},
   "outputs": [
    {
     "name": "stdout",
     "output_type": "stream",
     "text": [
      "Employed - significant\n"
     ]
    },
    {
     "data": {
      "text/plain": [
       "Ttest_1sampResult(statistic=-2609801.8425054904, pvalue=0.0)"
      ]
     },
     "execution_count": 258,
     "metadata": {},
     "output_type": "execute_result"
    }
   ],
   "source": [
    "print(\"SF Employed - significant\")\n",
    "stats.ttest_1samp(a=pd.Series(pd.to_numeric(sfcensus[\"Employed Ratio\"].dropna())), popmean=pd.to_numeric(censusByZipCd2015_df[\"TotalEmploymentStatus\"].dropna()).mean())"
   ]
  },
  {
   "cell_type": "code",
   "execution_count": 394,
   "metadata": {},
   "outputs": [
    {
     "name": "stdout",
     "output_type": "stream",
     "text": [
      "Random No SF Subset Employed - significant\n"
     ]
    },
    {
     "data": {
      "text/plain": [
       "Ttest_1sampResult(statistic=-2059091.2597625961, pvalue=0.0)"
      ]
     },
     "execution_count": 394,
     "metadata": {},
     "output_type": "execute_result"
    }
   ],
   "source": [
    "print(\"Random No SF Subset Employed - significant\")\n",
    "stats.ttest_1samp(a=pd.Series(pd.to_numeric(no_sf_subset[\"Employed Ratio\"].dropna())), popmean=pd.to_numeric(censusByZipCd2015_df[\"TotalEmploymentStatus\"].dropna()).mean())"
   ]
  },
  {
   "cell_type": "code",
   "execution_count": 395,
   "metadata": {},
   "outputs": [
    {
     "name": "stdout",
     "output_type": "stream",
     "text": [
      "Random Subset Employed - significant\n"
     ]
    },
    {
     "data": {
      "text/plain": [
       "Ttest_1sampResult(statistic=-1955876.6643272578, pvalue=0.0)"
      ]
     },
     "execution_count": 395,
     "metadata": {},
     "output_type": "execute_result"
    }
   ],
   "source": [
    "print(\"Random Subset Employed - significant\")\n",
    "stats.ttest_1samp(a=pd.Series(pd.to_numeric(random_subset[\"Employed Ratio\"].dropna())), popmean=pd.to_numeric(censusByZipCd2015_df[\"TotalEmploymentStatus\"].dropna()).mean())"
   ]
  },
  {
   "cell_type": "code",
   "execution_count": 396,
   "metadata": {},
   "outputs": [
    {
     "name": "stdout",
     "output_type": "stream",
     "text": [
      "SF Employment Rate 63.436950\n",
      "Nation Employment Rate 60.011797\n",
      "Random No SF Subset SF Employment Rate 59.873621\n",
      "Random Employment Rate 59.378734\n"
     ]
    }
   ],
   "source": [
    "print(\"SF Employment Rate %f\" % (sfcensus[\"Employed Ratio\"].mean()*100))\n",
    "print(\"Nation Employment Rate %f\" % (censusByZipCd2015_df[\"Employed Ratio\"].mean()*100))\n",
    "print(\"Random No SF Subset SF Employment Rate %f\" % (no_sf_subset[\"Employed Ratio\"].mean()*100))\n",
    "print(\"Random Employment Rate %f\" % (random_subset[\"Employed Ratio\"].mean()*100))"
   ]
  },
  {
   "cell_type": "markdown",
   "metadata": {},
   "source": [
    "#### Employment Status Result: Employment percentage is significantly higher in Superfund area"
   ]
  },
  {
   "cell_type": "code",
   "execution_count": 265,
   "metadata": {
    "collapsed": true
   },
   "outputs": [],
   "source": [
    "# look at types of jobs?"
   ]
  },
  {
   "cell_type": "code",
   "execution_count": 266,
   "metadata": {
    "collapsed": true
   },
   "outputs": [],
   "source": [
    "# multiply employment rate by population?"
   ]
  },
  {
   "cell_type": "markdown",
   "metadata": {},
   "source": [
    "### Housing\n",
    "#### normalized"
   ]
  },
  {
   "cell_type": "code",
   "execution_count": 398,
   "metadata": {},
   "outputs": [
    {
     "name": "stdout",
     "output_type": "stream",
     "text": [
      "SF Median home value - significant\n"
     ]
    },
    {
     "data": {
      "text/plain": [
       "Ttest_1sampResult(statistic=5.2383258399985149, pvalue=1.9608628676500721e-07)"
      ]
     },
     "execution_count": 398,
     "metadata": {},
     "output_type": "execute_result"
    }
   ],
   "source": [
    "print(\"SF Median home value - significant\")\n",
    "stats.ttest_1samp(a=pd.Series(pd.to_numeric(sfcensus[\"B25077_001E\"].dropna())), popmean=pd.to_numeric(censusByZipCd2015_df[\"B25077_001E\"].dropna()).mean())"
   ]
  },
  {
   "cell_type": "code",
   "execution_count": 400,
   "metadata": {},
   "outputs": [
    {
     "name": "stdout",
     "output_type": "stream",
     "text": [
      "Random No SF Subset Median home value - significant\n"
     ]
    },
    {
     "data": {
      "text/plain": [
       "Ttest_1sampResult(statistic=-2.6973718981860966, pvalue=0.0071038436126521732)"
      ]
     },
     "execution_count": 400,
     "metadata": {},
     "output_type": "execute_result"
    }
   ],
   "source": [
    "print(\"Random No SF Subset Median home value - significant\")\n",
    "stats.ttest_1samp(a=pd.Series(pd.to_numeric(no_sf_subset[\"B25077_001E\"].dropna())), popmean=pd.to_numeric(censusByZipCd2015_df[\"B25077_001E\"].dropna()).mean())"
   ]
  },
  {
   "cell_type": "code",
   "execution_count": 402,
   "metadata": {},
   "outputs": [
    {
     "name": "stdout",
     "output_type": "stream",
     "text": [
      "Random Subset Median home value - not significant\n"
     ]
    },
    {
     "data": {
      "text/plain": [
       "Ttest_1sampResult(statistic=0.54385780899471958, pvalue=0.58665947006220109)"
      ]
     },
     "execution_count": 402,
     "metadata": {},
     "output_type": "execute_result"
    }
   ],
   "source": [
    "print(\"Random Subset Median home value - not significant\")\n",
    "stats.ttest_1samp(a=pd.Series(pd.to_numeric(random_subset[\"B25077_001E\"].dropna())), popmean=pd.to_numeric(censusByZipCd2015_df[\"B25077_001E\"].dropna()).mean())"
   ]
  },
  {
   "cell_type": "code",
   "execution_count": 403,
   "metadata": {},
   "outputs": [
    {
     "name": "stdout",
     "output_type": "stream",
     "text": [
      "Median home value\n",
      "SF Mean $198,718 \n",
      "Nation Mean $174,909\n",
      "Random No SF Subset Mean $162,858 \n",
      "Random Subset Mean $177,537\n"
     ]
    }
   ],
   "source": [
    "print(\"Median home value\")\n",
    "print(\"SF Mean %s \" % \"${:,.0f}\".format(pd.Series(pd.to_numeric(sfcensus[\"B25077_001E\"].dropna())).mean()))\n",
    "print(\"Nation Mean %s\" % \"${:,.0f}\".format(pd.to_numeric(censusByZipCd2015_df[\"B25077_001E\"].dropna()).mean()))\n",
    "print(\"Random No SF Subset Mean %s \" % \"${:,.0f}\".format(pd.Series(pd.to_numeric(no_sf_subset[\"B25077_001E\"].dropna())).mean()))\n",
    "print(\"Random Subset Mean %s\" % \"${:,.0f}\".format(pd.to_numeric(random_subset[\"B25077_001E\"].dropna()).mean()))"
   ]
  },
  {
   "cell_type": "code",
   "execution_count": 409,
   "metadata": {},
   "outputs": [
    {
     "name": "stdout",
     "output_type": "stream",
     "text": [
      "Percentage of income towards housing\n",
      "SF Owning percentage of income towards housing - Significant\n"
     ]
    },
    {
     "data": {
      "text/plain": [
       "Ttest_1sampResult(statistic=7.5333281989455694, pvalue=1.0830041191670336e-13)"
      ]
     },
     "execution_count": 409,
     "metadata": {},
     "output_type": "execute_result"
    }
   ],
   "source": [
    "# B25088_002E - median_monthly_owner_costs\n",
    "# B25064_001E - gross rent\n",
    "# B19013_001E - median hh income\n",
    "print(\"Percentage of income towards housing\")\n",
    "sfcensus[\"B25088_002E\"] = pd.to_numeric(sfcensus[\"B25088_002E\"]) \n",
    "censusByZipCd2015_df[\"B25088_002E\"] = pd.to_numeric(censusByZipCd2015_df[\"B25088_002E\"])\n",
    "sfcensus[\"B25064_001E\"] = pd.to_numeric(sfcensus[\"B25064_001E\"]) \n",
    "censusByZipCd2015_df[\"B25064_001E\"] = pd.to_numeric(censusByZipCd2015_df[\"B25064_001E\"])\n",
    "\n",
    "no_sf_subset[\"B25088_002E\"] = pd.to_numeric(no_sf_subset[\"B25088_002E\"]) \n",
    "random_subset[\"B25088_002E\"] = pd.to_numeric(random_subset[\"B25088_002E\"]) \n",
    "no_sf_subset[\"B25064_001E\"] = pd.to_numeric(no_sf_subset[\"B25064_001E\"]) \n",
    "random_subset[\"B25064_001E\"] = pd.to_numeric(random_subset[\"B25064_001E\"]) \n",
    "\n",
    "sfcensus[\"incomeOwning\"] = (sfcensus[\"B25088_002E\"]*12)/pd.to_numeric(sfcensus[\"B19013_001E\"])\n",
    "censusByZipCd2015_df[\"incomeOwning\"] = (censusByZipCd2015_df[\"B25088_002E\"]*12)/pd.to_numeric(censusByZipCd2015_df[\"B19013_001E\"])\n",
    "no_sf_subset[\"incomeOwning\"] = (no_sf_subset[\"B25088_002E\"]*12)/pd.to_numeric(no_sf_subset[\"B19013_001E\"])\n",
    "random_subset[\"incomeOwning\"] = (random_subset[\"B25088_002E\"]*12)/pd.to_numeric(random_subset[\"B19013_001E\"])\n",
    "\n",
    "sfcensus[\"incomeRenting\"] = (sfcensus[\"B25064_001E\"]*12)/pd.to_numeric(sfcensus[\"B19013_001E\"])\n",
    "censusByZipCd2015_df[\"incomeRenting\"] = (censusByZipCd2015_df[\"B25064_001E\"] * 12)/pd.to_numeric(censusByZipCd2015_df[\"B19013_001E\"])\n",
    "no_sf_subset[\"incomeRenting\"] = (no_sf_subset[\"B25064_001E\"]*12)/pd.to_numeric(no_sf_subset[\"B19013_001E\"])\n",
    "random_subset[\"incomeRenting\"] = (random_subset[\"B25064_001E\"] * 12)/pd.to_numeric(random_subset[\"B19013_001E\"])\n",
    "\n",
    "\n",
    "print(\"SF Owning percentage of income towards housing - Significant\")\n",
    "stats.ttest_1samp(a=pd.Series(pd.to_numeric(sfcensus[\"incomeOwning\"].dropna())), popmean=pd.to_numeric(censusByZipCd2015_df[\"incomeOwning\"].dropna()).mean())"
   ]
  },
  {
   "cell_type": "code",
   "execution_count": 414,
   "metadata": {},
   "outputs": [
    {
     "name": "stdout",
     "output_type": "stream",
     "text": [
      "Random No SF Subset SF Renting percentage of income towards housing - WILDLY significant\n"
     ]
    },
    {
     "data": {
      "text/plain": [
       "Ttest_1sampResult(statistic=32.06781778237351, pvalue=1.6629736267861125e-154)"
      ]
     },
     "execution_count": 414,
     "metadata": {},
     "output_type": "execute_result"
    }
   ],
   "source": [
    "print(\"Random No SF Subset SF Renting percentage of income towards housing - WILDLY significant\")\n",
    "stats.ttest_1samp(a=pd.Series(pd.to_numeric(no_sf_subset[\"incomeOwning\"].dropna())), popmean=pd.to_numeric(censusByZipCd2015_df[\"incomeRenting\"].dropna()).mean())"
   ]
  },
  {
   "cell_type": "code",
   "execution_count": 415,
   "metadata": {},
   "outputs": [
    {
     "name": "stdout",
     "output_type": "stream",
     "text": [
      "Random Subset SF Renting percentage of income towards housing - WILDLY significant\n"
     ]
    },
    {
     "data": {
      "text/plain": [
       "Ttest_1sampResult(statistic=38.97921644931575, pvalue=1.6317377429303619e-200)"
      ]
     },
     "execution_count": 415,
     "metadata": {},
     "output_type": "execute_result"
    }
   ],
   "source": [
    "print(\"Random Subset SF Renting percentage of income towards housing - WILDLY significant\")\n",
    "stats.ttest_1samp(a=pd.Series(pd.to_numeric(random_subset[\"incomeOwning\"].dropna())), popmean=pd.to_numeric(censusByZipCd2015_df[\"incomeRenting\"].dropna()).mean())"
   ]
  },
  {
   "cell_type": "code",
   "execution_count": null,
   "metadata": {
    "collapsed": true
   },
   "outputs": [],
   "source": [
    "print(\"SF Renting percentage of income towards housing\")\n",
    "stats.ttest_1samp(a=pd.Series(pd.to_numeric(sfcensus[\"incomeRenting\"].dropna())), popmean=pd.to_numeric(censusByZipCd2015_df[\"incomeRenting\"].dropna()).mean())"
   ]
  },
  {
   "cell_type": "code",
   "execution_count": 416,
   "metadata": {},
   "outputs": [
    {
     "name": "stdout",
     "output_type": "stream",
     "text": [
      "Percentage of income towards housing - owning\n",
      "SF Mean 33.47% \n",
      "Nation Mean 31.23%\n",
      "Random No SF Subset Mean 30.79% \n",
      "Random Subset Mean 30.75%\n",
      "Percentage of income towards housing - renting\n",
      "SF Mean 20.89% \n",
      "Nation Mean 19.63%\n"
     ]
    }
   ],
   "source": [
    "print(\"Percentage of income towards housing - owning\")\n",
    "print(\"SF Mean %s \" % \"{:,.2f}%\".format(pd.Series(pd.to_numeric(sfcensus[\"incomeOwning\"].dropna())).mean()*100))\n",
    "print(\"Nation Mean %s\" % \"{:,.2f}%\".format(pd.to_numeric(censusByZipCd2015_df[\"incomeOwning\"].dropna()).mean()*100))\n",
    "print(\"Random No SF Subset Mean %s \" % \"{:,.2f}%\".format(pd.Series(pd.to_numeric(no_sf_subset[\"incomeOwning\"].dropna())).mean()*100))\n",
    "print(\"Random Subset Mean %s\" % \"{:,.2f}%\".format(pd.to_numeric(random_subset[\"incomeOwning\"].dropna()).mean()*100))\n",
    "\n",
    "print(\"Percentage of income towards housing - renting\")\n",
    "print(\"SF Mean %s \" % \"{:,.2f}%\".format(pd.Series(pd.to_numeric(sfcensus[\"incomeRenting\"].dropna())).mean()*100))\n",
    "print(\"Nation Mean %s\" % \"{:,.2f}%\".format(pd.to_numeric(censusByZipCd2015_df[\"incomeRenting\"].dropna()).mean()*100))"
   ]
  },
  {
   "cell_type": "markdown",
   "metadata": {},
   "source": [
    "#### Housing Result: Median home value is significantly higher in areas with Superfund sites"
   ]
  }
 ],
 "metadata": {
  "kernelspec": {
   "display_name": "Python [conda env:PythonData]",
   "language": "python",
   "name": "conda-env-PythonData-py"
  },
  "language_info": {
   "codemirror_mode": {
    "name": "ipython",
    "version": 3
   },
   "file_extension": ".py",
   "mimetype": "text/x-python",
   "name": "python",
   "nbconvert_exporter": "python",
   "pygments_lexer": "ipython3",
   "version": "3.6.1"
  }
 },
 "nbformat": 4,
 "nbformat_minor": 2
}
